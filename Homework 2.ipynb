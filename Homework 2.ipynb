{
 "cells": [
  {
   "cell_type": "markdown",
   "metadata": {},
   "source": [
    "# • Hoeffding's Inequality"
   ]
  },
  {
   "cell_type": "markdown",
   "metadata": {},
   "source": [
    "### Run a computer simulation for flipping 1,000 virtual fair coins. Flip each coin independently 10 times. Focus on 3 coins as follows: $c_1$ is the first coin flipped, $c_{rand}$ is a coin chosen randomly from the 1,000, and $c_{min}$ is the coin which had the minimum frequency of heads (pick the earlier one in case of a tie). Let $ν_1$, $ν_{rand}$, and $ν_{min}$ be the fraction of heads obtained for the 3 respective coins out of the 10 tosses. Run the experiment 100,000 times in order to get a full distribution of $ν_1$, $ν_{rand}$, and $ν_{min}$ (note that crand and cmin will change from run to run)."
   ]
  },
  {
   "cell_type": "markdown",
   "metadata": {},
   "source": [
    "# Let's create a function that flips a 1000 coins 10 times"
   ]
  },
  {
   "cell_type": "code",
   "execution_count": 1,
   "metadata": {
    "collapsed": false
   },
   "outputs": [],
   "source": [
    "import numpy as np"
   ]
  },
  {
   "cell_type": "code",
   "execution_count": 2,
   "metadata": {
    "collapsed": false
   },
   "outputs": [],
   "source": [
    "n = 10   # number of of flips\n",
    "N = 1000 # number of coins\n",
    "p = 0.5  # fair coin\n",
    "\n",
    "flip_onethousand_coins_ten_times = lambda n, p, N: np.random.binomial(n, p, size=N)"
   ]
  },
  {
   "cell_type": "code",
   "execution_count": 3,
   "metadata": {
    "collapsed": false
   },
   "outputs": [],
   "source": [
    "flips = flip_onethousand_coins_ten_times(n, p, N)"
   ]
  },
  {
   "cell_type": "code",
   "execution_count": 4,
   "metadata": {
    "collapsed": false
   },
   "outputs": [],
   "source": [
    "c_1    = flips[0]                # first coin flipped\n",
    "c_rand = np.random.choice(flips) # random coin flipped\n",
    "c_min  = flips.min()             # coin with minimum frequency"
   ]
  },
  {
   "cell_type": "code",
   "execution_count": 5,
   "metadata": {
    "collapsed": false
   },
   "outputs": [
    {
     "data": {
      "text/plain": [
       "0.59999999999999998"
      ]
     },
     "execution_count": 5,
     "metadata": {},
     "output_type": "execute_result"
    }
   ],
   "source": [
    "c_1/n"
   ]
  },
  {
   "cell_type": "code",
   "execution_count": 6,
   "metadata": {
    "collapsed": false
   },
   "outputs": [
    {
     "name": "stdout",
     "output_type": "stream",
     "text": [
      "c1 = 6\n",
      "crand = 5\n",
      "cmin = 0\n"
     ]
    }
   ],
   "source": [
    "print(\"c1 = {}\".format(c_1))\n",
    "print(\"crand = {}\".format(c_rand))\n",
    "print(\"cmin = {}\".format(c_min))"
   ]
  },
  {
   "cell_type": "markdown",
   "metadata": {},
   "source": [
    "# Let's run this function 100,000 times!"
   ]
  },
  {
   "cell_type": "code",
   "execution_count": 7,
   "metadata": {
    "collapsed": true
   },
   "outputs": [],
   "source": [
    "def experiment(trials=100000):\n",
    "    nu_1s, nu_rands, nu_mins = np.zeros(trials), np.zeros(trials), np.zeros(trials)\n",
    "    for trial in range(trials):\n",
    "        flips = flip_onethousand_coins_ten_times(n, p, N)\n",
    "        c_1    = flips[0]                # first coin flipped\n",
    "        c_rand = np.random.choice(flips) # random coin flipped\n",
    "        c_min  = flips.min()             # coin with minimum frequency\n",
    "        nu_1s[trial]    = c_1 / n\n",
    "        nu_rands[trial] = c_rand / n\n",
    "        nu_mins[trial]  = c_min / n\n",
    "    return (nu_1s, nu_rands, nu_mins)\n",
    "    "
   ]
  },
  {
   "cell_type": "code",
   "execution_count": 8,
   "metadata": {
    "collapsed": false
   },
   "outputs": [],
   "source": [
    "nu_1s, nu_rands, nu_mins = experiment()"
   ]
  },
  {
   "cell_type": "code",
   "execution_count": 9,
   "metadata": {
    "collapsed": false
   },
   "outputs": [
    {
     "data": {
      "text/plain": [
       "100000"
      ]
     },
     "execution_count": 9,
     "metadata": {},
     "output_type": "execute_result"
    }
   ],
   "source": [
    "len(nu_1s)"
   ]
  },
  {
   "cell_type": "markdown",
   "metadata": {},
   "source": [
    "# 1. The average value of $ν_{min}$ is closest to:"
   ]
  },
  {
   "cell_type": "code",
   "execution_count": 10,
   "metadata": {
    "collapsed": false
   },
   "outputs": [
    {
     "name": "stdout",
     "output_type": "stream",
     "text": [
      "average value of nu_min is: 0.037745\n"
     ]
    }
   ],
   "source": [
    "avg_nu_min = nu_mins.mean()\n",
    "print(\"average value of nu_min is: {}\".format(avg_nu_min))"
   ]
  },
  {
   "cell_type": "markdown",
   "metadata": {},
   "source": [
    "### The average $\\nu_{min}$ is closest to 0.01"
   ]
  },
  {
   "cell_type": "markdown",
   "metadata": {},
   "source": [
    "# 2. Which coin(s) has a distribution of $ν$ that satisfies the (single-bin) Hoeffding Inequality?"
   ]
  },
  {
   "cell_type": "code",
   "execution_count": 11,
   "metadata": {
    "collapsed": true
   },
   "outputs": [],
   "source": [
    "import matplotlib.mlab as mlab\n",
    "import matplotlib.pyplot as plt\n",
    "import scipy.stats as stats\n",
    "%matplotlib inline"
   ]
  },
  {
   "cell_type": "code",
   "execution_count": 12,
   "metadata": {
    "collapsed": false
   },
   "outputs": [
    {
     "data": {
      "image/png": "[encoded data removed]",
      "text/plain": [
       "<matplotlib.figure.Figure at 0x108aabf98>"
      ]
     },
     "metadata": {},
     "output_type": "display_data"
    },
    {
     "data": {
      "image/png": "[encoded data removed]",
      "text/plain": [
       "<matplotlib.figure.Figure at 0x1091e7f28>"
      ]
     },
     "metadata": {},
     "output_type": "display_data"
    },
    {
     "data": {
      "image/png": "[encoded data removed]",
      "text/plain": [
       "<matplotlib.figure.Figure at 0x108d052e8>"
      ]
     },
     "metadata": {},
     "output_type": "display_data"
    }
   ],
   "source": [
    "# %load http://matplotlib.org/mpl_examples/statistics/histogram_demo_features.py\n",
    "\"\"\"\n",
    "Demo of the histogram (hist) function with a few features.\n",
    "\n",
    "In addition to the basic histogram, this demo shows a few optional features:\n",
    "\n",
    "    * Setting the number of data bins\n",
    "    * The ``normed`` flag, which normalizes bin heights so that the integral of\n",
    "      the histogram is 1. The resulting histogram is a probability density.\n",
    "    * Setting the face color of the bars\n",
    "    * Setting the opacity (alpha value).\n",
    "\n",
    "\"\"\"\n",
    "data = [nu_1s, nu_rands, nu_mins]\n",
    "titles = [\"nu_mins\", \"nu_rands\", \"nu_mins\"]\n",
    "for i in range(3):\n",
    "    plt.figure(i)\n",
    "    # example data\n",
    "    x = sorted(data[i]) # distribution\n",
    "    mu = np.mean(x)     # mean of distribution\n",
    "    sigma = np.std(x)   # standard deviation of distribution\n",
    "    \n",
    "\n",
    "    num_bins = 11\n",
    "    # the histogram of the data\n",
    "    weights = np.ones_like(x)/len(x)\n",
    "    n, bins, patches = plt.hist(x, weights=weights, bins=num_bins, normed=False, facecolor='green', alpha=0.5)\n",
    "    y = mlab.normpdf(bins, mu, sigma) / num_bins\n",
    "    \n",
    "    plt.plot(bins, y, 'r--')\n",
    "    plt.xlabel('{}'.format(titles[i]))\n",
    "    plt.ylabel('Probability')\n",
    "    plt.title(r'Histogram of {}: $\\mu={}$, $\\sigma={}$'.format(titles[i], \n",
    "                                                               round(mu, 2), \n",
    "                                                               round(sigma,2)\n",
    "                                                              )\n",
    "             )\n",
    "\n",
    "    # Tweak spacing to prevent clipping of ylabel\n",
    "    plt.subplots_adjust(left=0.15)\n",
    "plt.show()"
   ]
  },
  {
   "cell_type": "markdown",
   "metadata": {},
   "source": [
    "### Since the Hoeffding Inequality is applicable to binomial distributions (flipping coins), the first two graphs exhibit this distribution.\n",
    "\n",
    "### Hence $c_{1}$ and $c_{rand}$ satisfies the (single-bin) Hoeffding Inequality."
   ]
  },
  {
   "cell_type": "markdown",
   "metadata": {},
   "source": [
    "<br><br>"
   ]
  },
  {
   "cell_type": "markdown",
   "metadata": {},
   "source": [
    "# • Error and Noise"
   ]
  },
  {
   "cell_type": "markdown",
   "metadata": {},
   "source": [
    "### Consider the bin model for a hypothesis $h$ that makes an error with probability $\\mu$ in approximating a deterministic target function $f$ (both $h$ and $f$ are binary functions). If we use the same h to approximate a noisy version of $f$ given by:"
   ]
  },
  {
   "cell_type": "markdown",
   "metadata": {},
   "source": [
    "\\begin{eqnarray}\n",
    "    P(y \\mid x) = \\begin{cases}\n",
    "                                        \\lambda, \n",
    "                                           & \\quad \\text{if } y = f(x),\\\\\n",
    "                                        1-\\lambda, & \\quad \\text{if } y \\neq f(x),\\\\\n",
    "                                    \\end{cases}\n",
    "\\end{eqnarray}"
   ]
  },
  {
   "cell_type": "markdown",
   "metadata": {},
   "source": [
    "### 3. What is the probability of error that h makes in approximating y? Hint: Two wrongs can make a right!"
   ]
  },
  {
   "cell_type": "markdown",
   "metadata": {},
   "source": [
    "$P(h(x)\\neq y)$\n",
    "\n",
    "$h(x)\\neq y \\to (y \\neq f(x) \\cap h(x) = f(x)) \\cup (y = f(x) \\cap h(x) \\neq f(x))$\n",
    "\n",
    "$P(y \\neq f(x) \\cap h(x) = f(x)) \\cup (y = f(x) \\cap h(x) \\neq f(x))$\n",
    "\n",
    "$P(y \\neq f(x) \\cap h(x) = f(x) ) + P(y = f(x) \\cap h(x) \\neq f(x) )$\n",
    "\n",
    "$P(y \\neq f(x))P(h(x) = f(x)) + P(y = f(x))P(h(x) \\neq f(x))$\n",
    "\n",
    "$(1-\\lambda)(1 - \\mu)+ \\lambda\\mu $"
   ]
  },
  {
   "cell_type": "markdown",
   "metadata": {},
   "source": [
    "### 4. At what value of λ will the performance of h be independent of µ?"
   ]
  },
  {
   "cell_type": "markdown",
   "metadata": {},
   "source": [
    "$h(x)\\neq y \\perp \\mu \\to  P(h(x)\\neq y) = \\frac{1}{2}$\n",
    "\n",
    "$(1-\\lambda)(1 - \\mu)+ \\lambda\\mu = \\frac{1}{2}$\n",
    "\n",
    "$2\\lambda\\mu -\\lambda - \\mu + 1 = \\frac{1}{2}$\n",
    "\n",
    "$2\\lambda(\\mu - \\frac{1}{2}) = \\mu -  \\frac{1}{2}$\n",
    "\n",
    "$2\\lambda = 1$\n",
    "\n",
    "$\\lambda = \\frac{1}{2}$"
   ]
  },
  {
   "cell_type": "markdown",
   "metadata": {},
   "source": [
    "# • Linear Regression"
   ]
  },
  {
   "cell_type": "markdown",
   "metadata": {},
   "source": [
    "\n",
    "### In these problems, we will explore how Linear Regression for classification works. As with the Perceptron Learning Algorithm in Homework # 1, you will create your own target function $f$ and data set $D$. Take d = 2 so you can visualize the problem, and assume $X = [−1, 1] × [−1, 1]$ with uniform probability of picking each $x ∈ X$ . In each run, choose a random line in the plane as your target function $f$ (do this by taking two random, uniformly distributed points in $[−1, 1] × [−1, 1]$ and taking the line passing through them), where one side of the line maps to $+1 $and the other maps to $−1$. Choose the inputs $x_n$ of the data set as random points (uniformly in $X$ ), and evaluate the target function on each $x_n$ to get the corresponding output $y_n$."
   ]
  },
  {
   "cell_type": "markdown",
   "metadata": {},
   "source": [
    "### 5. Take $N = 100$. Use Linear Regression to find $g$ and evaluate $E_{in}$, the fraction of in-sample points which got classified incorrectly. Repeat the experiment $1000$ times and take the average (keep the $g$’s as they will be used again in Problem 6). Which of the following values is closest to the average $E_{in}$? (Closest is the option that makes the expression $|your\\ answer −given\\ option|$ closest to $0$. Use this definition of closest here and throughout.)"
   ]
  },
  {
   "cell_type": "markdown",
   "metadata": {},
   "source": [
    "# Let's make our random $f(x)$ line function!"
   ]
  },
  {
   "cell_type": "code",
   "execution_count": 13,
   "metadata": {
    "collapsed": false
   },
   "outputs": [],
   "source": [
    "from sklearn.linear_model import LinearRegression\n",
    "from numpy.linalg import inv"
   ]
  },
  {
   "cell_type": "code",
   "execution_count": 99,
   "metadata": {
    "collapsed": true
   },
   "outputs": [],
   "source": [
    "def make_weights_for_fx(points):\n",
    "    \"\"\"Creates the d=2 weight vector for f(x) from \n",
    "       the random two points selected.\n",
    "       \n",
    "       Args:\n",
    "       \n",
    "       points: 2 x 2 array representing the two random points\n",
    "       \n",
    "       Returns:\n",
    "       A tuple 2-items tuple representing (intercept, slope)\n",
    "    \"\"\"\n",
    "    \n",
    "    lr = LinearRegression()\n",
    "    x_vector = points[:, 0].reshape(-1,1)\n",
    "    y_vector = points[:, 1].reshape(-1,1)\n",
    "    lr.fit(x_vector, y_vector)\n",
    "    w0_f = lr.intercept_[0]\n",
    "    w1_f = lr.coef_[0][0]\n",
    "    return np.array((w0_f, w1_f))"
   ]
  },
  {
   "cell_type": "markdown",
   "metadata": {},
   "source": [
    "# Now let's make a function that creates some random points and labels!"
   ]
  },
  {
   "cell_type": "code",
   "execution_count": 94,
   "metadata": {
    "collapsed": true
   },
   "outputs": [],
   "source": [
    "def create_random_points_and_labels(N, weights_fx):\n",
    "    \"\"\"Creates N random points in the space of  [−1, 1] × [−1, 1]\n",
    "       and them labels them based on what side of of the line they\n",
    "       land on based on weights_fx.\n",
    "       \n",
    "    Args:\n",
    "    \n",
    "        N: Number of random points\n",
    "        weights_fx:  tuple representing (intercept, slope) of f(x)\n",
    "    \n",
    "    Returns:\n",
    "    \n",
    "        A tuple of the following items:\n",
    "            X: an N X D array representing the coordinates of of the points\n",
    "            Y: an N X 1 array representing +1 or -1 depending on which side of\n",
    "               the points land in relation to fx \n",
    "    \"\"\"\n",
    "    \n",
    "    X = np.random.uniform(-1,1,(N,2))\n",
    "    Y = X[:, 1] - X[:, 0] * weights_fx[1] - weights_fx[0] >= 0\n",
    "    Y = np.where(Y, 1, -1)\n",
    "    return(X, Y)"
   ]
  },
  {
   "cell_type": "markdown",
   "metadata": {},
   "source": [
    "# Now for our linear regression function to create $g(x)$!"
   ]
  },
  {
   "cell_type": "code",
   "execution_count": 100,
   "metadata": {
    "collapsed": false
   },
   "outputs": [
    {
     "data": {
      "text/plain": [
       "array([-1.13163955, -1.56739518])"
      ]
     },
     "execution_count": 100,
     "metadata": {},
     "output_type": "execute_result"
    }
   ],
   "source": [
    "two_random_points_for_line = np.random.uniform(-1, 1, (2, 2))    \n",
    "w_fx = make_weights_for_fx(two_random_points_for_line)\n",
    "w_fx"
   ]
  },
  {
   "cell_type": "code",
   "execution_count": 336,
   "metadata": {
    "collapsed": false
   },
   "outputs": [],
   "source": [
    "def linear_regression(N=100):\n",
    "    two_random_points_for_line = np.random.uniform(-1, 1, (2, 2))    \n",
    "    w_fx = make_weights_for_fx(two_random_points_for_line)\n",
    "    X, Y = create_random_points_and_labels(N, w_fx)\n",
    "    \n",
    "    X_new = np.hstack((np.ones((N, 1)), X))\n",
    "    Y_new = np.expand_dims(Y, 1) # need to change array into vector for calcs to work out!\n",
    "    \n",
    "    w_pseudo = np.dot(inv(np.dot(X_new.T, X_new)), X_new.T)\n",
    "    w_gx_new = np.dot(w_pseudo, Y_new)\n",
    "    \n",
    "    w_gx = -w_gx_new[:2]/w_gx_new[2] # change d + 1 vector into d vector for plotting\n",
    "    \n",
    "    Y_hat = np.where(np.dot(X_new, w_gx_new) > 0, 1, -1)\n",
    "    E_in = np.mean(Y_hat != np.expand_dims(Y,1)) # need to change array into vector for calcs to work out!\n",
    "    return(w_fx, w_gx, X, Y, w_gx_new, X_new, Y_new, E_in)"
   ]
  },
  {
   "cell_type": "markdown",
   "metadata": {},
   "source": [
    "# Ok let's create a plot function to inspect our linear regression classifer compared to $f(x)$\n"
   ]
  },
  {
   "cell_type": "code",
   "execution_count": 328,
   "metadata": {
    "collapsed": true
   },
   "outputs": [],
   "source": [
    "def plot_points_and_lines(weights_fx, weights_gx, X, Y, E_in):\n",
    "    \"\"\"Creates the plot of f(x) and g(x) lines along with labeled points\n",
    "    \n",
    "       Args:\n",
    "        weights_fx:  tuple representing (intercept, slope) of f(x)\n",
    "        weights_gx:  tuple representing (intercept, slope) of g(x)\n",
    "        X: an N X D array representing the coordinates of of the points\n",
    "        Y: an N X 1 array representing +1 or -1\n",
    "        \n",
    "    \"\"\"\n",
    "    \n",
    "    line = np.linspace(-1, 1, 1001) # points from 0-1000\n",
    "    \n",
    "    plt.plot(line, line * weights_fx[1] + weights_fx[0], label=\"f(x)\") # makes f(x) line\n",
    "    plt.plot(line, line * weights_gx[1]+  weights_gx[0], label=\"g(x)\") # makes g(x) line\n",
    "    \n",
    "    plt.ylim(-1, 1)\n",
    "    plt.xlim(-1, 1)\n",
    "    plt.title(\"E_in = {}\".format(round(E_in, 2)))\n",
    "    \n",
    "    plt.scatter(X[:, 0][Y==1],  X[:, 1][Y== 1], marker=\"+\", c=(\"r\"), label=\"+\")\n",
    "    plt.scatter(X[:, 0][Y==-1], X[:, 1][Y==-1], marker=\"_\", c=(\"b\"), label=\"-\")# colored based on Y = +1 or -1\n",
    "    plt.legend(loc=\"best\")"
   ]
  },
  {
   "cell_type": "code",
   "execution_count": 337,
   "metadata": {
    "collapsed": false,
    "scrolled": true
   },
   "outputs": [
    {
     "data": {
      "image/png": "[encoded data removed]",
      "text/plain": [
       "<matplotlib.figure.Figure at 0x10a275128>"
      ]
     },
     "metadata": {},
     "output_type": "display_data"
    }
   ],
   "source": [
    "w_fx, w_gx, X, Y, w_gx_new, X_new, Y_new, E_in = linear_regression()\n",
    "\n",
    "plot_points_and_lines(w_fx, w_gx, X, Y, E_in)"
   ]
  },
  {
   "cell_type": "markdown",
   "metadata": {},
   "source": [
    "# Now we create a function that combines  the previous functions\n",
    "# And runs them multiple times to get an average $E_{in}$."
   ]
  },
  {
   "cell_type": "code",
   "execution_count": 338,
   "metadata": {
    "collapsed": false
   },
   "outputs": [],
   "source": [
    "def experiment(N=100, trials = 1000):\n",
    "    \"\"\" Calculates Linear regression algorithm multiple times and gets\n",
    "        the average of Ein:\n",
    "        \n",
    "        args: \n",
    "        N: number of data points\n",
    "        trials: number of trials that are averaged \n",
    "        \"\"\"\n",
    "    \n",
    "    w_fs  = []\n",
    "    w_gs  = []\n",
    "    E_ins = np.zeros(trials)\n",
    "    \n",
    "    for trial in range(trials):\n",
    "        w_fx, w_gx, X, Y, w_gx_new, X_new, Y_new, E_in = linear_regression(N)\n",
    "        w_fs.append(w_fx)\n",
    "        w_gs.append(w_gx_new)\n",
    "        E_ins[trial] = E_in\n",
    "\n",
    "    return(w_fs, w_gs, np.mean(E_ins))"
   ]
  },
  {
   "cell_type": "code",
   "execution_count": 339,
   "metadata": {
    "collapsed": false
   },
   "outputs": [],
   "source": [
    "w_fs, w_gs, E_in = experiment()"
   ]
  },
  {
   "cell_type": "code",
   "execution_count": 340,
   "metadata": {
    "collapsed": false,
    "scrolled": true
   },
   "outputs": [
    {
     "name": "stdout",
     "output_type": "stream",
     "text": [
      "The average E_in after 1000 trials = 0.03785\n"
     ]
    }
   ],
   "source": [
    "print(\"The average E_in after 1000 trials = {}\".format(E_in))"
   ]
  },
  {
   "cell_type": "markdown",
   "metadata": {},
   "source": [
    "# The average $E_{in}$ after 1000 trials $\\approx$ 0.04"
   ]
  },
  {
   "cell_type": "markdown",
   "metadata": {},
   "source": [
    "# 6. Now, generate 1000 fresh points and use them to estimate the out-of-sample error $E_{out}$ of g that you got in Problem 5 (number of misclassified out-of-sample points / total number of out-of-sample points). Again, run the experiment 1000 times and take the average. Which value is closest to the average $E_{out}$?"
   ]
  },
  {
   "cell_type": "code",
   "execution_count": 354,
   "metadata": {
    "collapsed": false
   },
   "outputs": [],
   "source": [
    "def experiment2(w_fs, w_gs, N = 25):\n",
    "    E_outs = np.zeros(len(w_fs))\n",
    "\n",
    "    for i, (w_fx, w_gx_new) in enumerate(zip(w_fs, w_gs)):\n",
    "        X, Y = create_random_points_and_labels(N, w_fx)\n",
    "        X_new = np.hstack((np.ones((N, 1)), X))\n",
    "        Y_new = np.expand_dims(Y, 1) # need to change array into vector for calcs to work out!\n",
    "        Y_hat = np.where(np.dot(X_new, w_gx_new) > 0, 1, -1)\n",
    "        E_out = np.mean(Y_hat != np.expand_dims(Y,1))\n",
    "        E_outs[i] = E_out\n",
    "        \n",
    "    \n",
    "    return np.mean(E_outs)    "
   ]
  },
  {
   "cell_type": "code",
   "execution_count": 359,
   "metadata": {
    "collapsed": false
   },
   "outputs": [
    {
     "name": "stdout",
     "output_type": "stream",
     "text": [
      "For 1000 trials of fresh 1000 points average E_out is = 0.046\n"
     ]
    }
   ],
   "source": [
    "Avg_E_out = experiment2(w_fs, w_gs)\n",
    "print(\"For 1000 trials of fresh 1000 points average E_out is = {}\".format(round(Avg_E_out, 3)))"
   ]
  },
  {
   "cell_type": "markdown",
   "metadata": {},
   "source": [
    "# For 1000 trials of fresh 1000 points average $E_{out}\\approx$ 0.046"
   ]
  },
  {
   "cell_type": "markdown",
   "metadata": {},
   "source": [
    "# 7. Now, take $N = 10$. After finding the weights using Linear Regression, use them as a vector of initial weights for the Perceptron Learning Algorithm. Run PLA until it converges to a final vector of weights that completely separates all the in-sample points. Among the choices below, what is the closest value to the average number of iterations (over 1000 runs) that PLA takes to converge? (When implementing PLA, have the algorithm choose a point randomly from the set of misclassified points at each iteration)"
   ]
  },
  {
   "cell_type": "markdown",
   "metadata": {},
   "source": [
    "# Now for our PLA function to create another g(x)!"
   ]
  },
  {
   "cell_type": "code",
   "execution_count": 450,
   "metadata": {
    "collapsed": true
   },
   "outputs": [],
   "source": [
    "def make_weights_for_gx(X, Y, w_gx_new):\n",
    "    \"\"\"Creates the d=2 weight vector for gx based on using PLA.\n",
    "       \n",
    "    Args:\n",
    "       \n",
    "        X: an N X D array representing the coordinates of of the points\n",
    "        Y: an N X 1 array representing +1 or -1\n",
    "       \n",
    "       Returns:\n",
    "           \n",
    "           A tuple of the following items:\n",
    "            w0_g: represents intercept of g(x)\n",
    "            w1_g: represents slope of g(x)\n",
    "            n: the number of iterations needed for convergence\n",
    "               we will use that to answer the hw questions\n",
    "    \"\"\"\n",
    "    \n",
    "    converged = False\n",
    "    n = 0\n",
    "    w_g = w_gx_new # from Linear Regression algorithm\n",
    "    \n",
    "    while not converged:\n",
    "        converged = True\n",
    "        \n",
    "        # while the homework asks to choose a random misclassified point\n",
    "        # a for-loop essentially does the same job and doesn't affect \n",
    "        # the performance of the algorithm. In other texts the algorithm\n",
    "        # is stated as a for-loop\n",
    "        \n",
    "        for i in range(len(X)):\n",
    "            Xi = np.expand_dims(np.hstack((1,X[i])), 0)\n",
    "            if Y[i] * np.dot(Xi, w_g) < 0: # misclassified point?\n",
    "                n += 1 \n",
    "                w_g += Y[i]*Xi.T\n",
    "\n",
    "                converged = False\n",
    "             \n",
    "    return n"
   ]
  },
  {
   "cell_type": "code",
   "execution_count": 454,
   "metadata": {
    "collapsed": true
   },
   "outputs": [],
   "source": [
    "def experiment3(trials=1000, N=10):\n",
    "    iterations_over_trials = np.zeros(trials)\n",
    "    for trial in range(trials):\n",
    "        w_fx, w_gx, X, Y, w_gx_new, X_new, Y_new, E_in = linear_regression(N)\n",
    "        iterations = make_weights_for_gx(X, Y, w_gx_new)\n",
    "        iterations_over_trials[trial] = iterations\n",
    "        \n",
    "    return np.mean(iterations_over_trials)"
   ]
  },
  {
   "cell_type": "code",
   "execution_count": 466,
   "metadata": {
    "collapsed": false,
    "scrolled": true
   },
   "outputs": [
    {
     "name": "stderr",
     "output_type": "stream",
     "text": [
      "/usr/local/lib/python3.5/site-packages/ipykernel/__main__.py:12: RuntimeWarning: divide by zero encountered in true_divide\n",
      "/usr/local/lib/python3.5/site-packages/ipykernel/__main__.py:12: RuntimeWarning: invalid value encountered in true_divide\n"
     ]
    }
   ],
   "source": [
    "avg_iterations_PLA = experiment3()"
   ]
  },
  {
   "cell_type": "code",
   "execution_count": 467,
   "metadata": {
    "collapsed": false,
    "scrolled": true
   },
   "outputs": [
    {
     "name": "stdout",
     "output_type": "stream",
     "text": [
      "Average number for iterations to converge for PLA with \n",
      "         10 points using w_gx from linear regression as seed \n",
      "         with 1000 trials is: 5.0\n"
     ]
    }
   ],
   "source": [
    "print(\"\"\"Average number for iterations to converge for PLA with \n",
    "         10 points using w_gx from linear regression as seed \n",
    "         with 1000 trials is: {}\"\"\".format(round(avg_iterations_PLA)))"
   ]
  },
  {
   "cell_type": "markdown",
   "metadata": {},
   "source": [
    "# Average number for iterations to converge for PLA with $N = 10$ points using weights from linear regression as seed with 1000 runs $\\approx$ 5.0"
   ]
  },
  {
   "cell_type": "markdown",
   "metadata": {},
   "source": [
    "<br> <br>"
   ]
  },
  {
   "cell_type": "markdown",
   "metadata": {},
   "source": [
    "# • Nonlinear Transformation\n"
   ]
  },
  {
   "cell_type": "markdown",
   "metadata": {},
   "source": [
    "# In these problems, we again apply Linear Regression for classification. Consider the target function: $f(x_1, x_2) = sign(x_{1}^2 + x_{2}^2 − 0.6)$ Generate a training set of $N = 1000$ points on $X = [−1, 1] × [−1, 1]$ with a uniform probability of picking each $x ∈ X$ . Generate simulated noise by flipping the sign of the output in a randomly selected $10\\%$ subset of the generated training set."
   ]
  },
  {
   "cell_type": "markdown",
   "metadata": {},
   "source": [
    "# Now let's make a function that creates some random points and labels using the new target function!"
   ]
  },
  {
   "cell_type": "code",
   "execution_count": 527,
   "metadata": {
    "collapsed": true
   },
   "outputs": [],
   "source": [
    "def create_random_points_and_labels_new_target_function(N):\n",
    "    \"\"\"Creates N random points in the space of  [−1, 1] × [−1, 1]\n",
    "       and them labels them based on what side of of the line they\n",
    "       land on based on weights_fx.\n",
    "       \n",
    "    Args:\n",
    "    \n",
    "        N: Number of random points\n",
    "        weights_fx:  tuple representing (intercept, slope) of f(x)\n",
    "    \n",
    "    Returns:\n",
    "    \n",
    "        A tuple of the following items:\n",
    "            X: an N X D array representing the coordinates of of the points\n",
    "            Y: an N X 1 array representing +1 or -1 depending on which side of\n",
    "               the points land in relation to fx \n",
    "    \"\"\"\n",
    "    \n",
    "    X = np.random.uniform(-1,1,(N,2))\n",
    "    Y = X[:, 0]**2 + X[:, 1]**2 - 0.6 >= 0\n",
    "    Y = np.where(Y, 1, -1) \n",
    "    random_idx = np.random.choice(np.arange(len(Y)), N // 10, replace=False) # make 10% noise\n",
    "    Y[random_idx] = -Y[random_idx] # make 10% noise\n",
    "    return(X, Y)"
   ]
  },
  {
   "cell_type": "markdown",
   "metadata": {},
   "source": [
    "# Carry out Linear Regression without transformation, i.e., with feature vector:\n",
    "# <center>$(1, x_1, x_2)$,</center>  \n",
    "# to find the weight **$w$**. \n",
    "# What is the closest value to the classification in-sample error $E_{in}$? \n",
    "# (Run the experiment 1000 times and take the average $E_{in}$ to reduce variation in your results.)"
   ]
  },
  {
   "cell_type": "code",
   "execution_count": 541,
   "metadata": {
    "collapsed": true
   },
   "outputs": [],
   "source": [
    "def linear_regression_transformation_1(N=1000):\n",
    "    X, Y = create_random_points_and_labels_new_target_function(N)\n",
    "    \n",
    "    X_new = np.hstack((np.ones((N, 1)), X))\n",
    "    Y_new = np.expand_dims(Y, 1) # need to change array into vector for calcs to work out!\n",
    "    \n",
    "    w_pseudo = np.dot(inv(np.dot(X_new.T, X_new)), X_new.T)\n",
    "    w_gx_new = np.dot(w_pseudo, Y_new)\n",
    "        \n",
    "    Y_hat = np.where(np.dot(X_new, w_gx_new) > 0, 1, -1)\n",
    "    E_in = np.mean(Y_hat != np.expand_dims(Y,1)) # need to change array into vector for calcs to work out!\n",
    "    return E_in"
   ]
  },
  {
   "cell_type": "code",
   "execution_count": 535,
   "metadata": {
    "collapsed": true
   },
   "outputs": [],
   "source": [
    "def experiment4(trials=1000, N=1000):\n",
    "    E_ins = np.zeros(trials)\n",
    "    for trial in range(trials):\n",
    "        E_in = linear_regression_transformation_1(N) \n",
    "        E_ins[trial] = E_in\n",
    "        \n",
    "    return np.mean(E_ins)"
   ]
  },
  {
   "cell_type": "code",
   "execution_count": 536,
   "metadata": {
    "collapsed": false
   },
   "outputs": [],
   "source": [
    "Avg_E_in_transformation_1 = experiment4()\n"
   ]
  },
  {
   "cell_type": "code",
   "execution_count": 539,
   "metadata": {
    "collapsed": false
   },
   "outputs": [
    {
     "name": "stdout",
     "output_type": "stream",
     "text": [
      "For 1000 trials of fresh 1000 points average E_in is = 0.5\n"
     ]
    }
   ],
   "source": [
    "print(\"For 1000 trials of fresh 1000 points average E_in is = {}\".format(round(Avg_E_in_transformation_1, 1)))"
   ]
  },
  {
   "cell_type": "markdown",
   "metadata": {},
   "source": [
    "# 9. Now, transform the N = 1000 training data into the following nonlinear featurevvector:\n",
    "<center>$(1, x_1, x_2, x_{1}x_2, x_1^2, x_2^2)$</center>\n",
    "\n",
    "# Find the vector $\\tilde{w}$ that corresponds to the solution of Linear Regression. Which of the following hypotheses is closest to the one you find? Closest here means agrees the most with your hypothesis (has the highest probability of agreeing on a randomly selected point). Average over a few runs to make sure your answer is stable."
   ]
  },
  {
   "cell_type": "code",
   "execution_count": 594,
   "metadata": {
    "collapsed": true
   },
   "outputs": [],
   "source": [
    "def linear_regression_transformation_2(N=1000):\n",
    "    X, Y = create_random_points_and_labels_new_target_function(N)\n",
    "    \n",
    "    X_new = np.hstack( (np.ones((N, 1)),\n",
    "                    X, \n",
    "                    (X[:, 0] * X[:, 1])[:,np.newaxis], \n",
    "                    (X[:, 0]**2)[:,np.newaxis], \n",
    "                    (X[:, 1]**2)[:,np.newaxis]))\n",
    "    \n",
    "    Y_new = np.expand_dims(Y, 1) # need to change array into vector for calcs to work out!\n",
    "    \n",
    "    w_pseudo = np.dot(inv(np.dot(X_new.T, X_new)), X_new.T)\n",
    "    w_gx_new = np.dot(w_pseudo, Y_new)\n",
    "        \n",
    "    Y_hat = np.where(np.dot(X_new, w_gx_new) > 0, 1, -1)\n",
    "    E_out = np.mean(Y_hat != np.expand_dims(Y,1)) # need to change array into vector for calcs to work out!\n",
    "    return (E_out, w_gx_new)"
   ]
  },
  {
   "cell_type": "code",
   "execution_count": 597,
   "metadata": {
    "collapsed": false
   },
   "outputs": [
    {
     "name": "stdout",
     "output_type": "stream",
     "text": [
      "w_tilde is approximately [[-0.93 -0.02  0.03  0.06  1.51  1.47]]\n"
     ]
    }
   ],
   "source": [
    "w_tilde = linear_regression_transformation_2()[1]\n",
    "\n",
    "print(\"w_tilde is approximately {}\".format(np.round(w_tilde.T,2)))"
   ]
  },
  {
   "cell_type": "markdown",
   "metadata": {},
   "source": [
    "# The answer is A"
   ]
  },
  {
   "cell_type": "markdown",
   "metadata": {},
   "source": [
    "# 10. What is the closest value to the classification out-of-sample error $E_{out}$ of your hypothesis from Problem 9? (Estimate it by generating a new set of 1000 points and adding noise, as before. Average over 1000 runs to reduce the variation in your results.)"
   ]
  },
  {
   "cell_type": "code",
   "execution_count": 599,
   "metadata": {
    "collapsed": true
   },
   "outputs": [],
   "source": [
    "def experiment4(trials=1000, N=1000):\n",
    "    E_outs = np.zeros(trials)\n",
    "    for trial in range(trials):\n",
    "        E_out = linear_regression_transformation_2(N)[0]\n",
    "        E_outs[trial] = E_out\n",
    "        \n",
    "    return np.mean(E_outs)"
   ]
  },
  {
   "cell_type": "code",
   "execution_count": 600,
   "metadata": {
    "collapsed": true
   },
   "outputs": [],
   "source": [
    "Average_E_out = experiment4()"
   ]
  },
  {
   "cell_type": "code",
   "execution_count": 605,
   "metadata": {
    "collapsed": false
   },
   "outputs": [
    {
     "name": "stdout",
     "output_type": "stream",
     "text": [
      "For 1000 trials of fresh 1000 points average E_out is = 0.1\n"
     ]
    }
   ],
   "source": [
    "Average_E_out\n",
    "print(\"For 1000 trials of fresh 1000 points average E_out is = {}\".format(round(Average_E_out, 1)))"
   ]
  },
  {
   "cell_type": "markdown",
   "metadata": {},
   "source": [
    "# For 1000 trials of fresh 1000 points average $E_{out} \\approx 0.1$"
   ]
  }
 ],
 "metadata": {
  "kernelspec": {
   "display_name": "Python 3",
   "language": "python",
   "name": "python3"
  },
  "language_info": {
   "codemirror_mode": {
    "name": "ipython",
    "version": 3
   },
   "file_extension": ".py",
   "mimetype": "text/x-python",
   "name": "python",
   "nbconvert_exporter": "python",
   "pygments_lexer": "ipython3",
   "version": "3.5.2"
  }
 },
 "nbformat": 4,
 "nbformat_minor": 1
}
