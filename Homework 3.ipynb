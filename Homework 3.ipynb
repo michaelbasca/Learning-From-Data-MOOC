{
 "cells": [
  {
   "cell_type": "markdown",
   "metadata": {},
   "source": [
    "# • Generalization Error"
   ]
  },
  {
   "cell_type": "markdown",
   "metadata": {},
   "source": [
    "# 1. The modified Hoeffding Inequality provides a way to characterize the generalization error with a probabilistic bound\n",
    "<center>$P [|E_{in}(g) − E_{out}(g)| > \\epsilon] ≤ 2Me^{−2\\epsilon^2N} $</center>\n",
    "# for any $\\epsilon$ > 0. If we set $\\epsilon = 0.05$ and want the probability bound $2Me^{−2\\epsilon^2N}$ to be at most 0.03, what is the least number of examples $N$ (among the given choices) needed for the case $M = 1$?"
   ]
  },
  {
   "cell_type": "code",
   "execution_count": 5,
   "metadata": {
    "collapsed": false
   },
   "outputs": [
    {
     "name": "stdout",
     "output_type": "stream",
     "text": [
      "N = 840.0\n"
     ]
    }
   ],
   "source": [
    "import numpy as np\n",
    "\n",
    "M = 1\n",
    "epsilon = 0.05\n",
    "P = 0.03\n",
    "\n",
    "N = lambda M: np.log(P / 2 / M) / -2 / epsilon ** 2\n",
    "print(\"N = {}\".format(np.ceil(N(M))))"
   ]
  },
  {
   "cell_type": "markdown",
   "metadata": {},
   "source": [
    "# The least number of examples  N is 1000"
   ]
  },
  {
   "cell_type": "markdown",
   "metadata": {},
   "source": [
    "<br><br>"
   ]
  },
  {
   "cell_type": "markdown",
   "metadata": {},
   "source": [
    "# 2. Repeat for the case $M = 10$."
   ]
  },
  {
   "cell_type": "code",
   "execution_count": 6,
   "metadata": {
    "collapsed": false
   },
   "outputs": [
    {
     "name": "stdout",
     "output_type": "stream",
     "text": [
      "N = 1301.0\n"
     ]
    }
   ],
   "source": [
    "M = 10\n",
    "print(\"N = {}\".format(np.ceil(N(M))))"
   ]
  },
  {
   "cell_type": "markdown",
   "metadata": {},
   "source": [
    "# The least number of examples  N is 1500"
   ]
  },
  {
   "cell_type": "code",
   "execution_count": null,
   "metadata": {
    "collapsed": true
   },
   "outputs": [],
   "source": []
  },
  {
   "cell_type": "markdown",
   "metadata": {},
   "source": [
    "<br><br>"
   ]
  },
  {
   "cell_type": "markdown",
   "metadata": {},
   "source": [
    "# 3. Repeat for the case $M = 100$."
   ]
  },
  {
   "cell_type": "code",
   "execution_count": 7,
   "metadata": {
    "collapsed": false
   },
   "outputs": [
    {
     "name": "stdout",
     "output_type": "stream",
     "text": [
      "N = 1761.0\n"
     ]
    }
   ],
   "source": [
    "M = 100\n",
    "print(\"N = {}\".format(np.ceil(N(M))))"
   ]
  },
  {
   "cell_type": "markdown",
   "metadata": {},
   "source": [
    "# The least number of examples  N is 2000"
   ]
  },
  {
   "cell_type": "markdown",
   "metadata": {},
   "source": [
    "<br><br>"
   ]
  },
  {
   "cell_type": "markdown",
   "metadata": {},
   "source": [
    "# 4. As shown in class, the (smallest) break point for the Perceptron Model in the two-dimensional case ($\\mathbb R^2$) is 4 points. What is the smallest break point for the Perceptron Model in $\\mathbb R^3$? (i.e., instead of the hypothesis set consisting of separating lines, it consists of separating planes.)"
   ]
  },
  {
   "cell_type": "markdown",
   "metadata": {},
   "source": [
    "# A set of $N = d + 1$ points in $\\mathbb R^d$ are shattered by the pereptron:\n",
    "# This means the smallest break point is $N = d + 2$ that cannot shatter\n",
    "# For $d = 3$ the smallest break point is $5$\n",
    "\n",
    "# <a href = https://work.caltech.edu/library/072.pdf> see this link </a>"
   ]
  },
  {
   "cell_type": "markdown",
   "metadata": {},
   "source": [
    "# • Growth Function"
   ]
  },
  {
   "cell_type": "markdown",
   "metadata": {},
   "source": [
    "# 5. Which of the following are possible formulas for a growth function mH(N):\n",
    "<center>\n",
    "# i) $1 + N$ \n",
    "\n",
    "# ii) $1 + N + \\binom{N}{2}$\n",
    "\n",
    "# iii) $\\sum_{i=1}^{\\lfloor \\sqrt{N} \\rfloor} \\binom{N}{i}$\n",
    "\n",
    "# iv) $2^{\\lfloor \\frac{N}{2} \\rfloor}$\n",
    "\n",
    "# v) $2^N$\n",
    "</center>\n",
    "# where $\\lfloor u \\rfloor $is the biggest integer $≤ u$, and $\\binom{M}{m} = 0$ when $m > M$."
   ]
  },
  {
   "cell_type": "markdown",
   "metadata": {},
   "source": [
    "# Definition of growth function $\\to$ Must be $2^N$ or bounded by a polynomial\n",
    "\n",
    "# <center>$m_{\\mathcal H}(N) \\leq \\underbrace {\\sum_{i=0}^{k-1} \\binom{N}{i}}_{\\text{maximum power is } N^{k-1}}$   </center>\n",
    "\n",
    "### i) $1 + N \\to$ polynomial where $k - 1 = 1 \\to $ growth function of a positive ray, where breakpoint $k = 2$\n",
    "\n",
    "### ii) $1 + N + \\binom{N}{2} = 1+N + \\frac{N(N-1)}{2} = \\frac{1}{2}N^2 +\\frac{1}{2}N + 1 \\to$ polynomial where $k - 1 = 2 \\to $ growth function of positive intervals, where breakpoint $k = 3$\n",
    "\n",
    "### iii) $\\sum_{i=1}^{\\lfloor \\sqrt{N} \\rfloor} \\binom{N}{i} \\to k-1$ is in terms of $N \\to$not constant $\\to$ not bounded by a polynomial\n",
    "\n",
    "### iv) $2^{\\lfloor \\frac{N}{2} \\rfloor} \\to$ not a polynomial also $\\neq 2^N \\to$ not a growth function\n",
    "\n",
    "### v) $2^N \\to $ is a growth function by definition"
   ]
  },
  {
   "cell_type": "markdown",
   "metadata": {},
   "source": [
    "<br><br><br>"
   ]
  },
  {
   "cell_type": "markdown",
   "metadata": {},
   "source": [
    "# • Fun with Intervals"
   ]
  },
  {
   "cell_type": "markdown",
   "metadata": {},
   "source": [
    "# 6. Consider the “2-intervals” learning model, where $h: \\mathbb R → {−1, +1}$ and $h(x) = +1$ if the point is within either of two arbitrarily chosen intervals and $−1$ otherwise.  What is the (smallest) break point for this hypothesis set?"
   ]
  },
  {
   "cell_type": "markdown",
   "metadata": {},
   "source": [
    "<br>"
   ]
  },
  {
   "cell_type": "markdown",
   "metadata": {},
   "source": [
    "# Best way to explain this pictorially\n",
    "\n",
    "# $3$ points (worst case) $\\to + - +$ can be shattered with two intervals\n",
    "\n",
    "# $4$ points (worst case) $\\to + - + -$ or $+ - - +$ can be shattered with two intervals\n",
    "\n",
    "# $5$ points (worst case) $\\to + - + - +$ cannot be shattered with two intervals there will be alway one $+$ not covered\n",
    "\n",
    "# This means the breakpoint $k=5$\n",
    "\n"
   ]
  },
  {
   "cell_type": "markdown",
   "metadata": {},
   "source": [
    "<br><br><br>"
   ]
  },
  {
   "cell_type": "markdown",
   "metadata": {},
   "source": [
    "# 7. Which of the following is the growth function $m_{\\mathcal H}(N)$ for the “2-intervals” hypothesis set?"
   ]
  },
  {
   "cell_type": "markdown",
   "metadata": {},
   "source": [
    "# Sneaky way of thinking about this $\\to$ use answers from questions 5) and 6) to help us out. \n",
    "# Number of dicotomies $m_{\\mathcal H}(N)$ for $N \\leq$ breakpoint $k$ is $2^N$\n",
    "\n",
    "# Breakpoint for 2-intervals is $k=5$\n",
    "\n",
    "# So for $N=3$ points $m_{\\mathcal H}(N) = 2^3 = 8$\n",
    "# For $N=4$ points $m_{\\mathcal H}(N) = 2^4=16$\n",
    "\n",
    "# What about for $N = k = 5$?\n",
    "\n",
    "\n",
    "# We discussed from the example above that there will always be one $+$ not covered so $m_{\\mathcal H}(N) = 2^5-1=31$\n",
    "\n",
    "\n",
    "# The only equation that satisfies these numbers is $\\binom{N+1}{4}+\\binom{N+1}{2}+1$ and will apply for all $N$ by induction!!!"
   ]
  },
  {
   "cell_type": "markdown",
   "metadata": {},
   "source": [
    "# 8. Now, consider the general case: the “$M$-intervals” learning model. Again $h : \\mathbb R → {−1, +1}$, where $h(x) = +1$ if the point falls inside any of $M$ arbitrarily chosen intervals, otherwise $h(x) = −1$. What is the (smallest) break point of this hypothesis set?"
   ]
  },
  {
   "cell_type": "markdown",
   "metadata": {},
   "source": [
    "# For 1 interval   breakpoint $k = 3$\n",
    "# For 2 intervals breakpoint $k = 5$\n",
    "\n",
    "# thus breakpoint $k = 2M + 1$"
   ]
  },
  {
   "cell_type": "markdown",
   "metadata": {},
   "source": [
    "<br> <br> <br>"
   ]
  },
  {
   "cell_type": "markdown",
   "metadata": {},
   "source": [
    "# • Convex Sets: The triangle"
   ]
  },
  {
   "cell_type": "markdown",
   "metadata": {},
   "source": [
    "# 9. Consider the “triangle” learning model, where $h : \\mathbb R^2 → {−1, +1}$ and $h(x) =+1$ if $x$ lies within an arbitrarily chosen triangle in the plane and $−1$ otherwise. Which is the largest number of points in $\\mathbb R^2$ (among the given choices) that can be shattered by this hypothesis set?"
   ]
  },
  {
   "cell_type": "markdown",
   "metadata": {},
   "source": [
    "<br> <br>"
   ]
  },
  {
   "cell_type": "markdown",
   "metadata": {},
   "source": [
    "# Choosing points on a circle maximizes the number of dichotomies.\n",
    "# Alternating blue($-1$) and red ($+1$) provides the most complex dichotomies.\n",
    "# Let's put 8 alternating (four $+1$ and four $-1$) on a circle. There will be no way to draw a triangle around the positives without encompassing a negative.  You can move the positive or negative in the circle (but no disturb the order) anywhere on the circle and we will not be able to create a triangle.\n"
   ]
  },
  {
   "cell_type": "markdown",
   "metadata": {},
   "source": [
    "   <img src=\"./Drawing1.png\"> "
   ]
  },
  {
   "cell_type": "markdown",
   "metadata": {},
   "source": [
    "# Let's remove one of the negatives, the top blue will be too obvious, so let's remove the bottom one.  We can move the reds as long as we don't change the order.  Doing that we can create a triangle!  In general:\n",
    "# <center>$2d + 1$ points on a circle can be shattered by a $d$-gon:</center>\n",
    "\n",
    "# For $d=3 \\to N=7$"
   ]
  },
  {
   "cell_type": "markdown",
   "metadata": {},
   "source": [
    "   <img src=\"./Drawing2.png\"> "
   ]
  },
  {
   "cell_type": "markdown",
   "metadata": {},
   "source": [
    "# • Non-Convex Sets: Concentric Circles"
   ]
  },
  {
   "cell_type": "markdown",
   "metadata": {},
   "source": [
    "# 10. Compute the growth function $m_{\\mathcal H}(N)$ for the learning model made up of two concentric circles in $\\mathbb R^2$. Specifically, $\\mathcal H$ contains the functions which are $+1$ for\n",
    "# <center>$a^2 \\leq x^2_1 + x^2_2 \\leq b^2$</center>\n",
    "\n",
    "# and $−1$ otherwise. The growth function is?"
   ]
  },
  {
   "cell_type": "markdown",
   "metadata": {},
   "source": [
    "# This is essentially the positive intervals expanded in to two dimensions.  The dimension does not affect the growth function hence we use the same growth function as the positive intervals\n",
    "\n",
    "# <center>$\\binom{N+1}{2} + 1$</center>"
   ]
  }
 ],
 "metadata": {
  "kernelspec": {
   "display_name": "Python 3",
   "language": "python",
   "name": "python3"
  },
  "language_info": {
   "codemirror_mode": {
    "name": "ipython",
    "version": 3
   },
   "file_extension": ".py",
   "mimetype": "text/x-python",
   "name": "python",
   "nbconvert_exporter": "python",
   "pygments_lexer": "ipython3",
   "version": "3.5.2"
  }
 },
 "nbformat": 4,
 "nbformat_minor": 1
}
