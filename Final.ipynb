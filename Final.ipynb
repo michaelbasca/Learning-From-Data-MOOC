{
 "cells": [
  {
   "cell_type": "code",
   "execution_count": 1,
   "metadata": {},
   "outputs": [
    {
     "name": "stdout",
     "output_type": "stream",
     "text": [
      "d_tilda is 64.0\n"
     ]
    }
   ],
   "source": [
    "# Problem 1\n",
    "\n",
    "Q = 10\n",
    "\n",
    "d_tilda = (Q * (Q + 3))/2 - 1\n",
    "\n",
    "print(\"d_tilda is {}\".format(d_tilda))"
   ]
  },
  {
   "cell_type": "markdown",
   "metadata": {},
   "source": [
    "# Answer is [e]"
   ]
  },
  {
   "cell_type": "code",
   "execution_count": 2,
   "metadata": {},
   "outputs": [],
   "source": [
    "# Problem 2"
   ]
  },
  {
   "cell_type": "markdown",
   "metadata": {},
   "source": [
    "# Answer is [d] \n",
    "# Since logistic regression is on a log scale."
   ]
  },
  {
   "cell_type": "code",
   "execution_count": 3,
   "metadata": {},
   "outputs": [],
   "source": [
    "# Problem 3"
   ]
  },
  {
   "cell_type": "markdown",
   "metadata": {},
   "source": [
    "# Answer is [d] \n",
    "# $(E_{out} - E_{in})$ only gives you generalization error at one point in time given $N$ data points.  This is not a good indicator of overfitting (you can have small generalization error and still overfit!).  A better indicator is graphing $E_{out}$ vs regularization parameter $\\lambda$ or $C$ and find the lowest $E_{out}$"
   ]
  },
  {
   "cell_type": "code",
   "execution_count": 4,
   "metadata": {},
   "outputs": [],
   "source": [
    "# Problem 4"
   ]
  },
  {
   "cell_type": "markdown",
   "metadata": {},
   "source": [
    "# Answer is [d] \n",
    "# Stochastic noise is inherently based on the data which is based on the target distribution"
   ]
  },
  {
   "cell_type": "code",
   "execution_count": 5,
   "metadata": {},
   "outputs": [],
   "source": [
    "# Problem 5"
   ]
  },
  {
   "cell_type": "markdown",
   "metadata": {},
   "source": [
    "# The answer is [a] \n",
    "# The tangent normal vector of $C$ is $w_{lin}\\Gamma$ which is greater than the radius of $E_in$ which is $w_{lin}$. (We assume $\\Gamma$ is not the zero matrix).  Hence $w_{reg}$ never exceeds $C$."
   ]
  },
  {
   "cell_type": "code",
   "execution_count": 6,
   "metadata": {},
   "outputs": [],
   "source": [
    "# Problem 6 "
   ]
  },
  {
   "cell_type": "markdown",
   "metadata": {},
   "source": [
    "# The answer is [b]\n",
    "# The whole purpose of the soft-order constraint e.g. $\\sum_{q=0}^Q w^2_{q} \\leq C$ is to create a formula for $E_{aug}$\n",
    "# The hard-order constraint e.g. $\\sum_{q=0}^Q\\gamma_{q} w^2_{q} \\leq C$ with some $\\gamma_q = 0$ and some $\\gamma_q \\to \\infty$ can be recovered from soft-order constraints but are not explicitely written by them."
   ]
  },
  {
   "cell_type": "code",
   "execution_count": 7,
   "metadata": {},
   "outputs": [],
   "source": [
    "# Problem 7 - 10\n",
    "import numpy as np\n",
    "import matplotlib.pyplot as plt\n",
    "%matplotlib inline"
   ]
  },
  {
   "cell_type": "code",
   "execution_count": 8,
   "metadata": {},
   "outputs": [],
   "source": [
    "url_Train = \"http://www.amlbook.com/data/zip/features.train\"\n",
    "train = np.genfromtxt(url_Train)\n",
    "\n",
    "url_Test = \"http://www.amlbook.com/data/zip/features.test\"\n",
    "test = np.genfromtxt(url_Test)"
   ]
  },
  {
   "cell_type": "code",
   "execution_count": 9,
   "metadata": {},
   "outputs": [],
   "source": [
    "Xtrain = train[:, 1:]\n",
    "ytrain = train[:, [0]]\n",
    "\n",
    "Xtest = train[:, 1:]\n",
    "ytest = train[:, [0]]"
   ]
  },
  {
   "cell_type": "code",
   "execution_count": 10,
   "metadata": {},
   "outputs": [],
   "source": [
    "Ztrain = np.hstack(\n",
    "              (np.ones((len(Xtrain), 1)), \n",
    "               Xtrain)\n",
    "         )\n",
    "\n",
    "Ztest = np.hstack(\n",
    "              (np.ones((len(Xtest), 1)), \n",
    "               Xtest)\n",
    "        )"
   ]
  },
  {
   "cell_type": "code",
   "execution_count": 11,
   "metadata": {},
   "outputs": [],
   "source": [
    "def one_vs_all(y, number):\n",
    "    modified_y = np.where(y==number, 1, -1)\n",
    "    return modified_y"
   ]
  },
  {
   "cell_type": "code",
   "execution_count": 12,
   "metadata": {},
   "outputs": [],
   "source": [
    "def regularization(number=0, lambda_reg=1, Ztrain=Ztrain, Ztest=Ztest, ytrain=ytrain, ytest=ytest):\n",
    "    ytrain = one_vs_all(ytrain, number)\n",
    "    ytest  = one_vs_all(ytest, number)\n",
    "\n",
    "    wreg = np.dot(\n",
    "                  np.dot(np.linalg.inv(np.dot(Ztrain.T, Ztrain) + lambda_reg * np.identity(len(np.dot(Ztrain.T, Ztrain)))), \n",
    "                         Ztrain.T), \n",
    "                  ytrain)\n",
    "    \n",
    "    yhat_train = np.reshape(np.where(np.dot(Ztrain, wreg) > 0, 1, -1), (len(ytrain), 1))\n",
    "    yhat_test  = np.reshape(np.where(np.dot(Ztest,  wreg) > 0, 1, -1), (len(ytest),  1))\n",
    "    E_in  = np.mean(yhat_train != ytrain)\n",
    "    E_out = np.mean(yhat_test  != ytest)\n",
    "    return(E_in, E_out)"
   ]
  },
  {
   "cell_type": "code",
   "execution_count": null,
   "metadata": {},
   "outputs": [],
   "source": [
    "# problem 7"
   ]
  },
  {
   "cell_type": "code",
   "execution_count": 13,
   "metadata": {},
   "outputs": [
    {
     "name": "stdout",
     "output_type": "stream",
     "text": [
      "The classifier with the lowest Ein is 8\n"
     ]
    }
   ],
   "source": [
    "E_ins_and_numbers = []\n",
    "\n",
    "for number in range(5,10):\n",
    "    E_in = regularization(number=number)[0]\n",
    "    E_ins_and_numbers.append((E_in, number))\n",
    "    \n",
    "print(\"The classifier with the lowest Ein is {}\".format(sorted(E_ins_and_numbers)[0][1]))"
   ]
  },
  {
   "cell_type": "markdown",
   "metadata": {},
   "source": [
    "# The answer is [d]"
   ]
  },
  {
   "cell_type": "code",
   "execution_count": 14,
   "metadata": {},
   "outputs": [],
   "source": [
    "Ztrain_transform = np.hstack(\n",
    "                  (np.ones((len(Xtrain), 1)), \n",
    "                   Xtrain, \n",
    "                   Xtrain[:, [0]] * Xtrain[:, [1]], \n",
    "                   Xtrain[:, [0]]**2, \n",
    "                   Xtrain[:, [1]]**2\n",
    "                  ))\n",
    "\n",
    "Ztest_transform = np.hstack(\n",
    "                  (np.ones((len(Xtest), 1)), \n",
    "                   Xtest, \n",
    "                   Xtest[:, [0]] * Xtest[:, [1]],\n",
    "                   Xtest[:, [0]]**2, \n",
    "                   Xtest[:, [1]]**2\n",
    "                  ))"
   ]
  },
  {
   "cell_type": "code",
   "execution_count": null,
   "metadata": {},
   "outputs": [],
   "source": [
    "# problem 8"
   ]
  },
  {
   "cell_type": "code",
   "execution_count": 15,
   "metadata": {},
   "outputs": [
    {
     "name": "stdout",
     "output_type": "stream",
     "text": [
      "The classifier with the lowest Eout is 1\n"
     ]
    }
   ],
   "source": [
    "E_outs_and_numbers = []\n",
    "\n",
    "for number in range(5):\n",
    "    E_out = regularization(number=number, Ztrain=Ztrain_transform, Ztest=Ztest_transform)[1]\n",
    "    E_outs_and_numbers.append((E_out, number))\n",
    "    \n",
    "print(\"The classifier with the lowest Eout is {}\".format(sorted(E_outs_and_numbers)[0][1]))"
   ]
  },
  {
   "cell_type": "markdown",
   "metadata": {},
   "source": [
    "# The answer is [b]"
   ]
  },
  {
   "cell_type": "code",
   "execution_count": null,
   "metadata": {},
   "outputs": [],
   "source": [
    "# problem 9"
   ]
  },
  {
   "cell_type": "code",
   "execution_count": 16,
   "metadata": {},
   "outputs": [
    {
     "name": "stdout",
     "output_type": "stream",
     "text": [
      "part a is False\n",
      "part b is False\n",
      "part a is False\n",
      "part d is False\n",
      "part e is True\n"
     ]
    }
   ],
   "source": [
    "# part a\n",
    "E_out_0 = regularization(number=0, Ztrain=Ztrain, Ztest=Ztest)[1]\n",
    "E_out_0_transform = regularization(number=0, Ztrain=Ztrain_transform, Ztest=Ztest_transform)[1]\n",
    "\n",
    "E_out_9 = regularization(number=9, Ztrain=Ztrain, Ztest=Ztest)[1]\n",
    "E_out_9_transform = regularization(number=9, Ztrain=Ztrain_transform, Ztest=Ztest_transform)[1]\n",
    "\n",
    "print(\"part a is {}\".format(E_out_0 <= E_out_0_transform and E_out_9 <= E_out_9_transform))\n",
    "\n",
    "# part b\n",
    "print(\"part b is {}\".format(E_out_0_transform <= 0.95 * E_out_0 and \n",
    "                            E_out_9_transform <= 0.95 * E_out_9))\n",
    "\n",
    "# part c\n",
    "print(\"part a is {}\".format(E_out_0 == E_out_0_transform and E_out_9 == E_out_9_transform))\n",
    "\n",
    "# part d\n",
    "print(\"part d is {}\".format(E_out_0_transform >= 0.95 * E_out_0 and \n",
    "                            E_out_9_transform >= 0.95 * E_out_9))\n",
    "\n",
    "E_out_5 = regularization(number=5, Ztrain=Ztrain, Ztest=Ztest)[1]\n",
    "E_out_5_transform = regularization(number=5, Ztrain=Ztrain_transform, Ztest=Ztest_transform)[1]\n",
    "\n",
    "# part e\n",
    "print(\"part e is {}\".format(E_out_5_transform >= 0.95 * E_out_5 and E_out_5_transform <= E_out_5 ))\n",
    "\n"
   ]
  },
  {
   "cell_type": "markdown",
   "metadata": {},
   "source": [
    "# The answer is [e]"
   ]
  },
  {
   "cell_type": "code",
   "execution_count": 17,
   "metadata": {},
   "outputs": [],
   "source": [
    "idx_train_1_5   = np.where((train[:, [0]] == 1) | (train[:, [0]] == 5))[0]\n",
    "idx_test_1_5   = np.where((test[:, [0]] == 1) | (test[:, [0]] == 5))[0]\n",
    "\n",
    "train_1_5 = train[idx_train_1_5]\n",
    "test_1_5  = test[idx_test_1_5]\n",
    "\n",
    "Xtrain_1_5 = train_1_5[:, 1:]\n",
    "ytrain_1_5 = train_1_5[:, [0]]\n",
    "\n",
    "Xtest_1_5 = test_1_5[:, 1:]\n",
    "ytest_1_5 = test_1_5[:, [0]]\n",
    "\n",
    "Ztrain_transform_1_5 = np.hstack(\n",
    "                                  (np.ones((len(Xtrain_1_5), 1)), \n",
    "                                   Xtrain_1_5, \n",
    "                                   Xtrain_1_5[:, [0]] * Xtrain_1_5[:, [1]], \n",
    "                                   Xtrain_1_5[:, [0]]**2, \n",
    "                                   Xtrain_1_5[:, [1]]**2\n",
    "                                  ))\n",
    "\n",
    "Ztest_transform_1_5 = np.hstack(\n",
    "                                  (np.ones((len(Xtest_1_5), 1)), \n",
    "                                   Xtest_1_5, \n",
    "                                   Xtest_1_5[:, [0]] * Xtest_1_5[:, [1]],\n",
    "                                   Xtest_1_5[:, [0]]**2, \n",
    "                                   Xtest_1_5[:, [1]]**2\n",
    "                                  ))"
   ]
  },
  {
   "cell_type": "code",
   "execution_count": null,
   "metadata": {},
   "outputs": [],
   "source": [
    "# problem 10"
   ]
  },
  {
   "cell_type": "code",
   "execution_count": 18,
   "metadata": {},
   "outputs": [
    {
     "name": "stdout",
     "output_type": "stream",
     "text": [
      "part a is True\n",
      "part b is False\n",
      "part c is False\n",
      "part d is False\n",
      "part e is False\n"
     ]
    }
   ],
   "source": [
    "# part a\n",
    "E_out_lambda_1 = regularization(number=1, lambda_reg=1, Ztrain=Ztrain_transform_1_5, Ztest=Ztest_transform_1_5, \n",
    "                                                        ytrain=ytrain_1_5,           ytest=ytest_1_5)[1]\n",
    "\n",
    "E_out_lambda_01 = regularization(number=1, lambda_reg=0.01, Ztrain=Ztrain_transform_1_5, Ztest=Ztest_transform_1_5, \n",
    "                                                        ytrain=ytrain_1_5,           ytest=ytest_1_5)[1]\n",
    "\n",
    "print(\"part a is {}\".format(E_out_lambda_1 <= E_out_lambda_01 ))\n",
    "\n",
    "# part b\n",
    "E_in_lambda_1 = regularization(number=1, lambda_reg=1, Ztrain=Ztrain_transform_1_5, Ztest=Ztest_transform_1_5, \n",
    "                                                        ytrain=ytrain_1_5,           ytest=ytest_1_5)[0]\n",
    "\n",
    "E_in_lambda_01 = regularization(number=1, lambda_reg=0.01, Ztrain=Ztrain_transform_1_5, Ztest=Ztest_transform_1_5, \n",
    "                                                        ytrain=ytrain_1_5,           ytest=ytest_1_5)[0]\n",
    "\n",
    "print(\"part b is {}\".format(E_in_lambda_1 == E_in_lambda_01 ))\n",
    "\n",
    "# part c\n",
    "\n",
    "print(\"part c is {}\".format(E_out_lambda_1 == E_out_lambda_01 ))\n",
    "\n",
    "# part d\n",
    "\n",
    "print(\"part d is {}\".format(E_in_lambda_1 > E_in_lambda_01 and E_out_lambda_1 > E_out_lambda_01))\n",
    "\n",
    "# part e\n",
    "\n",
    "print(\"part e is {}\".format(E_in_lambda_1 < E_in_lambda_01 and E_out_lambda_1 < E_out_lambda_01))"
   ]
  },
  {
   "cell_type": "markdown",
   "metadata": {},
   "source": [
    "# The answer is [a]"
   ]
  },
  {
   "cell_type": "code",
   "execution_count": null,
   "metadata": {},
   "outputs": [],
   "source": [
    "# problem 11"
   ]
  },
  {
   "cell_type": "code",
   "execution_count": 19,
   "metadata": {},
   "outputs": [
    {
     "name": "stdout",
     "output_type": "stream",
     "text": [
      "part a is False\n",
      "part b is False\n",
      "part c is True\n",
      "part d is False\n"
     ]
    }
   ],
   "source": [
    "x1, y1 = (1, 0),  -1 \n",
    "x2, y2 = (0, 1),  -1 \n",
    "x3, y3 = (0, -1), -1\n",
    "x4, y4 = (-1, 0), +1 \n",
    "x5, y5 = (0, 2),  +1 \n",
    "x6, y6 = (0, -2), +1\n",
    "x7, y7 = (-2, 0), +1\n",
    "\n",
    "X = np.vstack((x1, x2, x3, x4, x5, x6, x7))\n",
    "y = np.vstack((y1, y2, y3, y4, y5, y6, y7))\n",
    "\n",
    "Ztransform = np.hstack(\n",
    "                  (np.ones((len(X), 1)), \n",
    "                   X[:, [1]]**2 - 2 * X[:, [0]] - 1, \n",
    "                   X[:, [0]]**2 - 2 * X[:, [1]] - 1\n",
    "                  ))\n",
    "\n",
    "w_3dim_to_2dim = lambda w_3dim:  -(w_3dim/w_3dim[2])[:2]\n",
    "\n",
    "wa = np.array([-0.5, -1,  1])\n",
    "wb = np.array([-0.5,  1, -1])\n",
    "wc = np.array([-0.5,  1,  0])\n",
    "wd = np.array([-0.5,  0,  1])\n",
    "\n",
    "# part a\n",
    "y_hat_a = np.reshape(np.dot(Ztransform, wa), (len(Ztransform), 1)) \n",
    "print(\"part a is {}\".format(np.all(y == np.where(y_hat_a > 0, 1, -1))))\n",
    "\n",
    "# part b\n",
    "y_hat_b = np.reshape(np.dot(Ztransform, wb), (len(Ztransform), 1)) \n",
    "print(\"part b is {}\".format(np.all(y == np.where(y_hat_b > 0, 1, -1))))\n",
    "\n",
    "# part c\n",
    "y_hat_c = np.reshape(np.dot(Ztransform, wc), (len(Ztransform), 1)) \n",
    "print(\"part c is {}\".format(np.all(y == np.where(y_hat_c > 0, 1, -1))))\n",
    "\n",
    "# part d\n",
    "y_hat_d = np.reshape(np.dot(Ztransform, wd), (len(Ztransform), 1)) \n",
    "print(\"part d is {}\".format(np.all(y == np.where(y_hat_d > 0, 1, -1))))\n",
    "\n"
   ]
  },
  {
   "cell_type": "markdown",
   "metadata": {},
   "source": [
    "# answer is [c]"
   ]
  },
  {
   "cell_type": "code",
   "execution_count": null,
   "metadata": {},
   "outputs": [],
   "source": [
    "# problem 12"
   ]
  },
  {
   "cell_type": "code",
   "execution_count": 20,
   "metadata": {},
   "outputs": [],
   "source": [
    "from svmutil import *   # we'll use this library (LibSVM)in problem 12\n",
    "\n",
    "from mlpy import LibSvm # this library is an api to LibSVM but \n",
    "                        # without the output (I find it annoying)\n",
    "                        # We'll use this for problems 13-18\n",
    "\n",
    "X = X.tolist()\n",
    "y = list(y)\n"
   ]
  },
  {
   "cell_type": "code",
   "execution_count": 21,
   "metadata": {},
   "outputs": [
    {
     "name": "stdout",
     "output_type": "stream",
     "text": [
      "Accuracy = 100% (7/7) (classification)\n",
      "The number of support vectors is 5\n"
     ]
    }
   ],
   "source": [
    "prob = svm_problem(y, X)\n",
    "param = svm_parameter('-t 1 -c 10000 -d 2 -g 1 -r 1 -q')\n",
    "m = svm_train(prob, param)\n",
    "\n",
    "p_label, p_acc, p_val = svm_predict(y, X, m)\n",
    "\n",
    "num_support_vectors = len(m.get_SV())\n",
    "print(\"The number of support vectors is {}\".format(num_support_vectors))"
   ]
  },
  {
   "cell_type": "markdown",
   "metadata": {},
   "source": [
    "# answer is [c]"
   ]
  },
  {
   "cell_type": "code",
   "execution_count": null,
   "metadata": {},
   "outputs": [],
   "source": [
    "# for problems 13-18"
   ]
  },
  {
   "cell_type": "code",
   "execution_count": 22,
   "metadata": {},
   "outputs": [],
   "source": [
    "distance = lambda X, uk: np.linalg.norm(X - uk) "
   ]
  },
  {
   "cell_type": "code",
   "execution_count": 23,
   "metadata": {},
   "outputs": [],
   "source": [
    "get_new_uk = lambda X: np.mean(X, axis=0)"
   ]
  },
  {
   "cell_type": "code",
   "execution_count": 24,
   "metadata": {},
   "outputs": [
    {
     "data": {
      "text/plain": [
       "{'divide': 'warn', 'invalid': 'warn', 'over': 'warn', 'under': 'ignore'}"
      ]
     },
     "execution_count": 24,
     "metadata": {},
     "output_type": "execute_result"
    }
   ],
   "source": [
    "# need to set this to raise the FloatingPointError\n",
    "# encountered when kmeans doesn't return cluster centers\n",
    "np.seterr(all='raise')"
   ]
  },
  {
   "cell_type": "markdown",
   "metadata": {},
   "source": [
    "# Let's create some sample code to implement Lloyd's algorithm and see whether it works by plotting the clusters and centers (white triangles)\n",
    "# We'll use parts of the code and implement it in a future function"
   ]
  },
  {
   "cell_type": "code",
   "execution_count": 25,
   "metadata": {},
   "outputs": [
    {
     "data": {
      "text/plain": [
       "<matplotlib.collections.PathCollection at 0x1135c8940>"
      ]
     },
     "execution_count": 25,
     "metadata": {},
     "output_type": "execute_result"
    },
    {
     "data": {
      "image/png": "[encoded data removed]",
      "text/plain": [
       "<matplotlib.figure.Figure at 0x11355b588>"
      ]
     },
     "metadata": {},
     "output_type": "display_data"
    }
   ],
   "source": [
    "K = 4\n",
    "n = 25\n",
    "N = n * K\n",
    "sigma = 0.1\n",
    "mu_ks = np.zeros((K, 2))\n",
    "X = np.zeros((N, 2))\n",
    "y = np.zeros((N, 1))\n",
    "for i in range(K):\n",
    "    mu_ks[i] = np.random.uniform(-1, 1, (1, 2))\n",
    "\n",
    "    X[i*n:(i+1)*(n)] = np.vstack((np.random.normal(loc=mu_ks[i][0], scale=sigma, size=n), \n",
    "                                  np.random.normal(loc=mu_ks[i][1], scale=sigma, size=n))).T\n",
    "    \n",
    "    y[i*n:(i+1)*(n)] = i\n",
    "\n",
    "\n",
    "tol = 1e-8\n",
    "uk0 = X[np.random.choice(len(X), K, replace=False)]\n",
    "distances = np.zeros((N, K))\n",
    "ukt = uk0\n",
    "\n",
    "try: # to avoid rare times when you kmeans doesn't return cluster centers\n",
    "\n",
    "    while True:\n",
    "        for i in range(K):\n",
    "            distances[:, i] = distance(X, ukt[i])\n",
    "\n",
    "        uk_id = np.argmin(distances, axis=1)\n",
    "        ukt_1 = np.full(ukt.shape, np.nan)\n",
    "        for k in range(K):\n",
    "            if np.where(uk_id == k)[0].any():\n",
    "                uk_idx = np.where(uk_id == k)[0]\n",
    "                ukt_1[k] = get_new_uk(X[uk_idx])\n",
    "\n",
    "        if np.all(ukt_1 - ukt < tol):\n",
    "            break\n",
    "        else:\n",
    "            ukt = ukt_1\n",
    "            \n",
    "except FloatingPointError:\n",
    "    pass\n",
    "\n",
    "plt.xlim((-2,2))\n",
    "plt.ylim((-2,2))\n",
    "plt.scatter(ukt[:, 0],  ukt[:, 1], marker='^', c='white', s=500)\n",
    "plt.scatter(X[:, 0],  X[:, 1], c=y)"
   ]
  },
  {
   "cell_type": "markdown",
   "metadata": {},
   "source": [
    "# It's ok if not all of the centers finds all of the clusters.  That's the randomization aspect.  There are other metrics to improve on this but we will not use them since it doesn't necessarily applies to this problem.\n",
    "\n",
    "# Let's create our LLoyd's algorithim that returns the cluster centers if given the data points and $K$ the number of clusters."
   ]
  },
  {
   "cell_type": "code",
   "execution_count": 26,
   "metadata": {},
   "outputs": [],
   "source": [
    "def kmeans(X, K):   \n",
    "    tol = 1e-8\n",
    "    uk0 = X[np.random.choice(len(X), K, replace=False)]\n",
    "    distances = np.zeros((N, K))\n",
    "    ukt = uk0\n",
    "    try: # to avoid rare times when you kmeans doesn't return cluster centers\n",
    "        while True:\n",
    "            for i in range(K):\n",
    "                distances[:, i] = distance(X, ukt[i])\n",
    "\n",
    "            uk_id = np.argmin(distances, axis=1)\n",
    "            ukt_1 = np.full(ukt.shape, np.nan)\n",
    "            for k in range(K):\n",
    "                if np.where(uk_id == k)[0].any():\n",
    "                    uk_idx = np.where(uk_id == k)[0]\n",
    "                    ukt_1[k] = get_new_uk(X[uk_idx])\n",
    "\n",
    "            if np.all(ukt_1 - ukt < tol):\n",
    "                break\n",
    "            else:\n",
    "                ukt = ukt_1\n",
    "    except FloatingPointError:\n",
    "        pass\n",
    "    return ukt"
   ]
  },
  {
   "cell_type": "markdown",
   "metadata": {},
   "source": [
    "# Let's create a function that creates a grid test points to test our $E_{out}$"
   ]
  },
  {
   "cell_type": "code",
   "execution_count": 30,
   "metadata": {},
   "outputs": [],
   "source": [
    "def make_grid(num_points = 100):\n",
    "    \"\"\"Creates a grid of points and in the space of [−1, 1] × [−1, 1]\n",
    "       We will use this to get the area of the negative regions of f(x) and g(x)\n",
    "    \n",
    "       Args:\n",
    "       num_points: represents the refinement of the grid\n",
    "                   more points ->  more precise area calculation\n",
    "                   \n",
    "       returns: N X 2 array representing the space of the graph\n",
    "    \"\"\"\n",
    "    \n",
    "    line = np.linspace(-1, 1, num_points)\n",
    "    grid = np.zeros((num_points, num_points, 2))\n",
    "    \n",
    "    for i in np.arange(num_points):\n",
    "        for j in np.arange(num_points):\n",
    "            grid[i,j] = np.array((line[i], line[j]))\n",
    "    \n",
    "    return grid.reshape(-1,2)"
   ]
  },
  {
   "cell_type": "markdown",
   "metadata": {},
   "source": [
    "# Let's create some code to look at the true $f(x)$ function"
   ]
  },
  {
   "cell_type": "code",
   "execution_count": 86,
   "metadata": {},
   "outputs": [
    {
     "data": {
      "text/plain": [
       "<matplotlib.text.Text at 0x127338470>"
      ]
     },
     "execution_count": 86,
     "metadata": {},
     "output_type": "execute_result"
    },
    {
     "data": {
      "image/png": "[encoded data removed]",
      "text/plain": [
       "<matplotlib.figure.Figure at 0x126d36940>"
      ]
     },
     "metadata": {},
     "output_type": "display_data"
    }
   ],
   "source": [
    "Xcontour = make_grid(50)\n",
    "ycontour = np.where(Xcontour[:, 1] - Xcontour[:, 0] + 0.25 * np.sin(np.pi * Xcontour[:, 0]) > 0, 1, -1)[:, np.newaxis]\n",
    "\n",
    "xx, yy = np.meshgrid(np.linspace(-1, 1, len(Xcontour)),\n",
    "                     np.linspace(-1, 1, len(Xcontour)))\n",
    "\n",
    "Z = np.where(yy - xx + 0.25 * np.sin(np.pi * xx) > 0, 1, -1)\n",
    "plt.contourf(xx, yy, Z)\n",
    "plt.title(\"The $f(x)$ function\")"
   ]
  },
  {
   "cell_type": "markdown",
   "metadata": {},
   "source": [
    "# Let's create a $N=100$ sample points from $f(x)$"
   ]
  },
  {
   "cell_type": "code",
   "execution_count": 27,
   "metadata": {},
   "outputs": [
    {
     "data": {
      "text/plain": [
       "<matplotlib.collections.PathCollection at 0x11519c358>"
      ]
     },
     "execution_count": 27,
     "metadata": {},
     "output_type": "execute_result"
    },
    {
     "data": {
      "image/png": "[encoded data removed]",
      "text/plain": [
       "<matplotlib.figure.Figure at 0x1137858d0>"
      ]
     },
     "metadata": {},
     "output_type": "display_data"
    }
   ],
   "source": [
    "N = 100\n",
    "X = np.random.uniform(-1, 1, (N, 2))\n",
    "y = np.where(X[:, 1] - X[:, 0] + 0.25 * np.sin(np.pi * X[:, 0]) > 0, 1, -1)[:, np.newaxis]\n",
    "plt.scatter(X[:, 0],  X[:, 1], c=y)\n"
   ]
  },
  {
   "cell_type": "markdown",
   "metadata": {},
   "source": [
    "# Now let's implement our kmeans function and view the cluster centers"
   ]
  },
  {
   "cell_type": "code",
   "execution_count": 28,
   "metadata": {},
   "outputs": [
    {
     "data": {
      "text/plain": [
       "<matplotlib.collections.PathCollection at 0x114159ef0>"
      ]
     },
     "execution_count": 28,
     "metadata": {},
     "output_type": "execute_result"
    },
    {
     "data": {
      "image/png": "[encoded data removed]",
      "text/plain": [
       "<matplotlib.figure.Figure at 0x114159e80>"
      ]
     },
     "metadata": {},
     "output_type": "display_data"
    }
   ],
   "source": [
    "K = 9\n",
    "uks = kmeans(X, K)\n",
    "plt.scatter(uks[:, 0],  uks[:, 1], marker='^', c='white', s=100)\n",
    "plt.scatter(X[:, 0],  X[:, 1], c=y)"
   ]
  },
  {
   "cell_type": "markdown",
   "metadata": {},
   "source": [
    "# Now let's create some sample code to implement our regular RBF algorithm.\n",
    "# the algorithm takes $\\mathcal X$, $y$, $\\gamma$ and $K$ and returns $\\mathbf w$\n",
    "\n",
    "# From $\\mathbf w$ we can calculate $E_{in}$ and $E_{out}$"
   ]
  },
  {
   "cell_type": "code",
   "execution_count": 29,
   "metadata": {},
   "outputs": [
    {
     "data": {
      "text/plain": [
       "0.02"
      ]
     },
     "execution_count": 29,
     "metadata": {},
     "output_type": "execute_result"
    }
   ],
   "source": [
    "N = 100\n",
    "K = 9\n",
    "gamma = 1.5\n",
    "\n",
    "X = np.random.uniform(-1, 1, (N, 2))\n",
    "y = np.where(X[:, 1] - X[:, 0] + 0.25 * np.sin(np.pi * X[:, 0]) > 0, 1, -1)[:, np.newaxis]\n",
    "\n",
    "phi = np.zeros((N, K))\n",
    "uks = kmeans(X, K)\n",
    "\n",
    "for j in range(K):\n",
    "    for i in range(N):\n",
    "        phi[i, j] = np.exp(-gamma * np.linalg.norm(X[i] - uks[j]) ** 2)\n",
    "        \n",
    "w = np.dot(np.dot(np.linalg.inv(np.dot(phi.T, phi)), phi.T), y)\n",
    "\n",
    "E_in = np.mean(np.where(np.dot(phi, w) > 0, 1, -1) != y)\n",
    "E_in"
   ]
  },
  {
   "cell_type": "markdown",
   "metadata": {},
   "source": [
    "# Let's create our test points"
   ]
  },
  {
   "cell_type": "code",
   "execution_count": 31,
   "metadata": {},
   "outputs": [],
   "source": [
    "Xtest = make_grid()\n",
    "ytest = np.where(Xtest[:, 1] - Xtest[:, 0] + 0.25 * np.sin(np.pi * Xtest[:, 0]) > 0, 1, -1)[:, np.newaxis]"
   ]
  },
  {
   "cell_type": "markdown",
   "metadata": {},
   "source": [
    "# And create a function for creating out random training points"
   ]
  },
  {
   "cell_type": "code",
   "execution_count": 34,
   "metadata": {},
   "outputs": [],
   "source": [
    "def get_X_y_train(N=100):\n",
    "    X = np.random.uniform(-1, 1, (N, 2))\n",
    "    y = np.where(X[:, 1] - X[:, 0] + 0.25 * np.sin(np.pi * X[:, 0]) > 0, 1, -1)[:, np.newaxis]\n",
    "    return(X, y)   "
   ]
  },
  {
   "cell_type": "markdown",
   "metadata": {},
   "source": [
    "# And implement them into a helper function that delivers $E_{in}$ and $E_{out}$ for the regular RBF algorithm"
   ]
  },
  {
   "cell_type": "code",
   "execution_count": 35,
   "metadata": {},
   "outputs": [],
   "source": [
    "def get_Kmeans_error(Xtrain, ytrain, Xtest=Xtest, ytest=ytest, K=9, gamma=1.5):\n",
    "    Ntrain = len(Xtrain)\n",
    "    phi_train = np.zeros((Ntrain, K))\n",
    "    \n",
    "    Ntest = len(Xtest)\n",
    "    phi_test = np.zeros((Ntest, K))\n",
    "    \n",
    "    uks = kmeans(Xtrain, K)\n",
    "\n",
    "    for j in range(K):\n",
    "        for i in range(Ntrain):\n",
    "            phi_train[i, j] = np.exp(-gamma * np.linalg.norm(Xtrain[i] - uks[j]) ** 2)\n",
    "            \n",
    "    for j in range(K):\n",
    "        for i in range(Ntest):\n",
    "            phi_test[i, j] = np.exp(-gamma * np.linalg.norm(Xtest[i] - uks[j]) ** 2)\n",
    "\n",
    " \n",
    "    w = np.dot(np.dot(np.linalg.inv(np.dot(phi_train.T, phi_train)), phi_train.T), ytrain)\n",
    "\n",
    "    E_in  = np.mean(np.where(np.dot(phi_train, w) > 0, 1, -1) != ytrain)\n",
    "    E_out = np.mean(np.where(np.dot(phi_test, w) > 0, 1, -1) != ytest)\n",
    "    return E_in, E_out"
   ]
  },
  {
   "cell_type": "markdown",
   "metadata": {},
   "source": [
    "# We create another helper function that delivers $E_{in}$ and $E_{out}$ for the SVM RBF algorithm"
   ]
  },
  {
   "cell_type": "code",
   "execution_count": 36,
   "metadata": {},
   "outputs": [],
   "source": [
    "def get_SVM_error(Xtrain, ytrain, Xtest=Xtest, ytest=ytest, gamma=1.5):\n",
    "    svm = LibSvm(svm_type='c_svc', kernel_type='rbf', gamma=gamma, C=10000)\n",
    "    svm.learn(Xtrain, ytrain.ravel())\n",
    "    E_in  = np.mean(svm.pred(Xtrain)!=ytrain.ravel())\n",
    "    E_out = np.mean(svm.pred(Xtest)!=ytest.ravel())\n",
    "\n",
    "    return E_in, E_out"
   ]
  },
  {
   "cell_type": "code",
   "execution_count": null,
   "metadata": {},
   "outputs": [],
   "source": [
    "# problem 13"
   ]
  },
  {
   "cell_type": "code",
   "execution_count": 37,
   "metadata": {},
   "outputs": [
    {
     "name": "stdout",
     "output_type": "stream",
     "text": [
      "I get a data set that is not separable by the RBF kernel using hard-margin SVM 0.0% of the time\n"
     ]
    }
   ],
   "source": [
    "trials = 100\n",
    "SVM_Eins_greater_than_0 = np.zeros(trials)\n",
    "for i in range(trials):\n",
    "    Xtrain, ytrain = get_X_y_train()\n",
    "    SVM_Eins_greater_than_0[i] = get_SVM_error(Xtrain, ytrain)[0] > 0 \n",
    "    \n",
    "print(\"I get a data set that is not separable by the RBF kernel using hard-margin SVM {}% of the time\"\n",
    "      .format(np.mean(SVM_Eins_greater_than_0 * 100)))"
   ]
  },
  {
   "cell_type": "markdown",
   "metadata": {},
   "source": [
    "# answer is [a]"
   ]
  },
  {
   "cell_type": "code",
   "execution_count": null,
   "metadata": {},
   "outputs": [],
   "source": [
    "# problem 14"
   ]
  },
  {
   "cell_type": "code",
   "execution_count": 38,
   "metadata": {},
   "outputs": [
    {
     "name": "stdout",
     "output_type": "stream",
     "text": [
      "The kernel form beat the regular form 89.0% of the time\n"
     ]
    }
   ],
   "source": [
    "trials = 100\n",
    "SVM_better_than_regular_Eouts = np.zeros(trials)\n",
    "for i in range(trials):\n",
    "    Xtrain, ytrain = get_X_y_train()\n",
    "    SVM_better_than_regular_Eouts[i] = get_SVM_error(Xtrain, ytrain)[1] < get_Kmeans_error(Xtrain, ytrain)[1]\n",
    "\n",
    "print(\"The kernel form beat the regular form {}% of the time\".format(np.mean(SVM_better_than_regular_Eouts)*100))"
   ]
  },
  {
   "cell_type": "markdown",
   "metadata": {},
   "source": [
    "# answer is [e]"
   ]
  },
  {
   "cell_type": "code",
   "execution_count": null,
   "metadata": {},
   "outputs": [],
   "source": [
    "# problem 15"
   ]
  },
  {
   "cell_type": "code",
   "execution_count": 39,
   "metadata": {},
   "outputs": [
    {
     "name": "stdout",
     "output_type": "stream",
     "text": [
      "The kernel form beat the regular form 81.0% of the time\n"
     ]
    }
   ],
   "source": [
    "trials = 50\n",
    "SVM_better_than_regular_Eouts = np.zeros(trials)\n",
    "for i in range(trials):\n",
    "    Xtrain, ytrain = get_X_y_train()\n",
    "    SVM_better_than_regular_Eouts[i] = get_SVM_error(Xtrain, ytrain)[1] < get_Kmeans_error(Xtrain, ytrain, K=12)[1]\n",
    "\n",
    "print(\"The kernel form beat the regular form {}% of the time\".format(np.mean(SVM_better_than_regular_Eouts)*100))"
   ]
  },
  {
   "cell_type": "markdown",
   "metadata": {},
   "source": [
    "# answer is [d]"
   ]
  },
  {
   "cell_type": "code",
   "execution_count": null,
   "metadata": {},
   "outputs": [],
   "source": [
    "# problem 16"
   ]
  },
  {
   "cell_type": "code",
   "execution_count": 81,
   "metadata": {},
   "outputs": [],
   "source": [
    "trials = 20\n",
    "E_ins_K_9_K_12  = np.zeros((trials, 2))\n",
    "E_outs_K_9_K_12 = np.zeros((trials, 2))\n",
    "\n",
    "for i in range(trials):\n",
    "    Xtrain, ytrain = get_X_y_train()\n",
    "    E_ins_K_9_K_12[i]  = get_Kmeans_error(Xtrain, ytrain, K=9)[0], get_Kmeans_error(Xtrain, ytrain, K=12)[0]\n",
    "    E_outs_K_9_K_12[i] = get_Kmeans_error(Xtrain, ytrain, K=9)[1], get_Kmeans_error(Xtrain, ytrain, K=12)[1]\n",
    "    \n",
    "E_ins_K  = np.mean(E_ins_K_9_K_12, axis=0)\n",
    "E_outs_K = np.mean(E_outs_K_9_K_12, axis=0)"
   ]
  },
  {
   "cell_type": "code",
   "execution_count": 82,
   "metadata": {},
   "outputs": [
    {
     "data": {
      "image/png": "[encoded data removed]",
      "text/plain": [
       "<matplotlib.figure.Figure at 0x1271fa940>"
      ]
     },
     "metadata": {},
     "output_type": "display_data"
    }
   ],
   "source": [
    "N = 2\n",
    "\n",
    "ind = np.arange(N)  # the x locations for the groups\n",
    "width = 0.35       # the width of the bars\n",
    "\n",
    "fig, ax = plt.subplots()\n",
    "rects1 = ax.bar(ind, E_ins_K, width, color='r', yerr=None)\n",
    "\n",
    "womenMeans = Errors_K_12\n",
    "rects2 = ax.bar(ind + width, E_outs_K, width, color='y', yerr=None)\n",
    "\n",
    "# add some text for labels, title and axes ticks\n",
    "ax.set_ylabel('Error')\n",
    "ax.set_title('$E_{in}$ and $E_{out}$ by number of clusters K')\n",
    "ax.set_xticks(ind + width)\n",
    "ax.set_xticklabels(('$K=9$', '$K=12$'))\n",
    "\n",
    "ax.legend((rects1[0], rects2[0]), ('$E_{in}$', '$E_{out}$'), loc='best')\n",
    "\n",
    "\n",
    "def autolabel(rects):\n",
    "    # attach some text labels\n",
    "    for rect in rects:\n",
    "        height = rect.get_height()\n",
    "        ax.text(rect.get_x() + rect.get_width()/2., 1.05*height,\n",
    "                '%d' % int(height),\n",
    "                ha='center', va='bottom')\n"
   ]
  },
  {
   "cell_type": "markdown",
   "metadata": {},
   "source": [
    "# [d] Both $E_{in}$ and $E_{out}$ go down"
   ]
  },
  {
   "cell_type": "code",
   "execution_count": null,
   "metadata": {},
   "outputs": [],
   "source": [
    "# problem 17"
   ]
  },
  {
   "cell_type": "code",
   "execution_count": 78,
   "metadata": {},
   "outputs": [],
   "source": [
    "trials = 20\n",
    "E_ins_gamma_1_5_gamma_2  = np.zeros((trials, 2))\n",
    "E_outs_gamma_1_5_gamma_2 = np.zeros((trials, 2))\n",
    "\n",
    "for i in range(trials):\n",
    "    Xtrain, ytrain = get_X_y_train()\n",
    "    E_ins_gamma_1_5_gamma_2[i]  = get_Kmeans_error(Xtrain, ytrain, gamma=1.5)[0], get_Kmeans_error(Xtrain, ytrain, gamma=2)[0]\n",
    "    E_outs_gamma_1_5_gamma_2[i] = get_Kmeans_error(Xtrain, ytrain, gamma=1.5)[1], get_Kmeans_error(Xtrain, ytrain, gamma=2)[1]\n",
    "    \n",
    "E_ins_gamma  = np.mean(E_ins_gamma_1_5_gamma_2, axis=0)\n",
    "E_outs_gamma = np.mean(E_outs_gamma_1_5_gamma_2, axis=0)"
   ]
  },
  {
   "cell_type": "code",
   "execution_count": 79,
   "metadata": {},
   "outputs": [
    {
     "data": {
      "image/png": "[encoded data removed]",
      "text/plain": [
       "<matplotlib.figure.Figure at 0x126862dd8>"
      ]
     },
     "metadata": {},
     "output_type": "display_data"
    }
   ],
   "source": [
    "N = 2\n",
    "\n",
    "ind = np.arange(N)  # the x locations for the groups\n",
    "width = 0.35       # the width of the bars\n",
    "\n",
    "fig, ax = plt.subplots()\n",
    "rects1 = ax.bar(ind, E_ins_gamma, width, color='r', yerr=None)\n",
    "\n",
    "womenMeans = Errors_K_12\n",
    "rects2 = ax.bar(ind + width, E_outs_gamma, width, color='y', yerr=None)\n",
    "\n",
    "# add some text for labels, title and axes ticks\n",
    "ax.set_ylabel('Error')\n",
    "ax.set_title('$E_{in}$ and $E_{out}$ by $\\gamma$')\n",
    "ax.set_xticks(ind + width)\n",
    "ax.set_xticklabels(('$\\gamma=1.5$', '$\\gamma=2$'))\n",
    "\n",
    "ax.legend((rects1[0], rects2[0]), ('$E_{in}$', '$E_{out}$'), loc='best')\n",
    "\n",
    "\n",
    "def autolabel(rects):\n",
    "    # attach some text labels\n",
    "    for rect in rects:\n",
    "        height = rect.get_height()\n",
    "        ax.text(rect.get_x() + rect.get_width()/2., 1.05*height,\n",
    "                '%d' % int(height),\n",
    "                ha='center', va='bottom')\n"
   ]
  },
  {
   "cell_type": "markdown",
   "metadata": {},
   "source": [
    "# [c] Both $E_{in}$ and $E_{out}$ go up"
   ]
  },
  {
   "cell_type": "code",
   "execution_count": null,
   "metadata": {},
   "outputs": [],
   "source": [
    "# problem 18"
   ]
  },
  {
   "cell_type": "code",
   "execution_count": 83,
   "metadata": {},
   "outputs": [
    {
     "name": "stdout",
     "output_type": "stream",
     "text": [
      "I get a data set that is separable by the regular RBF kernel using K=9 and gamma=1.5 1.0% of the time\n"
     ]
    }
   ],
   "source": [
    "trials = 100\n",
    "RBF_Eins_equal_to_0 = np.zeros(trials)\n",
    "for i in range(trials):\n",
    "    Xtrain, ytrain = get_X_y_train()\n",
    "    RBF_Eins_equal_to_0[i] = get_Kmeans_error(Xtrain, ytrain)[0] == 0 \n",
    "    \n",
    "print(\"I get a data set that is separable by the regular RBF kernel using K=9 and gamma=1.5 {}% of the time\"\n",
    "      .format(np.mean(RBF_Eins_equal_to_0 * 100)))"
   ]
  },
  {
   "cell_type": "markdown",
   "metadata": {},
   "source": [
    "# answer is [a]"
   ]
  },
  {
   "cell_type": "markdown",
   "metadata": {},
   "source": [
    "# Problem 19\n",
    "\n",
    "# $P(h=f|\\mathcal D) \\propto P(\\mathcal D|h=f)P(h=f)$\n",
    "\n",
    "# $P(h=f)\\sim Uniform(0,1)$\n",
    "\n",
    "# $P(h=f|\\mathcal D) \\propto P(\\mathcal D|h=f)$\n",
    "\n",
    "# $\\mathcal D$ contains only one data point that has the binary value of 1 or 0 and we know that it's 1.\n",
    "\n",
    "# This means that $P(\\mathcal D=1|h=f) \\sim Bernoulli(h) = h^{\\mathcal D} (1-h)^{1-\\mathcal D} = h$\n",
    "\n",
    "# $P(h=f|\\mathcal D) \\propto h \\in [0, 1]$ and $h$ is linear and positive (it's not $h^2$, $h^3$ or $-h$)\n",
    "\n",
    "# The answer is [b]  The posterior increases linearly over [0, 1].\n",
    "\n",
    "\n",
    "\n"
   ]
  },
  {
   "cell_type": "markdown",
   "metadata": {},
   "source": [
    "# Problem 20"
   ]
  },
  {
   "cell_type": "markdown",
   "metadata": {},
   "source": [
    "# This solution is inspired by this [paper](https://groups.csail.mit.edu/sls/publications/1998/icassp98-aggregation.pdf \"USING AGGREGATION TO IMPROVE THE PERFORMANCE OF MIXTURE GAUSSIAN ACOUSTIC MODELS\")\n",
    "\n",
    "# $g(\\mathbf x) = \\frac{1}{2}(g_1(\\mathbf x) + g_2(\\mathbf x))$ \n",
    "\n",
    "# Let $K$ be the number of hypothesis, in this case $K = 2$\n",
    "\n",
    "# Let $E_{out}(g) = \\frac{1}{N}\\sum^N_{n=1}(g(\\mathbf x_n) − y_n)^2$ where $N$ is the number of data points\n",
    "\n",
    "# We can then say generally the above equation can be represented by:\n",
    "\n",
    "# $\\frac{1}{K}\\sum^K_{k=1}g_k(\\mathbf x)$\n",
    "\n",
    "# with the mean error $\\bar E_{out} = \\frac{1}{K}\\frac{1}{N}\\sum^N_{n=1}\\sum^K_{k=1}(g_k(\\mathbf x_n) − y_n)^2$ \n",
    "\n",
    "# $\\bar E_{out} = \\frac{1}{K}\\frac{1}{N}\\sum^N_{n=1}\\sum^K_{k=1}g^2_k(\\mathbf x_n) −2g_k(\\mathbf x_n)y_n + y^2_n$ \n",
    "\n",
    "# $\\bar E_{out} = \\frac{1}{N}\\sum^N_{n=1}\\sum^K_{k=1}\\frac{1}{K}g^2_k(\\mathbf x_n) −\\frac{2}{K}g_k(\\mathbf x_n)y_n + \\frac{1}{K}y^2_n$ \n",
    "\n",
    "# $\\bar E_{out} = \\frac{1}{N}\\sum^N_{n=1}\\frac{1}{K}\\sum^K_{k=1}g^2_k(\\mathbf x_n) −\\frac{2}{K}\\sum^K_{k=1}g_k(\\mathbf x_n)y_n + \\frac{1}{K}\\sum^K_{k=1}y^2_n$ \n",
    "\n",
    "# $\\bar E_{out} = \\frac{1}{N}\\sum^N_{n=1}\\color{blue}{\\frac{1}{K}\\sum^K_{k=1}g^2_k(\\mathbf x_n)} −\\frac{2}{K}\\sum^K_{k=1}g_k(\\mathbf x_n)y_n + y^2_n$ \n",
    "\n",
    "# Let the aggregate error $\\tilde E_{out} = \\frac{1}{N}\\sum^N_{n=1}(\\tilde g(\\mathbf x_n) − y_n)^2$ \n",
    "\n",
    "# with $\\tilde g(\\mathbf x_n) = \\frac{1}{K}\\sum^K_{k=1}g_k(\\mathbf x)$\n",
    "\n",
    "# $\\tilde E_{out} = \\frac{1}{N}\\sum^N_{n=1}\\tilde g^2(\\mathbf x_n) − 2\\tilde g(\\mathbf x_n)y_n  + y^2_n$ \n",
    "\n",
    "# $\\tilde E_{out} = \\frac{1}{N}\\sum^N_{n=1}(\\frac{1}{K}\\sum^K_{k=1}g_k(\\mathbf x_n))^2 − 2(\\frac{1}{K}\\sum^K_{k=1}g_k(\\mathbf x_n))y_n  + y^2_n$ \n",
    "\n",
    "# $\\tilde E_{out} = \\frac{1}{N}\\sum^N_{n=1}\\color{red}{\\bigl(\\frac{1}{K}\\sum^K_{k=1}g_k(\\mathbf x_n)\\bigr)^2} − \\frac{2}{K}\\sum^K_{k=1}g_k(\\mathbf x_n)y_n  + y^2_n$ \n",
    "\n",
    "# The only difference between $\\tilde E_{out}$ and $\\bar E_{out}$ are the highlighted components. Let's see how they relate to each other:\n",
    "\n",
    "# The Cauchy–Schwartz inequality states that:\n",
    "\n",
    "# <center>$\\left(\\sum_{k=1}^K u_k v_k\\right)^2\\leq \\left(\\sum_{k=1}^K u_k^2\\right) \\left(\\sum_{k=1}^K v_k^2\\right)$</center>\n",
    "\n",
    "# Let $v_k = 1$\n",
    "\n",
    "# <center>$\\left(\\sum_{k=1}^K u_k \\right)^2\\leq K\\left(\\sum_{k=1}^K u_k^2\\right)$</center>\n",
    "\n",
    "# comparing both red and blue terms ($\\neq_n$ means not necessarily equal):\n",
    "\n",
    "# <center>$\\color{red}{\\bigl(\\frac{1}{K}\\sum^K_{k=1}g_k(\\mathbf x_n)\\bigr)^2} \\neq_n \\color{blue}{\\frac{1}{K}\\sum^K_{k=1}g^2_k(\\mathbf x_n)}$</center>\n",
    "\n",
    "# <center>$\\color{red}{\\frac{1}{K^2}\\bigl(\\sum^K_{k=1}g_k(\\mathbf x_n)\\bigr)^2} \\neq_n \\color{blue}{\\frac{1}{K}\\sum^K_{k=1}g^2_k(\\mathbf x_n)}$</center>\n",
    "\n",
    "# <center>$\\color{red}{\\bigl(\\sum^K_{k=1}g_k(\\mathbf x_n)\\bigr)^2} \\neq_n \\color{blue}{K\\sum^K_{k=1}g^2_k(\\mathbf x_n)}$</center>\n",
    "\n",
    "# Allowing $g_k(\\mathbf x_n) = u_k$ yields the Cauchy-Schwartz form above and we can now state:\n",
    "\n",
    "# <center>$\\color{red}{\\bigl(\\sum^K_{k=1}g_k(\\mathbf x_n)\\bigr)^2} \\leq \\color{blue}{K\\sum^K_{k=1}g^2_k(\\mathbf x_n)}$</center>\n",
    "\n",
    "# Thus:\n",
    "\n",
    "# <center> $\\tilde E_{out} \\leq \\bar E_{out}$</center>\n",
    "\n",
    "# <center> $E_{out}(g) \\leq \\frac {1}{2}\\bigl(E_{out}(g_1) + E_{out}(g_1)\\bigr)$</center>\n",
    "\n",
    "# <center> $E_{out}(g)$ cannot be worse than the average of $E_{out}(g_1)$ and $E_{out}(g_2)$.</center>\n",
    "\n",
    "# <center> QED </center>\n",
    "\n",
    "# The answer is [c]"
   ]
  }
 ],
 "metadata": {
  "kernelspec": {
   "display_name": "Python 3",
   "language": "python",
   "name": "python3"
  },
  "language_info": {
   "codemirror_mode": {
    "name": "ipython",
    "version": 3
   },
   "file_extension": ".py",
   "mimetype": "text/x-python",
   "name": "python",
   "nbconvert_exporter": "python",
   "pygments_lexer": "ipython3",
   "version": "3.5.2"
  }
 },
 "nbformat": 4,
 "nbformat_minor": 1
}
