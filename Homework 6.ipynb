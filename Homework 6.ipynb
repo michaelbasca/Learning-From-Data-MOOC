{
 "cells": [
  {
   "cell_type": "code",
   "execution_count": 79,
   "metadata": {
    "collapsed": true
   },
   "outputs": [],
   "source": [
    "import numpy as np"
   ]
  },
  {
   "cell_type": "code",
   "execution_count": 88,
   "metadata": {
    "collapsed": false
   },
   "outputs": [],
   "source": [
    "train = np.loadtxt('in.dta')\n",
    "test  = np.loadtxt('out.dta')"
   ]
  },
  {
   "cell_type": "code",
   "execution_count": 89,
   "metadata": {
    "collapsed": false
   },
   "outputs": [],
   "source": [
    "Xtrain = train[:, :2]\n",
    "ytrain = train[:, 2, np.newaxis]\n",
    "\n",
    "Xtest = test[:, :2]\n",
    "ytest = test[:, 2, np.newaxis]"
   ]
  },
  {
   "cell_type": "code",
   "execution_count": 90,
   "metadata": {
    "collapsed": false
   },
   "outputs": [],
   "source": [
    "Ztrain = np.hstack(\n",
    "              (np.ones((len(Xtrain), 1)), \n",
    "               Xtrain, \n",
    "               Xtrain[:, [0]]**2, \n",
    "               Xtrain[:, [1]]**2, \n",
    "               Xtrain[:, [0]] * Xtrain[:, [1]], \n",
    "               np.abs(Xtrain[:, [0]] - Xtrain[:, [1]]), \n",
    "               np.abs(Xtrain[:, [0]] + Xtrain[:, [1]])\n",
    "              )\n",
    "    )\n",
    "\n",
    "Ztest = np.hstack(\n",
    "              (np.ones((len(Xtest), 1)), \n",
    "               Xtest, \n",
    "               Xtest[:, [0]]**2, \n",
    "               Xtest[:, [1]]**2, \n",
    "               Xtest[:, [0]] * Xtest[:, [1]], \n",
    "               np.abs(Xtest[:, [0]] - Xtest[:, [1]]), \n",
    "               np.abs(Xtest[:, [0]] + Xtest[:, [1]])\n",
    "              )\n",
    "    )"
   ]
  },
  {
   "cell_type": "code",
   "execution_count": 112,
   "metadata": {
    "collapsed": true
   },
   "outputs": [],
   "source": [
    "def regularization(k=-np.inf):\n",
    "    lambda_reg = 10**k\n",
    "    wreg = np.dot(np.dot(np.linalg.inv(np.dot(Ztrain.T, Ztrain) + \n",
    "              lambda_reg * np.identity(len(np.dot(Ztrain.T, Ztrain)))), \n",
    "                     Ztrain.T), \n",
    "              ytrain)\n",
    "    yhat_train = np.where(np.dot(Ztrain, wreg) > 0, 1, -1)\n",
    "    yhat_test  = np.where(np.dot(Ztest, wreg) > 0, 1, -1)\n",
    "    E_in  = 1 - np.mean(yhat_train == ytrain)\n",
    "    E_out = 1 - np.mean(yhat_test  == ytest)\n",
    "    return(E_in, E_out)"
   ]
  },
  {
   "cell_type": "code",
   "execution_count": 115,
   "metadata": {
    "collapsed": false
   },
   "outputs": [
    {
     "name": "stdout",
     "output_type": "stream",
     "text": [
      "Ein and Eout for no regulariztion is (0.03, 0.08)\n"
     ]
    }
   ],
   "source": [
    "E_in, E_out = regularization()\n",
    "print(\"Ein and Eout for no regulariztion is ({}, {})\".format(round(E_in, 2), round(E_out, 2)))"
   ]
  },
  {
   "cell_type": "code",
   "execution_count": 117,
   "metadata": {
    "collapsed": false
   },
   "outputs": [
    {
     "name": "stdout",
     "output_type": "stream",
     "text": [
      "Ein and Eout for no regulariztion is (0.03, 0.08)\n"
     ]
    }
   ],
   "source": [
    "E_in, E_out = regularization(k=-3)\n",
    "print(\"Ein and Eout for no regulariztion is ({}, {})\".format(round(E_in, 2), round(E_out, 2)))"
   ]
  },
  {
   "cell_type": "code",
   "execution_count": 119,
   "metadata": {
    "collapsed": false
   },
   "outputs": [
    {
     "name": "stdout",
     "output_type": "stream",
     "text": [
      "Ein and Eout for no regulariztion is (0.4, 0.4)\n"
     ]
    }
   ],
   "source": [
    "E_in, E_out = regularization(k=3)\n",
    "print(\"Ein and Eout for no regulariztion is ({}, {})\".format(round(E_in, 1), round(E_out, 1)))"
   ]
  },
  {
   "cell_type": "code",
   "execution_count": 132,
   "metadata": {
    "collapsed": false
   },
   "outputs": [
    {
     "name": "stdout",
     "output_type": "stream",
     "text": [
      "The k with the smallest Eout is -1\n"
     ]
    }
   ],
   "source": [
    "ks_and_E_outs = []\n",
    "for k in range(2,-3, -1):\n",
    "    ks_and_E_outs.append((regularization(k)[1], k))\n",
    "print(\"The k with the smallest Eout is {}\".format(sorted(ks_and_E_outs)[0][1]))"
   ]
  },
  {
   "cell_type": "code",
   "execution_count": 139,
   "metadata": {
    "collapsed": false
   },
   "outputs": [
    {
     "name": "stdout",
     "output_type": "stream",
     "text": [
      "The smallest Eout is 0.06\n"
     ]
    }
   ],
   "source": [
    "print(\"The smallest Eout is {}\".format(round(sorted(ks_and_E_outs)[0][0], 2)))"
   ]
  },
  {
   "cell_type": "code",
   "execution_count": 147,
   "metadata": {
    "collapsed": false
   },
   "outputs": [
    {
     "data": {
      "text/plain": [
       "45"
      ]
     },
     "execution_count": 147,
     "metadata": {},
     "output_type": "execute_result"
    }
   ],
   "source": [
    "2*(5*3 + 3*1)+9"
   ]
  },
  {
   "cell_type": "code",
   "execution_count": 145,
   "metadata": {
    "collapsed": false
   },
   "outputs": [
    {
     "data": {
      "text/plain": [
       "46"
      ]
     },
     "execution_count": 145,
     "metadata": {},
     "output_type": "execute_result"
    }
   ],
   "source": [
    "(6*3+4*1+1) * 2"
   ]
  },
  {
   "cell_type": "code",
   "execution_count": 143,
   "metadata": {
    "collapsed": false
   },
   "outputs": [
    {
     "data": {
      "text/plain": [
       "510"
      ]
     },
     "execution_count": 143,
     "metadata": {},
     "output_type": "execute_result"
    }
   ],
   "source": [
    "m = 22\n",
    "n = 14\n",
    "i = 10\n",
    "\n",
    "(10*(m-1)) + (m*(n-1)) + (n*1)"
   ]
  },
  {
   "cell_type": "code",
   "execution_count": null,
   "metadata": {
    "collapsed": true
   },
   "outputs": [],
   "source": []
  }
 ],
 "metadata": {
  "kernelspec": {
   "display_name": "Python 3",
   "language": "python",
   "name": "python3"
  },
  "language_info": {
   "codemirror_mode": {
    "name": "ipython",
    "version": 3
   },
   "file_extension": ".py",
   "mimetype": "text/x-python",
   "name": "python",
   "nbconvert_exporter": "python",
   "pygments_lexer": "ipython3",
   "version": "3.5.2"
  }
 },
 "nbformat": 4,
 "nbformat_minor": 1
}
