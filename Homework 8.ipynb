{
 "cells": [
  {
   "cell_type": "code",
   "execution_count": 1,
   "metadata": {
    "collapsed": false
   },
   "outputs": [],
   "source": [
    "import numpy as np\n",
    "import matplotlib.pyplot as plt\n",
    "from svmutil import *\n",
    "%matplotlib inline"
   ]
  },
  {
   "cell_type": "code",
   "execution_count": 2,
   "metadata": {
    "collapsed": false,
    "scrolled": true
   },
   "outputs": [],
   "source": [
    "url_Train = \"http://www.amlbook.com/data/zip/features.train\"\n",
    "train = np.genfromtxt(url_Train)\n",
    "\n",
    "url_Test = \"http://www.amlbook.com/data/zip/features.test\"\n",
    "test = np.genfromtxt(url_Test)"
   ]
  },
  {
   "cell_type": "code",
   "execution_count": 5,
   "metadata": {
    "collapsed": true
   },
   "outputs": [],
   "source": [
    "def one_vs_all(data, number):\n",
    "    X = data[:, 1:]\n",
    "    y = data[:, 0]\n",
    "    modified_y = np.where(y==number, 1, -1)\n",
    "    return (X.tolist(), list(modified_y))\n",
    "    "
   ]
  },
  {
   "cell_type": "code",
   "execution_count": 6,
   "metadata": {
    "collapsed": false
   },
   "outputs": [
    {
     "name": "stdout",
     "output_type": "stream",
     "text": [
      "Accuracy = 89.4116% (6519/7291) (classification)\n",
      "Accuracy = 98.5599% (7186/7291) (classification)\n"
     ]
    },
    {
     "name": "stderr",
     "output_type": "stream",
     "text": [
      "/Users/Mike/Documents/Python/MachineLearning/Learning From Data/EDX/Homework/Problems/svmutil.py:81: RuntimeWarning: invalid value encountered in double_scalars\n",
      "  SCC = ((l*sumvy-sumv*sumy)*(l*sumvy-sumv*sumy))/((l*sumvv-sumv*sumv)*(l*sumyy-sumy*sumy))\n"
     ]
    },
    {
     "name": "stdout",
     "output_type": "stream",
     "text": [
      "Accuracy = 89.9739% (6560/7291) (classification)\n",
      "Accuracy = 90.9752% (6633/7291) (classification)\n",
      "Accuracy = 91.0575% (6639/7291) (classification)\n",
      "Accuracy = 92.3742% (6735/7291) (classification)\n",
      "Accuracy = 90.8929% (6627/7291) (classification)\n",
      "Accuracy = 91.1535% (6646/7291) (classification)\n",
      "Accuracy = 92.5662% (6749/7291) (classification)\n",
      "Accuracy = 91.1672% (6647/7291) (classification)\n"
     ]
    }
   ],
   "source": [
    "N = 10\n",
    "E_ins_and_num_support_vecs = [None] * N\n",
    "\n",
    "for i in range(N):\n",
    "    X, y = one_vs_all(train, i)\n",
    "    \n",
    "    prob = svm_problem(y, X)\n",
    "    param = svm_parameter('-t 1 -c 0.01 -d 2 -g 1 -r 1')\n",
    "    m = svm_train(prob, param)\n",
    "    \n",
    "    p_label, p_acc, p_val = svm_predict(y, X, m)\n",
    "    \n",
    "    E_in = 100-p_acc[0]\n",
    "    num_support_vectors = len(m.get_SV())\n",
    "    E_ins_and_num_support_vecs[i] = (E_in, i, num_support_vectors)\n",
    "    \n",
    "E_ins_and_num_support_vecs.sort()    "
   ]
  },
  {
   "cell_type": "code",
   "execution_count": 7,
   "metadata": {
    "collapsed": false
   },
   "outputs": [
    {
     "name": "stdout",
     "output_type": "stream",
     "text": [
      "With C = 0.01 and Q = 2, the following classifiers that has the highest Ein is 0\n"
     ]
    }
   ],
   "source": [
    "print(\"With C = 0.01 and Q = 2, the following classifiers\\\n",
    " that has the highest Ein is {}\".format(E_ins_and_num_support_vecs[-1][1]))"
   ]
  },
  {
   "cell_type": "code",
   "execution_count": 8,
   "metadata": {
    "collapsed": false
   },
   "outputs": [
    {
     "name": "stdout",
     "output_type": "stream",
     "text": [
      "With C = 0.01 and Q = 2, the following classifiers that has the lowest Ein is 1\n"
     ]
    }
   ],
   "source": [
    "print(\"With C = 0.01 and Q = 2, the following classifiers\\\n",
    " that has the lowest Ein is {}\".format(E_ins_and_num_support_vecs[0][1]))"
   ]
  },
  {
   "cell_type": "code",
   "execution_count": 9,
   "metadata": {
    "collapsed": false
   },
   "outputs": [
    {
     "name": "stdout",
     "output_type": "stream",
     "text": [
      "The following values is the closest to the differencebetween the number of support vectors of these two classifiers is 1794\n"
     ]
    }
   ],
   "source": [
    "difference = E_ins_and_num_support_vecs[-1][2] - E_ins_and_num_support_vecs[0][2]\n",
    "\n",
    "print(\"The following values is the closest to the difference\\\n",
    "between the number of support vectors of these two classifiers is {}\".format(difference))"
   ]
  },
  {
   "cell_type": "code",
   "execution_count": 21,
   "metadata": {
    "collapsed": false
   },
   "outputs": [],
   "source": [
    "idx_for_1_train = np.argwhere(train[:, 0] == 1)\n",
    "idx_for_1_test = np.argwhere(test[:, 0] == 1)\n",
    "\n",
    "idx_for_5_train = np.argwhere(train[:, 0] == 5)\n",
    "idx_for_5_test = np.argwhere(test[:, 0] == 5)\n",
    "\n",
    "y_1_5_train = train[np.append(idx_for_1_train, idx_for_5_train), 0].astype('float64')\n",
    "X_1_5_train = train[np.append(idx_for_1_train, idx_for_5_train), 1:].astype('float64')\n",
    "\n",
    "y_train = list(np.where(y_1_5_train == 1, 1.0, -1.0).astype('float64'))\n",
    "X_train = X_1_5_train.tolist()\n",
    "\n",
    "y_1_5_test = test[np.append(idx_for_1_test, idx_for_5_test), 0].astype('float64')\n",
    "X_1_5_test = test[np.append(idx_for_1_test, idx_for_5_test), 1:].astype('float64')\n",
    "\n",
    "y_test = list(np.where(y_1_5_test == 1, 1.0, -1.0).astype('float64'))\n",
    "X_test = X_1_5_test.tolist()"
   ]
  },
  {
   "cell_type": "code",
   "execution_count": 23,
   "metadata": {
    "collapsed": false
   },
   "outputs": [
    {
     "name": "stdout",
     "output_type": "stream",
     "text": [
      "Accuracy = 99.5516% (1554/1561) (classification)\n",
      "Accuracy = 98.3491% (417/424) (classification)\n",
      "Accuracy = 99.5516% (1554/1561) (classification)\n",
      "Accuracy = 98.1132% (416/424) (classification)\n",
      "Accuracy = 99.5516% (1554/1561) (classification)\n",
      "Accuracy = 98.1132% (416/424) (classification)\n",
      "Accuracy = 99.6797% (1556/1561) (classification)\n",
      "Accuracy = 98.1132% (416/424) (classification)\n"
     ]
    }
   ],
   "source": [
    "Cs = np.array([1e-3, 1e-2, 1e-1, 1e-0])\n",
    "E_ins = np.zeros(len(Cs))\n",
    "E_outs = np.zeros(len(Cs))\n",
    "num_support_vectors = np.zeros(len(Cs))\n",
    "\n",
    "for i, C in enumerate(Cs):  \n",
    "    \n",
    "    prob = svm_problem(y_train, X_train)\n",
    "    param = svm_parameter('-t 1 -c {} -d 2 -g 1 -r 1'.format(C))\n",
    "    m = svm_train(prob, param)\n",
    "    \n",
    "    p_label, p_acc_in,  p_val = svm_predict(y_train, X_train, m)\n",
    "    p_label, p_acc_out, p_val = svm_predict(y_test, X_test, m)\n",
    "    \n",
    "    E_in  = 100-p_acc_in[0]\n",
    "    E_out = 100-p_acc_out[0]\n",
    "    \n",
    "    E_ins[i]  = E_in\n",
    "    E_outs[i] = E_out\n",
    "    num_support_vectors[i] = len(m.get_sv_indices())"
   ]
  },
  {
   "cell_type": "code",
   "execution_count": 24,
   "metadata": {
    "collapsed": false,
    "scrolled": true
   },
   "outputs": [
    {
     "data": {
      "text/plain": [
       "[<matplotlib.lines.Line2D at 0x106de7c88>]"
      ]
     },
     "execution_count": 24,
     "metadata": {},
     "output_type": "execute_result"
    },
    {
     "data": {
      "image/png": "[encoded data removed]",
      "text/plain": [
       "<matplotlib.figure.Figure at 0x106de7898>"
      ]
     },
     "metadata": {},
     "output_type": "display_data"
    }
   ],
   "source": [
    "plt.title(\"Number of support vectors vs. $log_{10}(C)$\")\n",
    "plt.plot(np.log10(Cs), num_support_vectors)"
   ]
  },
  {
   "cell_type": "code",
   "execution_count": 25,
   "metadata": {
    "collapsed": false
   },
   "outputs": [
    {
     "data": {
      "text/plain": [
       "array([ 76.,  34.,  24.,  24.])"
      ]
     },
     "execution_count": 25,
     "metadata": {},
     "output_type": "execute_result"
    }
   ],
   "source": [
    "num_support_vectors"
   ]
  },
  {
   "cell_type": "code",
   "execution_count": 26,
   "metadata": {
    "collapsed": false
   },
   "outputs": [
    {
     "data": {
      "text/plain": [
       "[<matplotlib.lines.Line2D at 0x106cb05c0>]"
      ]
     },
     "execution_count": 26,
     "metadata": {},
     "output_type": "execute_result"
    },
    {
     "data": {
      "image/png": "[encoded data removed]",
      "text/plain": [
       "<matplotlib.figure.Figure at 0x106cb0e48>"
      ]
     },
     "metadata": {},
     "output_type": "display_data"
    }
   ],
   "source": [
    "plt.title(\"$E_{out}$ vs. $log_{10}(C)$\")\n",
    "plt.plot(np.log10(Cs), E_outs)"
   ]
  },
  {
   "cell_type": "code",
   "execution_count": 28,
   "metadata": {
    "collapsed": false,
    "scrolled": false
   },
   "outputs": [
    {
     "data": {
      "text/plain": [
       "[<matplotlib.lines.Line2D at 0x106fa7208>]"
      ]
     },
     "execution_count": 28,
     "metadata": {},
     "output_type": "execute_result"
    },
    {
     "data": {
      "image/png": "[encoded data removed]",
      "text/plain": [
       "<matplotlib.figure.Figure at 0x1072a5ac8>"
      ]
     },
     "metadata": {},
     "output_type": "display_data"
    }
   ],
   "source": [
    "plt.title(\"$E_{in}$ vs. $log_{10}(C)$\")\n",
    "plt.plot(np.log10(Cs), E_ins)"
   ]
  },
  {
   "cell_type": "code",
   "execution_count": 31,
   "metadata": {
    "collapsed": false
   },
   "outputs": [
    {
     "name": "stdout",
     "output_type": "stream",
     "text": [
      "Accuracy = 99.5516% (1554/1561) (classification)\n",
      "Accuracy = 98.3491% (417/424) (classification)\n",
      "Accuracy = 99.5516% (1554/1561) (classification)\n",
      "Accuracy = 98.1132% (416/424) (classification)\n",
      "Accuracy = 99.5516% (1554/1561) (classification)\n",
      "Accuracy = 98.1132% (416/424) (classification)\n",
      "Accuracy = 99.6797% (1556/1561) (classification)\n",
      "Accuracy = 98.1132% (416/424) (classification)\n",
      "Accuracy = 99.5516% (1554/1561) (classification)\n",
      "Accuracy = 97.8774% (415/424) (classification)\n",
      "Accuracy = 99.6156% (1555/1561) (classification)\n",
      "Accuracy = 97.8774% (415/424) (classification)\n",
      "Accuracy = 99.6797% (1556/1561) (classification)\n",
      "Accuracy = 98.1132% (416/424) (classification)\n",
      "Accuracy = 99.6797% (1556/1561) (classification)\n",
      "Accuracy = 97.8774% (415/424) (classification)\n"
     ]
    }
   ],
   "source": [
    "Qs = np.array([2, 5])\n",
    "Cs = np.array([1e-3, 1e-2, 1e-1, 1e-0])\n",
    "E_ins  = np.zeros((len(Qs),len(Cs)))\n",
    "E_outs = np.zeros((len(Qs),len(Cs)))\n",
    "num_support_vectors = np.zeros((len(Qs),len(Cs)))\n",
    "\n",
    "for j, Q in enumerate(Qs):\n",
    "    for i, C in enumerate(Cs):  \n",
    "\n",
    "        prob = svm_problem(y_train, X_train)\n",
    "        param = svm_parameter('-q -t 1 -c {} -d {} -g 1 -r 1'.format(C, Q))\n",
    "        m = svm_train(prob, param)\n",
    "\n",
    "        p_label, p_acc_in,  p_val = svm_predict(y_train, X_train, m)\n",
    "        p_label, p_acc_out, p_val = svm_predict(y_test, X_test, m)\n",
    "\n",
    "        E_in  = 100-p_acc_in[0]\n",
    "        E_out = 100-p_acc_out[0]\n",
    "\n",
    "        E_ins[j, i]  = E_in\n",
    "        E_outs[j, i] = E_out\n",
    "        num_support_vectors[j, i] = len(m.get_sv_indices())"
   ]
  },
  {
   "cell_type": "code",
   "execution_count": 32,
   "metadata": {
    "collapsed": false
   },
   "outputs": [
    {
     "name": "stdout",
     "output_type": "stream",
     "text": [
      "E_in at C = 0.001 and Q = 5 is greater than Q = 2 is False\n",
      "The number of support vectors at C = 0.001and Q = 5 is lower than Q = 2 is True\n",
      "E_in at C = 0.01 and Q = 5 is greater than Q = 2 is False\n",
      "E_out at C = 1 and Q = 5 is lower than Q = 2 is False\n"
     ]
    }
   ],
   "source": [
    "print(\"E_in at C = 0.001 and Q = 5 is greater than Q = 2 is {}\".format(E_ins[0,0] < E_ins[1,0]))\n",
    "print(\"The number of support vectors at C = 0.001\\\n",
    "and Q = 5 is lower than Q = 2 is {}\".format(num_support_vectors[0,0] > num_support_vectors[1,0]))\n",
    "print(\"E_in at C = 0.01 and Q = 5 is greater than Q = 2 is {}\".format(E_ins[0,2] < E_ins[1,2]))\n",
    "print(\"E_out at C = 1 and Q = 5 is lower than Q = 2 is {}\".format(E_outs[0,-1] > E_outs[1,-1]))"
   ]
  },
  {
   "cell_type": "code",
   "execution_count": 33,
   "metadata": {
    "collapsed": false
   },
   "outputs": [],
   "source": [
    "from sklearn.cross_validation import train_test_split"
   ]
  },
  {
   "cell_type": "code",
   "execution_count": 34,
   "metadata": {
    "collapsed": false
   },
   "outputs": [
    {
     "name": "stdout",
     "output_type": "stream",
     "text": [
      "Accuracy = 98.0892% (154/157) (classification)\n",
      "Accuracy = 100% (157/157) (classification)\n",
      "Accuracy = 99.3631% (156/157) (classification)\n",
      "Accuracy = 99.3631% (156/157) (classification)\n",
      "Accuracy = 100% (157/157) (classification)\n",
      "Accuracy = 99.3631% (156/157) (classification)\n",
      "Accuracy = 99.3631% (156/157) (classification)\n",
      "Accuracy = 99.3631% (156/157) (classification)\n",
      "Accuracy = 99.3631% (156/157) (classification)\n",
      "Accuracy = 99.3631% (156/157) (classification)\n",
      "Accuracy = 96.8153% (152/157) (classification)\n",
      "Accuracy = 100% (157/157) (classification)\n",
      "Accuracy = 98.0892% (154/157) (classification)\n",
      "Accuracy = 99.3631% (156/157) (classification)\n",
      "Accuracy = 99.3631% (156/157) (classification)\n",
      "Accuracy = 100% (157/157) (classification)\n",
      "Accuracy = 100% (157/157) (classification)\n",
      "Accuracy = 99.3631% (156/157) (classification)\n",
      "Accuracy = 99.3631% (156/157) (classification)\n",
      "Accuracy = 100% (157/157) (classification)\n",
      "Accuracy = 100% (157/157) (classification)\n",
      "Accuracy = 98.7261% (155/157) (classification)\n",
      "Accuracy = 100% (157/157) (classification)\n",
      "Accuracy = 99.3631% (156/157) (classification)\n",
      "Accuracy = 100% (157/157) (classification)\n",
      "Accuracy = 100% (157/157) (classification)\n",
      "Accuracy = 100% (157/157) (classification)\n",
      "Accuracy = 100% (157/157) (classification)\n",
      "Accuracy = 100% (157/157) (classification)\n",
      "Accuracy = 100% (157/157) (classification)\n",
      "Accuracy = 99.3631% (156/157) (classification)\n",
      "Accuracy = 100% (157/157) (classification)\n",
      "Accuracy = 99.3631% (156/157) (classification)\n",
      "Accuracy = 99.3631% (156/157) (classification)\n",
      "Accuracy = 100% (157/157) (classification)\n",
      "Accuracy = 99.3631% (156/157) (classification)\n",
      "Accuracy = 99.3631% (156/157) (classification)\n",
      "Accuracy = 99.3631% (156/157) (classification)\n",
      "Accuracy = 99.3631% (156/157) (classification)\n",
      "Accuracy = 100% (157/157) (classification)\n",
      "Accuracy = 98.7261% (155/157) (classification)\n",
      "Accuracy = 99.3631% (156/157) (classification)\n",
      "Accuracy = 100% (157/157) (classification)\n",
      "Accuracy = 100% (157/157) (classification)\n",
      "Accuracy = 100% (157/157) (classification)\n",
      "Accuracy = 98.7261% (155/157) (classification)\n",
      "Accuracy = 98.7261% (155/157) (classification)\n",
      "Accuracy = 99.3631% (156/157) (classification)\n",
      "Accuracy = 100% (157/157) (classification)\n",
      "Accuracy = 99.3631% (156/157) (classification)\n",
      "Accuracy = 98.7261% (155/157) (classification)\n",
      "Accuracy = 98.7261% (155/157) (classification)\n",
      "Accuracy = 100% (157/157) (classification)\n",
      "Accuracy = 100% (157/157) (classification)\n",
      "Accuracy = 100% (157/157) (classification)\n",
      "Accuracy = 97.4522% (153/157) (classification)\n",
      "Accuracy = 99.3631% (156/157) (classification)\n",
      "Accuracy = 98.7261% (155/157) (classification)\n",
      "Accuracy = 99.3631% (156/157) (classification)\n",
      "Accuracy = 100% (157/157) (classification)\n",
      "Accuracy = 100% (157/157) (classification)\n",
      "Accuracy = 100% (157/157) (classification)\n",
      "Accuracy = 100% (157/157) (classification)\n",
      "Accuracy = 99.3631% (156/157) (classification)\n",
      "Accuracy = 100% (157/157) (classification)\n",
      "Accuracy = 98.0892% (154/157) (classification)\n",
      "Accuracy = 99.3631% (156/157) (classification)\n",
      "Accuracy = 100% (157/157) (classification)\n",
      "Accuracy = 99.3631% (156/157) (classification)\n",
      "Accuracy = 100% (157/157) (classification)\n",
      "Accuracy = 99.3631% (156/157) (classification)\n",
      "Accuracy = 99.3631% (156/157) (classification)\n",
      "Accuracy = 98.7261% (155/157) (classification)\n",
      "Accuracy = 99.3631% (156/157) (classification)\n",
      "Accuracy = 99.3631% (156/157) (classification)\n",
      "Accuracy = 99.3631% (156/157) (classification)\n",
      "Accuracy = 98.7261% (155/157) (classification)\n",
      "Accuracy = 100% (157/157) (classification)\n",
      "Accuracy = 98.7261% (155/157) (classification)\n",
      "Accuracy = 99.3631% (156/157) (classification)\n",
      "Accuracy = 100% (157/157) (classification)\n",
      "Accuracy = 100% (157/157) (classification)\n",
      "Accuracy = 100% (157/157) (classification)\n",
      "Accuracy = 100% (157/157) (classification)\n",
      "Accuracy = 100% (157/157) (classification)\n",
      "Accuracy = 98.7261% (155/157) (classification)\n",
      "Accuracy = 98.7261% (155/157) (classification)\n",
      "Accuracy = 100% (157/157) (classification)\n",
      "Accuracy = 98.7261% (155/157) (classification)\n",
      "Accuracy = 99.3631% (156/157) (classification)\n",
      "Accuracy = 98.0892% (154/157) (classification)\n",
      "Accuracy = 98.7261% (155/157) (classification)\n",
      "Accuracy = 100% (157/157) (classification)\n",
      "Accuracy = 100% (157/157) (classification)\n",
      "Accuracy = 100% (157/157) (classification)\n",
      "Accuracy = 99.3631% (156/157) (classification)\n",
      "Accuracy = 99.3631% (156/157) (classification)\n",
      "Accuracy = 99.3631% (156/157) (classification)\n",
      "Accuracy = 98.7261% (155/157) (classification)\n",
      "Accuracy = 100% (157/157) (classification)\n",
      "Accuracy = 100% (157/157) (classification)\n",
      "Accuracy = 99.3631% (156/157) (classification)\n",
      "Accuracy = 100% (157/157) (classification)\n",
      "Accuracy = 99.3631% (156/157) (classification)\n",
      "Accuracy = 98.7261% (155/157) (classification)\n",
      "Accuracy = 100% (157/157) (classification)\n",
      "Accuracy = 99.3631% (156/157) (classification)\n",
      "Accuracy = 100% (157/157) (classification)\n",
      "Accuracy = 100% (157/157) (classification)\n",
      "Accuracy = 100% (157/157) (classification)\n",
      "Accuracy = 99.3631% (156/157) (classification)\n",
      "Accuracy = 98.7261% (155/157) (classification)\n",
      "Accuracy = 100% (157/157) (classification)\n",
      "Accuracy = 100% (157/157) (classification)\n",
      "Accuracy = 99.3631% (156/157) (classification)\n",
      "Accuracy = 99.3631% (156/157) (classification)\n",
      "Accuracy = 100% (157/157) (classification)\n",
      "Accuracy = 100% (157/157) (classification)\n",
      "Accuracy = 99.3631% (156/157) (classification)\n",
      "Accuracy = 100% (157/157) (classification)\n",
      "Accuracy = 100% (157/157) (classification)\n",
      "Accuracy = 100% (157/157) (classification)\n",
      "Accuracy = 99.3631% (156/157) (classification)\n",
      "Accuracy = 100% (157/157) (classification)\n",
      "Accuracy = 100% (157/157) (classification)\n",
      "Accuracy = 99.3631% (156/157) (classification)\n",
      "Accuracy = 99.3631% (156/157) (classification)\n",
      "Accuracy = 100% (157/157) (classification)\n",
      "Accuracy = 99.3631% (156/157) (classification)\n",
      "Accuracy = 99.3631% (156/157) (classification)\n",
      "Accuracy = 99.3631% (156/157) (classification)\n",
      "Accuracy = 99.3631% (156/157) (classification)\n",
      "Accuracy = 99.3631% (156/157) (classification)\n",
      "Accuracy = 100% (157/157) (classification)\n",
      "Accuracy = 98.7261% (155/157) (classification)\n",
      "Accuracy = 98.7261% (155/157) (classification)\n",
      "Accuracy = 99.3631% (156/157) (classification)\n",
      "Accuracy = 100% (157/157) (classification)\n",
      "Accuracy = 100% (157/157) (classification)\n",
      "Accuracy = 100% (157/157) (classification)\n",
      "Accuracy = 99.3631% (156/157) (classification)\n",
      "Accuracy = 98.7261% (155/157) (classification)\n",
      "Accuracy = 100% (157/157) (classification)\n",
      "Accuracy = 99.3631% (156/157) (classification)\n",
      "Accuracy = 100% (157/157) (classification)\n",
      "Accuracy = 99.3631% (156/157) (classification)\n",
      "Accuracy = 99.3631% (156/157) (classification)\n",
      "Accuracy = 99.3631% (156/157) (classification)\n",
      "Accuracy = 100% (157/157) (classification)\n",
      "Accuracy = 99.3631% (156/157) (classification)\n",
      "Accuracy = 98.7261% (155/157) (classification)\n",
      "Accuracy = 99.3631% (156/157) (classification)\n",
      "Accuracy = 100% (157/157) (classification)\n",
      "Accuracy = 98.0892% (154/157) (classification)\n",
      "Accuracy = 99.3631% (156/157) (classification)\n",
      "Accuracy = 99.3631% (156/157) (classification)\n",
      "Accuracy = 99.3631% (156/157) (classification)\n",
      "Accuracy = 100% (157/157) (classification)\n",
      "Accuracy = 100% (157/157) (classification)\n",
      "Accuracy = 99.3631% (156/157) (classification)\n",
      "Accuracy = 98.0892% (154/157) (classification)\n",
      "Accuracy = 100% (157/157) (classification)\n",
      "Accuracy = 99.3631% (156/157) (classification)\n",
      "Accuracy = 100% (157/157) (classification)\n",
      "Accuracy = 98.7261% (155/157) (classification)\n",
      "Accuracy = 98.7261% (155/157) (classification)\n",
      "Accuracy = 100% (157/157) (classification)\n",
      "Accuracy = 99.3631% (156/157) (classification)\n",
      "Accuracy = 100% (157/157) (classification)\n",
      "Accuracy = 100% (157/157) (classification)\n",
      "Accuracy = 98.0892% (154/157) (classification)\n",
      "Accuracy = 99.3631% (156/157) (classification)\n",
      "Accuracy = 100% (157/157) (classification)\n",
      "Accuracy = 100% (157/157) (classification)\n",
      "Accuracy = 100% (157/157) (classification)\n",
      "Accuracy = 98.0892% (154/157) (classification)\n",
      "Accuracy = 99.3631% (156/157) (classification)\n",
      "Accuracy = 99.3631% (156/157) (classification)\n",
      "Accuracy = 100% (157/157) (classification)\n",
      "Accuracy = 99.3631% (156/157) (classification)\n",
      "Accuracy = 100% (157/157) (classification)\n",
      "Accuracy = 100% (157/157) (classification)\n",
      "Accuracy = 99.3631% (156/157) (classification)\n",
      "Accuracy = 98.0892% (154/157) (classification)\n",
      "Accuracy = 100% (157/157) (classification)\n",
      "Accuracy = 98.0892% (154/157) (classification)\n",
      "Accuracy = 99.3631% (156/157) (classification)\n",
      "Accuracy = 100% (157/157) (classification)\n",
      "Accuracy = 100% (157/157) (classification)\n",
      "Accuracy = 99.3631% (156/157) (classification)\n",
      "Accuracy = 99.3631% (156/157) (classification)\n",
      "Accuracy = 100% (157/157) (classification)\n",
      "Accuracy = 100% (157/157) (classification)\n",
      "Accuracy = 100% (157/157) (classification)\n",
      "Accuracy = 99.3631% (156/157) (classification)\n",
      "Accuracy = 99.3631% (156/157) (classification)\n",
      "Accuracy = 99.3631% (156/157) (classification)\n",
      "Accuracy = 98.7261% (155/157) (classification)\n",
      "Accuracy = 100% (157/157) (classification)\n",
      "Accuracy = 98.7261% (155/157) (classification)\n",
      "Accuracy = 99.3631% (156/157) (classification)\n",
      "Accuracy = 100% (157/157) (classification)\n",
      "Accuracy = 100% (157/157) (classification)\n",
      "Accuracy = 99.3631% (156/157) (classification)\n",
      "Accuracy = 98.7261% (155/157) (classification)\n",
      "Accuracy = 98.7261% (155/157) (classification)\n",
      "Accuracy = 99.3631% (156/157) (classification)\n",
      "Accuracy = 100% (157/157) (classification)\n",
      "Accuracy = 99.3631% (156/157) (classification)\n",
      "Accuracy = 100% (157/157) (classification)\n",
      "Accuracy = 98.7261% (155/157) (classification)\n",
      "Accuracy = 100% (157/157) (classification)\n",
      "Accuracy = 100% (157/157) (classification)\n",
      "Accuracy = 100% (157/157) (classification)\n",
      "Accuracy = 99.3631% (156/157) (classification)\n",
      "Accuracy = 100% (157/157) (classification)\n",
      "Accuracy = 100% (157/157) (classification)\n",
      "Accuracy = 99.3631% (156/157) (classification)\n",
      "Accuracy = 100% (157/157) (classification)\n",
      "Accuracy = 100% (157/157) (classification)\n",
      "Accuracy = 97.4522% (153/157) (classification)\n",
      "Accuracy = 100% (157/157) (classification)\n",
      "Accuracy = 100% (157/157) (classification)\n",
      "Accuracy = 99.3631% (156/157) (classification)\n",
      "Accuracy = 99.3631% (156/157) (classification)\n",
      "Accuracy = 100% (157/157) (classification)\n",
      "Accuracy = 100% (157/157) (classification)\n",
      "Accuracy = 99.3631% (156/157) (classification)\n",
      "Accuracy = 99.3631% (156/157) (classification)\n",
      "Accuracy = 99.3631% (156/157) (classification)\n",
      "Accuracy = 98.7261% (155/157) (classification)\n",
      "Accuracy = 100% (157/157) (classification)\n",
      "Accuracy = 99.3631% (156/157) (classification)\n",
      "Accuracy = 100% (157/157) (classification)\n",
      "Accuracy = 99.3631% (156/157) (classification)\n",
      "Accuracy = 99.3631% (156/157) (classification)\n",
      "Accuracy = 100% (157/157) (classification)\n",
      "Accuracy = 99.3631% (156/157) (classification)\n",
      "Accuracy = 100% (157/157) (classification)\n",
      "Accuracy = 99.3631% (156/157) (classification)\n",
      "Accuracy = 99.3631% (156/157) (classification)\n",
      "Accuracy = 100% (157/157) (classification)\n",
      "Accuracy = 100% (157/157) (classification)\n",
      "Accuracy = 100% (157/157) (classification)\n",
      "Accuracy = 100% (157/157) (classification)\n",
      "Accuracy = 97.4522% (153/157) (classification)\n",
      "Accuracy = 99.3631% (156/157) (classification)\n",
      "Accuracy = 99.3631% (156/157) (classification)\n",
      "Accuracy = 100% (157/157) (classification)\n",
      "Accuracy = 98.7261% (155/157) (classification)\n",
      "Accuracy = 100% (157/157) (classification)\n",
      "Accuracy = 99.3631% (156/157) (classification)\n",
      "Accuracy = 99.3631% (156/157) (classification)\n",
      "Accuracy = 99.3631% (156/157) (classification)\n",
      "Accuracy = 99.3631% (156/157) (classification)\n",
      "Accuracy = 100% (157/157) (classification)\n",
      "Accuracy = 99.3631% (156/157) (classification)\n",
      "Accuracy = 98.7261% (155/157) (classification)\n",
      "Accuracy = 100% (157/157) (classification)\n",
      "Accuracy = 99.3631% (156/157) (classification)\n",
      "Accuracy = 98.0892% (154/157) (classification)\n",
      "Accuracy = 100% (157/157) (classification)\n",
      "Accuracy = 100% (157/157) (classification)\n",
      "Accuracy = 100% (157/157) (classification)\n",
      "Accuracy = 99.3631% (156/157) (classification)\n",
      "Accuracy = 98.0892% (154/157) (classification)\n",
      "Accuracy = 98.7261% (155/157) (classification)\n",
      "Accuracy = 100% (157/157) (classification)\n",
      "Accuracy = 100% (157/157) (classification)\n",
      "Accuracy = 98.7261% (155/157) (classification)\n",
      "Accuracy = 100% (157/157) (classification)\n",
      "Accuracy = 99.3631% (156/157) (classification)\n",
      "Accuracy = 100% (157/157) (classification)\n",
      "Accuracy = 100% (157/157) (classification)\n",
      "Accuracy = 100% (157/157) (classification)\n",
      "Accuracy = 99.3631% (156/157) (classification)\n",
      "Accuracy = 100% (157/157) (classification)\n",
      "Accuracy = 99.3631% (156/157) (classification)\n",
      "Accuracy = 100% (157/157) (classification)\n",
      "Accuracy = 99.3631% (156/157) (classification)\n",
      "Accuracy = 99.3631% (156/157) (classification)\n",
      "Accuracy = 98.7261% (155/157) (classification)\n",
      "Accuracy = 100% (157/157) (classification)\n",
      "Accuracy = 99.3631% (156/157) (classification)\n",
      "Accuracy = 98.7261% (155/157) (classification)\n",
      "Accuracy = 100% (157/157) (classification)\n",
      "Accuracy = 98.7261% (155/157) (classification)\n",
      "Accuracy = 98.7261% (155/157) (classification)\n",
      "Accuracy = 99.3631% (156/157) (classification)\n",
      "Accuracy = 100% (157/157) (classification)\n",
      "Accuracy = 98.7261% (155/157) (classification)\n",
      "Accuracy = 100% (157/157) (classification)\n",
      "Accuracy = 98.7261% (155/157) (classification)\n",
      "Accuracy = 100% (157/157) (classification)\n",
      "Accuracy = 99.3631% (156/157) (classification)\n",
      "Accuracy = 99.3631% (156/157) (classification)\n",
      "Accuracy = 100% (157/157) (classification)\n",
      "Accuracy = 99.3631% (156/157) (classification)\n",
      "Accuracy = 98.0892% (154/157) (classification)\n",
      "Accuracy = 100% (157/157) (classification)\n",
      "Accuracy = 99.3631% (156/157) (classification)\n",
      "Accuracy = 100% (157/157) (classification)\n",
      "Accuracy = 98.7261% (155/157) (classification)\n",
      "Accuracy = 100% (157/157) (classification)\n",
      "Accuracy = 100% (157/157) (classification)\n",
      "Accuracy = 98.7261% (155/157) (classification)\n",
      "Accuracy = 100% (157/157) (classification)\n",
      "Accuracy = 99.3631% (156/157) (classification)\n",
      "Accuracy = 98.7261% (155/157) (classification)\n",
      "Accuracy = 100% (157/157) (classification)\n",
      "Accuracy = 99.3631% (156/157) (classification)\n",
      "Accuracy = 100% (157/157) (classification)\n",
      "Accuracy = 100% (157/157) (classification)\n",
      "Accuracy = 100% (157/157) (classification)\n",
      "Accuracy = 100% (157/157) (classification)\n",
      "Accuracy = 97.4522% (153/157) (classification)\n",
      "Accuracy = 100% (157/157) (classification)\n",
      "Accuracy = 98.7261% (155/157) (classification)\n",
      "Accuracy = 99.3631% (156/157) (classification)\n",
      "Accuracy = 99.3631% (156/157) (classification)\n",
      "Accuracy = 98.0892% (154/157) (classification)\n",
      "Accuracy = 98.7261% (155/157) (classification)\n",
      "Accuracy = 100% (157/157) (classification)\n",
      "Accuracy = 100% (157/157) (classification)\n",
      "Accuracy = 99.3631% (156/157) (classification)\n",
      "Accuracy = 98.7261% (155/157) (classification)\n",
      "Accuracy = 99.3631% (156/157) (classification)\n",
      "Accuracy = 99.3631% (156/157) (classification)\n",
      "Accuracy = 100% (157/157) (classification)\n",
      "Accuracy = 100% (157/157) (classification)\n",
      "Accuracy = 98.7261% (155/157) (classification)\n",
      "Accuracy = 99.3631% (156/157) (classification)\n",
      "Accuracy = 99.3631% (156/157) (classification)\n",
      "Accuracy = 99.3631% (156/157) (classification)\n",
      "Accuracy = 99.3631% (156/157) (classification)\n",
      "Accuracy = 98.0892% (154/157) (classification)\n",
      "Accuracy = 100% (157/157) (classification)\n",
      "Accuracy = 99.3631% (156/157) (classification)\n",
      "Accuracy = 98.7261% (155/157) (classification)\n",
      "Accuracy = 100% (157/157) (classification)\n",
      "Accuracy = 99.3631% (156/157) (classification)\n",
      "Accuracy = 100% (157/157) (classification)\n",
      "Accuracy = 100% (157/157) (classification)\n",
      "Accuracy = 100% (157/157) (classification)\n",
      "Accuracy = 100% (157/157) (classification)\n",
      "Accuracy = 98.7261% (155/157) (classification)\n",
      "Accuracy = 98.7261% (155/157) (classification)\n",
      "Accuracy = 99.3631% (156/157) (classification)\n",
      "Accuracy = 100% (157/157) (classification)\n",
      "Accuracy = 99.3631% (156/157) (classification)\n",
      "Accuracy = 99.3631% (156/157) (classification)\n",
      "Accuracy = 99.3631% (156/157) (classification)\n",
      "Accuracy = 100% (157/157) (classification)\n",
      "Accuracy = 100% (157/157) (classification)\n",
      "Accuracy = 99.3631% (156/157) (classification)\n",
      "Accuracy = 99.3631% (156/157) (classification)\n",
      "Accuracy = 100% (157/157) (classification)\n",
      "Accuracy = 98.0892% (154/157) (classification)\n",
      "Accuracy = 99.3631% (156/157) (classification)\n",
      "Accuracy = 100% (157/157) (classification)\n",
      "Accuracy = 97.4522% (153/157) (classification)\n",
      "Accuracy = 99.3631% (156/157) (classification)\n",
      "Accuracy = 99.3631% (156/157) (classification)\n",
      "Accuracy = 98.7261% (155/157) (classification)\n",
      "Accuracy = 99.3631% (156/157) (classification)\n",
      "Accuracy = 98.0892% (154/157) (classification)\n",
      "Accuracy = 99.3631% (156/157) (classification)\n",
      "Accuracy = 100% (157/157) (classification)\n",
      "Accuracy = 100% (157/157) (classification)\n",
      "Accuracy = 99.3631% (156/157) (classification)\n",
      "Accuracy = 98.7261% (155/157) (classification)\n",
      "Accuracy = 99.3631% (156/157) (classification)\n",
      "Accuracy = 98.7261% (155/157) (classification)\n",
      "Accuracy = 99.3631% (156/157) (classification)\n",
      "Accuracy = 99.3631% (156/157) (classification)\n",
      "Accuracy = 98.7261% (155/157) (classification)\n",
      "Accuracy = 99.3631% (156/157) (classification)\n",
      "Accuracy = 100% (157/157) (classification)\n",
      "Accuracy = 99.3631% (156/157) (classification)\n",
      "Accuracy = 100% (157/157) (classification)\n",
      "Accuracy = 99.3631% (156/157) (classification)\n",
      "Accuracy = 99.3631% (156/157) (classification)\n",
      "Accuracy = 99.3631% (156/157) (classification)\n",
      "Accuracy = 99.3631% (156/157) (classification)\n",
      "Accuracy = 100% (157/157) (classification)\n",
      "Accuracy = 99.3631% (156/157) (classification)\n",
      "Accuracy = 99.3631% (156/157) (classification)\n",
      "Accuracy = 100% (157/157) (classification)\n",
      "Accuracy = 98.7261% (155/157) (classification)\n",
      "Accuracy = 99.3631% (156/157) (classification)\n",
      "Accuracy = 98.7261% (155/157) (classification)\n",
      "Accuracy = 98.0892% (154/157) (classification)\n",
      "Accuracy = 99.3631% (156/157) (classification)\n",
      "Accuracy = 100% (157/157) (classification)\n",
      "Accuracy = 98.7261% (155/157) (classification)\n",
      "Accuracy = 99.3631% (156/157) (classification)\n",
      "Accuracy = 98.7261% (155/157) (classification)\n",
      "Accuracy = 100% (157/157) (classification)\n",
      "Accuracy = 99.3631% (156/157) (classification)\n",
      "Accuracy = 100% (157/157) (classification)\n",
      "Accuracy = 100% (157/157) (classification)\n",
      "Accuracy = 99.3631% (156/157) (classification)\n",
      "Accuracy = 100% (157/157) (classification)\n",
      "Accuracy = 100% (157/157) (classification)\n",
      "Accuracy = 99.3631% (156/157) (classification)\n",
      "Accuracy = 99.3631% (156/157) (classification)\n",
      "Accuracy = 99.3631% (156/157) (classification)\n",
      "Accuracy = 99.3631% (156/157) (classification)\n",
      "Accuracy = 100% (157/157) (classification)\n",
      "Accuracy = 99.3631% (156/157) (classification)\n",
      "Accuracy = 98.0892% (154/157) (classification)\n",
      "Accuracy = 100% (157/157) (classification)\n",
      "Accuracy = 99.3631% (156/157) (classification)\n",
      "Accuracy = 99.3631% (156/157) (classification)\n",
      "Accuracy = 99.3631% (156/157) (classification)\n",
      "Accuracy = 97.4522% (153/157) (classification)\n",
      "Accuracy = 98.7261% (155/157) (classification)\n",
      "Accuracy = 100% (157/157) (classification)\n",
      "Accuracy = 99.3631% (156/157) (classification)\n",
      "Accuracy = 100% (157/157) (classification)\n",
      "Accuracy = 100% (157/157) (classification)\n",
      "Accuracy = 99.3631% (156/157) (classification)\n",
      "Accuracy = 100% (157/157) (classification)\n",
      "Accuracy = 100% (157/157) (classification)\n",
      "Accuracy = 99.3631% (156/157) (classification)\n",
      "Accuracy = 99.3631% (156/157) (classification)\n",
      "Accuracy = 100% (157/157) (classification)\n",
      "Accuracy = 99.3631% (156/157) (classification)\n",
      "Accuracy = 100% (157/157) (classification)\n",
      "Accuracy = 99.3631% (156/157) (classification)\n",
      "Accuracy = 99.3631% (156/157) (classification)\n",
      "Accuracy = 100% (157/157) (classification)\n",
      "Accuracy = 100% (157/157) (classification)\n",
      "Accuracy = 98.7261% (155/157) (classification)\n",
      "Accuracy = 100% (157/157) (classification)\n",
      "Accuracy = 98.7261% (155/157) (classification)\n",
      "Accuracy = 100% (157/157) (classification)\n",
      "Accuracy = 100% (157/157) (classification)\n",
      "Accuracy = 99.3631% (156/157) (classification)\n",
      "Accuracy = 100% (157/157) (classification)\n",
      "Accuracy = 98.7261% (155/157) (classification)\n",
      "Accuracy = 99.3631% (156/157) (classification)\n",
      "Accuracy = 100% (157/157) (classification)\n",
      "Accuracy = 100% (157/157) (classification)\n",
      "Accuracy = 99.3631% (156/157) (classification)\n",
      "Accuracy = 99.3631% (156/157) (classification)\n",
      "Accuracy = 99.3631% (156/157) (classification)\n",
      "Accuracy = 100% (157/157) (classification)\n",
      "Accuracy = 98.7261% (155/157) (classification)\n",
      "Accuracy = 99.3631% (156/157) (classification)\n",
      "Accuracy = 98.0892% (154/157) (classification)\n",
      "Accuracy = 100% (157/157) (classification)\n",
      "Accuracy = 98.7261% (155/157) (classification)\n",
      "Accuracy = 99.3631% (156/157) (classification)\n",
      "Accuracy = 100% (157/157) (classification)\n",
      "Accuracy = 98.7261% (155/157) (classification)\n",
      "Accuracy = 100% (157/157) (classification)\n",
      "Accuracy = 99.3631% (156/157) (classification)\n",
      "Accuracy = 99.3631% (156/157) (classification)\n",
      "Accuracy = 98.7261% (155/157) (classification)\n",
      "Accuracy = 97.4522% (153/157) (classification)\n",
      "Accuracy = 100% (157/157) (classification)\n",
      "Accuracy = 98.7261% (155/157) (classification)\n",
      "Accuracy = 100% (157/157) (classification)\n",
      "Accuracy = 99.3631% (156/157) (classification)\n",
      "Accuracy = 99.3631% (156/157) (classification)\n",
      "Accuracy = 99.3631% (156/157) (classification)\n",
      "Accuracy = 99.3631% (156/157) (classification)\n",
      "Accuracy = 99.3631% (156/157) (classification)\n",
      "Accuracy = 99.3631% (156/157) (classification)\n",
      "Accuracy = 98.7261% (155/157) (classification)\n",
      "Accuracy = 100% (157/157) (classification)\n",
      "Accuracy = 99.3631% (156/157) (classification)\n",
      "Accuracy = 99.3631% (156/157) (classification)\n",
      "Accuracy = 99.3631% (156/157) (classification)\n",
      "Accuracy = 100% (157/157) (classification)\n",
      "Accuracy = 99.3631% (156/157) (classification)\n",
      "Accuracy = 99.3631% (156/157) (classification)\n",
      "Accuracy = 99.3631% (156/157) (classification)\n",
      "Accuracy = 98.0892% (154/157) (classification)\n",
      "Accuracy = 98.7261% (155/157) (classification)\n",
      "Accuracy = 100% (157/157) (classification)\n",
      "Accuracy = 99.3631% (156/157) (classification)\n",
      "Accuracy = 99.3631% (156/157) (classification)\n",
      "Accuracy = 99.3631% (156/157) (classification)\n",
      "Accuracy = 98.7261% (155/157) (classification)\n",
      "Accuracy = 99.3631% (156/157) (classification)\n",
      "Accuracy = 100% (157/157) (classification)\n",
      "Accuracy = 99.3631% (156/157) (classification)\n",
      "Accuracy = 98.7261% (155/157) (classification)\n",
      "Accuracy = 97.4522% (153/157) (classification)\n",
      "Accuracy = 99.3631% (156/157) (classification)\n",
      "Accuracy = 100% (157/157) (classification)\n",
      "Accuracy = 100% (157/157) (classification)\n",
      "Accuracy = 100% (157/157) (classification)\n",
      "Accuracy = 99.3631% (156/157) (classification)\n",
      "Accuracy = 99.3631% (156/157) (classification)\n",
      "Accuracy = 100% (157/157) (classification)\n",
      "Accuracy = 99.3631% (156/157) (classification)\n",
      "Accuracy = 100% (157/157) (classification)\n"
     ]
    }
   ],
   "source": [
    "trials = 100\n",
    "Q = 2\n",
    "Cs = [1e-4, 1e-3, 1e-2, 1e-1, 1e-0]\n",
    "best_cs = np.zeros(trials)\n",
    "\n",
    "for i in range(trials):\n",
    "    E_vals = np.zeros(len(Cs))\n",
    "    for j, C in enumerate(Cs):\n",
    "        Xtrain, Xtest, ytrain, ytest = train_test_split(X_train, y_train, test_size = 0.1)\n",
    "        prob = svm_problem(ytrain, Xtrain)\n",
    "        param = svm_parameter('-t 1 -c {} -d {} -g 1 -r 1'.format(C, Q))\n",
    "        m = svm_train(prob, param)\n",
    "        \n",
    "        p_acc = svm_predict(ytest, Xtest, m)[1][0]\n",
    "        E_vals[j] = 100 - p_acc\n",
    "    best_cs[i] = np.argmin(E_vals)"
   ]
  },
  {
   "cell_type": "code",
   "execution_count": 35,
   "metadata": {
    "collapsed": false,
    "scrolled": true
   },
   "outputs": [
    {
     "name": "stdout",
     "output_type": "stream",
     "text": [
      "Best C = 0.001 is selected most often at Q = 2\n"
     ]
    }
   ],
   "source": [
    "print(\"Best C = {} is selected most often at Q = 2\". format(Cs[np.argmax(np.bincount(best_cs.astype(int)))]))"
   ]
  },
  {
   "cell_type": "code",
   "execution_count": 36,
   "metadata": {
    "collapsed": false
   },
   "outputs": [
    {
     "name": "stdout",
     "output_type": "stream",
     "text": [
      "Accuracy = 100% (157/157) (classification)\n",
      "Accuracy = 100% (157/157) (classification)\n",
      "Accuracy = 100% (157/157) (classification)\n",
      "Accuracy = 99.3631% (156/157) (classification)\n",
      "Accuracy = 99.3631% (156/157) (classification)\n",
      "Accuracy = 98.7261% (155/157) (classification)\n",
      "Accuracy = 100% (157/157) (classification)\n",
      "Accuracy = 100% (157/157) (classification)\n",
      "Accuracy = 98.7261% (155/157) (classification)\n",
      "Accuracy = 100% (157/157) (classification)\n",
      "Accuracy = 100% (157/157) (classification)\n",
      "Accuracy = 99.3631% (156/157) (classification)\n",
      "Accuracy = 99.3631% (156/157) (classification)\n",
      "Accuracy = 100% (157/157) (classification)\n",
      "Accuracy = 99.3631% (156/157) (classification)\n",
      "Accuracy = 100% (157/157) (classification)\n",
      "Accuracy = 100% (157/157) (classification)\n",
      "Accuracy = 98.7261% (155/157) (classification)\n",
      "Accuracy = 100% (157/157) (classification)\n",
      "Accuracy = 98.7261% (155/157) (classification)\n",
      "Accuracy = 99.3631% (156/157) (classification)\n",
      "Accuracy = 98.0892% (154/157) (classification)\n",
      "Accuracy = 98.7261% (155/157) (classification)\n",
      "Accuracy = 100% (157/157) (classification)\n",
      "Accuracy = 100% (157/157) (classification)\n",
      "Accuracy = 98.7261% (155/157) (classification)\n",
      "Accuracy = 98.0892% (154/157) (classification)\n",
      "Accuracy = 98.7261% (155/157) (classification)\n",
      "Accuracy = 100% (157/157) (classification)\n",
      "Accuracy = 100% (157/157) (classification)\n",
      "Accuracy = 99.3631% (156/157) (classification)\n",
      "Accuracy = 99.3631% (156/157) (classification)\n",
      "Accuracy = 99.3631% (156/157) (classification)\n",
      "Accuracy = 100% (157/157) (classification)\n",
      "Accuracy = 100% (157/157) (classification)\n",
      "Accuracy = 99.3631% (156/157) (classification)\n",
      "Accuracy = 100% (157/157) (classification)\n",
      "Accuracy = 100% (157/157) (classification)\n",
      "Accuracy = 100% (157/157) (classification)\n",
      "Accuracy = 100% (157/157) (classification)\n",
      "Accuracy = 100% (157/157) (classification)\n",
      "Accuracy = 100% (157/157) (classification)\n",
      "Accuracy = 98.7261% (155/157) (classification)\n",
      "Accuracy = 100% (157/157) (classification)\n",
      "Accuracy = 99.3631% (156/157) (classification)\n",
      "Accuracy = 100% (157/157) (classification)\n",
      "Accuracy = 100% (157/157) (classification)\n",
      "Accuracy = 100% (157/157) (classification)\n",
      "Accuracy = 100% (157/157) (classification)\n",
      "Accuracy = 98.7261% (155/157) (classification)\n",
      "Accuracy = 99.3631% (156/157) (classification)\n",
      "Accuracy = 99.3631% (156/157) (classification)\n",
      "Accuracy = 99.3631% (156/157) (classification)\n",
      "Accuracy = 99.3631% (156/157) (classification)\n",
      "Accuracy = 100% (157/157) (classification)\n",
      "Accuracy = 98.7261% (155/157) (classification)\n",
      "Accuracy = 99.3631% (156/157) (classification)\n",
      "Accuracy = 99.3631% (156/157) (classification)\n",
      "Accuracy = 99.3631% (156/157) (classification)\n",
      "Accuracy = 99.3631% (156/157) (classification)\n",
      "Accuracy = 98.7261% (155/157) (classification)\n",
      "Accuracy = 98.0892% (154/157) (classification)\n",
      "Accuracy = 100% (157/157) (classification)\n",
      "Accuracy = 99.3631% (156/157) (classification)\n",
      "Accuracy = 98.7261% (155/157) (classification)\n",
      "Accuracy = 99.3631% (156/157) (classification)\n",
      "Accuracy = 100% (157/157) (classification)\n",
      "Accuracy = 99.3631% (156/157) (classification)\n",
      "Accuracy = 99.3631% (156/157) (classification)\n",
      "Accuracy = 100% (157/157) (classification)\n",
      "Accuracy = 99.3631% (156/157) (classification)\n",
      "Accuracy = 98.0892% (154/157) (classification)\n",
      "Accuracy = 100% (157/157) (classification)\n",
      "Accuracy = 100% (157/157) (classification)\n",
      "Accuracy = 100% (157/157) (classification)\n",
      "Accuracy = 100% (157/157) (classification)\n",
      "Accuracy = 98.7261% (155/157) (classification)\n",
      "Accuracy = 99.3631% (156/157) (classification)\n",
      "Accuracy = 100% (157/157) (classification)\n",
      "Accuracy = 99.3631% (156/157) (classification)\n",
      "Accuracy = 99.3631% (156/157) (classification)\n",
      "Accuracy = 100% (157/157) (classification)\n",
      "Accuracy = 99.3631% (156/157) (classification)\n",
      "Accuracy = 99.3631% (156/157) (classification)\n",
      "Accuracy = 98.7261% (155/157) (classification)\n",
      "Accuracy = 100% (157/157) (classification)\n",
      "Accuracy = 100% (157/157) (classification)\n",
      "Accuracy = 99.3631% (156/157) (classification)\n",
      "Accuracy = 100% (157/157) (classification)\n",
      "Accuracy = 98.7261% (155/157) (classification)\n",
      "Accuracy = 100% (157/157) (classification)\n",
      "Accuracy = 99.3631% (156/157) (classification)\n",
      "Accuracy = 100% (157/157) (classification)\n",
      "Accuracy = 99.3631% (156/157) (classification)\n",
      "Accuracy = 99.3631% (156/157) (classification)\n",
      "Accuracy = 100% (157/157) (classification)\n",
      "Accuracy = 99.3631% (156/157) (classification)\n",
      "Accuracy = 99.3631% (156/157) (classification)\n",
      "Accuracy = 100% (157/157) (classification)\n",
      "Accuracy = 100% (157/157) (classification)\n"
     ]
    }
   ],
   "source": [
    "trials = 100\n",
    "Q = 2\n",
    "C = 1e-3\n",
    "E_vals = np.zeros(trials)\n",
    "\n",
    "for i in range(trials):\n",
    "    Xtrain, Xtest, ytrain, ytest = train_test_split(X_train, y_train, test_size = 0.1)\n",
    "    prob = svm_problem(ytrain, Xtrain)\n",
    "    param = svm_parameter('-t 1 -c {} -d {} -g 1 -r 1'.format(C, Q))\n",
    "    m = svm_train(prob, param)\n",
    "\n",
    "    p_acc = svm_predict(ytest, Xtest, m)[1][0]\n",
    "    E_vals[i] = 100 - p_acc\n",
    "\n",
    "avg_E_val = np.mean(E_vals)"
   ]
  },
  {
   "cell_type": "code",
   "execution_count": 37,
   "metadata": {
    "collapsed": false,
    "scrolled": true
   },
   "outputs": [
    {
     "name": "stdout",
     "output_type": "stream",
     "text": [
      "The average value of Ecv over the 100 runs is 0.005\n"
     ]
    }
   ],
   "source": [
    "print(\"The average value of Ecv over the 100 runs is {}\".format(round(avg_E_val/100, 3)))"
   ]
  },
  {
   "cell_type": "code",
   "execution_count": 38,
   "metadata": {
    "collapsed": false
   },
   "outputs": [
    {
     "name": "stdout",
     "output_type": "stream",
     "text": [
      "Accuracy = 99.6156% (1555/1561) (classification)\n",
      "Accuracy = 97.6415% (414/424) (classification)\n",
      "Expected E_out for C = 0.01 is 0.25833333333333336\n",
      "Accuracy = 99.5516% (1554/1561) (classification)\n",
      "Accuracy = 97.8774% (415/424) (classification)\n",
      "Expected E_out for C = 1.0 is 0.01987179487179487\n",
      "Accuracy = 99.6797% (1556/1561) (classification)\n",
      "Accuracy = 98.1132% (416/424) (classification)\n",
      "Expected E_out for C = 100.0 is 0.014102564102564103\n",
      "Accuracy = 99.7438% (1557/1561) (classification)\n",
      "Accuracy = 97.6415% (414/424) (classification)\n",
      "Expected E_out for C = 10000.0 is 0.01282051282051282\n",
      "Accuracy = 99.9359% (1560/1561) (classification)\n",
      "Accuracy = 97.6415% (414/424) (classification)\n",
      "Expected E_out for C = 1000000.0 is 0.010897435897435897\n"
     ]
    }
   ],
   "source": [
    "Cs = np.array([0.01, 1, 100, 10000, 1000000])\n",
    "E_ins = np.zeros(len(Cs))\n",
    "E_outs = np.zeros(len(Cs))\n",
    "\n",
    "for i, C in enumerate(Cs):  \n",
    "    \n",
    "    prob = svm_problem(y_train, X_train)\n",
    "    param = svm_parameter('-g 1 -c {}'.format(C))\n",
    "    m = svm_train(prob, param)\n",
    "    \n",
    "    p_label, p_acc_in,  p_val = svm_predict(y_train, X_train, m)\n",
    "    p_label, p_acc_out, p_val = svm_predict(y_test, X_test, m)\n",
    "    print(\"Expected E_out for C = {} is {}\".format(C, len(m.get_sv_indices())/(len(y_train) - 1)))\n",
    "    \n",
    "    E_in  = 100-p_acc_in[0]\n",
    "    E_out = 100-p_acc_out[0]\n",
    "    \n",
    "    E_ins[i]  = E_in\n",
    "    E_outs[i] = E_out"
   ]
  },
  {
   "cell_type": "code",
   "execution_count": 41,
   "metadata": {
    "collapsed": false,
    "scrolled": true
   },
   "outputs": [
    {
     "name": "stdout",
     "output_type": "stream",
     "text": [
      "The value of C with the lowest E_in is 1000000.0\n"
     ]
    }
   ],
   "source": [
    "print(\"The value of C with the lowest E_in is {}\".format(Cs[np.argmin(E_ins)]))"
   ]
  },
  {
   "cell_type": "code",
   "execution_count": 42,
   "metadata": {
    "collapsed": false
   },
   "outputs": [
    {
     "name": "stdout",
     "output_type": "stream",
     "text": [
      "The value of C with the lowest E_out is 100.0\n"
     ]
    }
   ],
   "source": [
    "print(\"The value of C with the lowest E_out is {}\".format(Cs[np.argmin(E_outs)]))"
   ]
  }
 ],
 "metadata": {
  "kernelspec": {
   "display_name": "Python 3",
   "language": "python",
   "name": "python3"
  },
  "language_info": {
   "codemirror_mode": {
    "name": "ipython",
    "version": 3
   },
   "file_extension": ".py",
   "mimetype": "text/x-python",
   "name": "python",
   "nbconvert_exporter": "python",
   "pygments_lexer": "ipython3",
   "version": "3.5.2"
  }
 },
 "nbformat": 4,
 "nbformat_minor": 1
}
