{
 "cells": [
  {
   "cell_type": "markdown",
   "metadata": {},
   "source": [
    "# • Linear Regression Error\n",
    "# <br>\n",
    "# Consider a noisy target $\\mathrm y = \\mathbf w^{∗T}\\mathrm x + \\epsilon$, where $\\mathrm x ∈ \\mathbb R^d$ (with the added coordinate $\\mathrm x_0 = 1$), $\\mathrm y ∈ \\mathbb R$, $\\mathbf w^∗$ is an unknown vector, and $\\epsilon$ is a noise term with zero mean and $σ^2$ variance. Assume $\\epsilon$ is independent of $\\mathrm x$ and of all other $\\epsilon$’s. If linear regression is carried out using a training data set $\\mathcal D = \\{(x_1, y_1), . . . ,(x_N , y_N )\\}$, and outputs the parameter vector $\\mathbf w_{lin}$, it can be shown that the expected in-sample error $E_{in}$ with respect to $\\mathcal D$ is given by: $\\mathbb E_{\\mathcal D}[E_{in}(\\mathbf w_{lin})] = σ^2\\bigl(1 −\\frac{d + 1}{N}\\bigr)$. For $σ = 0.1$ and $d = 8$, which among the following choices is the smallest number of examples $N$ that will result in an expected $E_{in}$ greater than $0.008$?\n",
    "\n",
    "# <center>[a] 10</center>\n",
    "# <center> [b] 25</center>\n",
    "# <center>[c] 100</center>\n",
    "# <center>[d] 500</center>\n",
    "# <center>[e] 1000</center>\n",
    "<br>\n",
    "\n",
    "# <center>$\\mathbb E_{\\mathcal D}[E_{in}(\\mathbf w_{lin})] \\geq 0.008$</center>\n",
    "\n",
    "# <center>$\\mathbb σ^2\\bigl(1 −\\frac{d + 1}{N}\\bigr) \\geq 0.008$</center>\n",
    "\n",
    "\n",
    "# <center>$0.008 \\leq σ^2\\bigl(1 −\\frac{d + 1}{N}\\bigr)$</center>\n",
    "\n",
    "# <center>$\\frac{d + 1}{N} \\leq \\bigl(1 −\\frac{0.008}{σ^2}\\bigr)$</center>\n",
    "\n",
    "# <center>$N \\geq  \\bigl(\\frac{d+1}{1 −\\frac{0.008}{σ^2}}\\bigr)$</center>\n"
   ]
  },
  {
   "cell_type": "code",
   "execution_count": 1,
   "metadata": {
    "collapsed": false
   },
   "outputs": [
    {
     "name": "stdout",
     "output_type": "stream",
     "text": [
      "N has to be greater than or equal to 45\n"
     ]
    }
   ],
   "source": [
    "from math import ceil\n",
    "sigma = 0.1\n",
    "d = 8\n",
    "N = (d+1)/(1 - 0.008/sigma**2)\n",
    "\n",
    "print(\"N has to be greater than or equal to {}\".format(ceil(N)))\n"
   ]
  },
  {
   "cell_type": "markdown",
   "metadata": {},
   "source": [
    "# N has to be greater than or equal to 45\n",
    "# The only valid choices are [c], [d] and [e]\n",
    "# The smallest choice is [c] 100"
   ]
  },
  {
   "cell_type": "markdown",
   "metadata": {},
   "source": [
    "# • Nonlinear Transforms\n",
    "# <br>\n",
    "# In linear classification, consider the feature transform $Φ : \\mathbb R^2 → \\mathbb R^2$ (plus the added zeroth coordinate) given by: \n",
    "\n",
    "# <center>$Φ(1, x_1, x_2) = (1, x_1^2, x_2^2 )$</center>\n",
    "\n",
    "# 2. Which of the following sets of constraints on the weights in the $\\mathcal Z$ space could correspond to the hyperbolic decision boundary in $\\mathcal X$ depicted in the figure?\n",
    "\n",
    "![alt text](http://i66.tinypic.com/6pahde.png \"Hyperbolic function\")\n",
    "\n",
    "# You may assume that $\\tilde w_0$ can be selected to achieve the desired boundary.\n",
    "\n",
    "# <center> [a] $\\tilde {\\mathbf w}_1 = 0,\\tilde {\\mathbf w}_2  > 0$</center>\n",
    "# <center> [b] $\\tilde {\\mathbf w}_1 > 0,\\tilde {\\mathbf w}_2  = 0$</center>\n",
    "# <center> [c] $\\tilde {\\mathbf w}_1 > 0,\\tilde {\\mathbf w}_2  > 0$</center>\n",
    "# <center> [d] $\\tilde {\\mathbf w}_1 < 0,\\tilde {\\mathbf w}_2  > 0$</center>\n",
    "# <center> [e] $\\tilde {\\mathbf w}_1 > 0,\\tilde {\\mathbf w}_2  < 0$</center>\n",
    "\n",
    "<br>\n",
    "\n",
    "# Definition of a hyperbolic function with horizontal transverse axis:\n",
    "\n",
    "# <center>$\\frac{x^2}{a} - \\frac{y^2}{b} = 1$</center>\n",
    "# <center>or</center>\n",
    "# <center>$\\tilde {\\mathbf w}_0 - \\tilde {\\mathbf w}_1 x_1^2 + \\tilde {\\mathbf w}_1 x_2^2 = 0 $</center>\n",
    "# <center> Answer is: [d] $\\tilde {\\mathbf w}_1 < 0,\\tilde {\\mathbf w}_2  > 0$</center>\n",
    "# <br>\n",
    "# Now, consider the 4th order polynomial transform from the input space $\\mathbb R^2:Φ4 : x → (1, x_1, x_2, x_1^2, x_1x_2, x_2^2, x_1^3, x_1^2x_2, x_1x_2^2, x_2^3, x_1^4, x_1^3x_2, x_1^2x_2^2, x_1x_2^3, x_2^4)$\n",
    "\n",
    "# 3. What is the smallest value among the following choices that is not smaller than the VC dimension of a linear model in this transformed space?\n",
    "# <center>[a] 3</center>\n",
    "# <center>[b] 5</center>\n",
    "# <center>[c] 15</center>\n",
    "# <center>[d] 20</center>\n",
    "# <center>[e] 21</center>\n",
    "# <br>\n",
    "# <center>$Φ : \\mathbb R^2 → \\mathbb R^{\\tilde d}$</center>\n",
    "# <center>$Φ : \\mathbb R^2 → \\mathbb R^{14}$</center>\n",
    "# <center>$d_{vc} = \\tilde d + 1$</center>\n",
    "# <center>$d_{vc} = \\tilde 14 + 1$</center>\n",
    "# <center>$d_{vc} = \\tilde 15$</center>\n",
    "# The smallest value among the following choices that is not smaller than the VC dimension of a linear model in this transformed space is [c] 15"
   ]
  },
  {
   "cell_type": "markdown",
   "metadata": {},
   "source": [
    "# • Gradient Descent\n",
    "# Consider the nonlinear error surface $E(u, v) = (ue^v − 2ve^{−u})^2$. We start at the point $(u, v) = (1, 1)$ and minimize this error using gradient descent in the $uv$ space. Use $η = 0.1$ (learning rate, not step size).\n",
    "\n",
    "# 4. What is the partial derivative of $E(u, v)$ with respect to $u$, i.e., $\\frac{∂E}{∂u}$ ?\n",
    "# <center>[a] $(ue^v − 2ve^{−u})^2$</center>\n",
    "# <center>[b] $2(ue^v − 2ve^{−u})$</center>\n",
    "# <center>[c] $2(e^v − 2ve^{−u})$</center>\n",
    "# <center>[d] $2(e^v − 2ve^{−u})(ue^v − 2ve^{−u})$</center>\n",
    "# <center>[e] $2(e^v + 2ve^{−u})(ue^v − 2ve^{−u})$</center>\n",
    "\n",
    "# <center>$\\frac{∂E}{∂u} = \\frac{∂\\bigl((ue^v − 2ve^{−u})^2\\bigr)}{∂u}$</center>\n",
    "# <center>$\\frac{∂E}{∂u} = 2(ue^v − 2ve^{−u})\\frac{∂\\bigl((ue^v − 2ve^{−u})\\bigr)}{∂u}$</center>\n",
    "# <center>$\\frac{∂E}{∂u} = 2(ue^v − 2ve^{−u})\\bigl(\\frac{∂(ue^v)}{∂u} − \\frac{∂(2ve^{−u})}{∂u}\\bigr)$</center>\n",
    "# <center>$\\frac{∂E}{∂u} = 2(ue^v − 2ve^{−u})(e^v + 2ve^{−u})$</center>\n",
    "# <center>$\\frac{∂E}{∂u} = 2(e^v + 2ve^{−u})(ue^v − 2ve^{−u})$</center>\n",
    "# <center>Answer is [e]</center>"
   ]
  },
  {
   "cell_type": "markdown",
   "metadata": {},
   "source": [
    "# 5. How many iterations (among the given choices) does it take for the error $E(u, v)$ to fall below $10^{−14}$ for the first time? In your programs, make sure to use double precision to get the needed accuracy.\n",
    "\n",
    "# <center> [a] 1 </center>\n",
    "# <center> [b] 3 </center>\n",
    "# <center> [c] 5 </center>\n",
    "# <center> [d] 10 </center>\n",
    "# <center> [e] 17 </center>\n",
    "\n",
    "# <center>$\\frac{∂E}{∂v} = 2(ue^v − 2ve^{−u})\\bigl(\\frac{∂(ue^v)}{∂v} − \\frac{∂(2ve^{−u})}{∂v}\\bigr)$</center>\n",
    "# <center>$\\frac{∂E}{∂v} = 2(ue^v − 2ve^{−u})(ue^v - 2e^{−u})$</center>\n",
    "# <center>$\\frac{∂E}{∂v} = 2(ue^v - 2e^{−u})(ue^v − 2ve^{−u})$</center>\n",
    "\n",
    "# <center>$(u_0, v_0) = (1, 1)$</center>\n",
    "# <center>$u_{t+1} = u_t − η\\frac{∂E}{∂u}$ </center>\n",
    "# <center>$v_{t+1} = v_t − η\\frac{∂E}{∂v}$ </center>"
   ]
  },
  {
   "cell_type": "code",
   "execution_count": 254,
   "metadata": {
    "collapsed": false,
    "scrolled": true
   },
   "outputs": [
    {
     "name": "stdout",
     "output_type": "stream",
     "text": [
      "It take 10 iterations to fall below 1e-14.\n"
     ]
    }
   ],
   "source": [
    "import numpy as np\n",
    "import matplotlib.pyplot as plt\n",
    "%matplotlib inline\n",
    "\n",
    "iterations = 0\n",
    "tolerance = 1e-14\n",
    "eta = 0.1\n",
    "\n",
    "u_t = u_0 = 1.0\n",
    "v_t = v_0 = 1.0\n",
    "\n",
    "E_uv = lambda u, v: (u * np.exp(v) - 2 * v * np.exp(-u))**2 # Error function at time t\n",
    "\n",
    "dE_u = lambda u, v: (2 * (np.exp(v) + 2 * v * np.exp(-u)) * \n",
    "                     (u *  np.exp(v) - 2 * v * np.exp(-u))) # Gradient function of u at time t\n",
    "\n",
    "dE_v = lambda u, v: (2 * (u * np.exp(v) - 2 * np.exp(-u)) * \n",
    "                     (u *  np.exp(v) - 2 * v * np.exp(-u))) # Gradient function of u at time t\n",
    "\n",
    "E_uv_t = E_uv(u_0, v_0) # initialize error function\n",
    "\n",
    "while E_uv_t >= tolerance: # while error is greater than tolerance\n",
    "    \n",
    "    u_t1 = u_t - eta * dE_u(u_t, v_t) # compute u at t + 1\n",
    "    v_t1 = v_t - eta * dE_v(u_t, v_t) # compute v at t + 1\n",
    "\n",
    "    u_t = u_t1 # u of t + 1 now becomes u of t\n",
    "    v_t = v_t1 # v of t + 1 now becomes v of t\n",
    "\n",
    "    E_uv_t = E_uv(u_t1, v_t1) # compute new error\n",
    "    \n",
    "    iterations += 1\n",
    "    \n",
    "print(\"It take {} iterations to fall below 1e-14.\".format(iterations))"
   ]
  },
  {
   "cell_type": "markdown",
   "metadata": {},
   "source": [
    "# It take $10$ iterations to fall below $10^{-14}$. [d]"
   ]
  },
  {
   "cell_type": "code",
   "execution_count": 3,
   "metadata": {
    "collapsed": false
   },
   "outputs": [
    {
     "name": "stdout",
     "output_type": "stream",
     "text": [
      "The closest values (in Euclidean distance) among the following choices to the final (u, v) are (0.045, 0.024)\n"
     ]
    }
   ],
   "source": [
    "print(\"The closest values (in Euclidean distance) among the following \"\\\n",
    "      \"choices to the final (u, v) are ({}, {})\".format(round(u_t, 3), round(v_t, 3)))"
   ]
  },
  {
   "cell_type": "markdown",
   "metadata": {},
   "source": [
    "# The closest values (in Euclidean distance) among the following choices to the final $(u, v)$ are $(0.045, 0.024)$. [e] "
   ]
  },
  {
   "cell_type": "markdown",
   "metadata": {},
   "source": [
    "# 7. Now, we will compare the performance of “coordinate descent.” In each iteration, we have two steps along the $2$ coordinates. Step $1$ is to move only along the $u$ coordinate to reduce the error (assume first-order approximation holds like in gradient descent), and step $2$ is to reevaluate and move only along the $v$ coordinate to reduce the error (again, assume first-order approximation holds).  Use the same learning rate of $η = 0.1$ as we did in gradient descent. What will the error $E(u, v)$ be closest to after $15$ full iterations ($30$ steps)?"
   ]
  },
  {
   "cell_type": "code",
   "execution_count": 157,
   "metadata": {
    "collapsed": false,
    "scrolled": true
   },
   "outputs": [
    {
     "name": "stdout",
     "output_type": "stream",
     "text": [
      "E(u, v) be closest to 1e-01 after 15 full iterations\n"
     ]
    }
   ],
   "source": [
    "iterations = 15\n",
    "tolerance = 1e-14\n",
    "eta = 0.1\n",
    "\n",
    "u_t = u_0 = 1.0\n",
    "v_t = v_0 = 1.0\n",
    "\n",
    "E_uv = lambda u, v: (u * np.exp(v) - 2 * v * np.exp(-u))**2 # Error function at time t\n",
    "\n",
    "dE_u = lambda u, v: (2 * (np.exp(v) + 2 * v * np.exp(-u)) * \n",
    "                     (u *  np.exp(v) - 2 * v * np.exp(-u))) # Gradient function of u at time t\n",
    "\n",
    "dE_v = lambda u, v: (2 * (u * np.exp(v) - 2 * np.exp(-u)) * \n",
    "                     (u *  np.exp(v) - 2 * v * np.exp(-u))) # Gradient function of u at time t\n",
    "\n",
    "E_uv_t = E_uv(u_0, v_0) # initialize error function\n",
    "\n",
    "for iteration in range(iterations): # while error is greater than tolerance\n",
    "    \n",
    "    # we switch a few lines of code to implement coordinate descent\n",
    "    \n",
    "    # now what we'll do here is calculate u at t + 1 and plug into dE/dv\n",
    "    u_t1 = u_t - eta * dE_u(u_t, v_t) # compute u at t + 1\n",
    "    u_t = u_t1 # u of t + 1 now becomes u of t\n",
    "    \n",
    "    # now what we'll do here is calculate v at t + 1 and plug into dE/du\n",
    "    v_t1 = v_t - eta * dE_v(u_t, v_t) # compute v at t + 1\n",
    "    v_t = v_t1 # v of t + 1 now becomes v of t\n",
    "\n",
    "    E_uv_t = E_uv(u_t1, v_t1) # compute new error\n",
    "    \n",
    "  \n",
    "print(\"E(u, v) be closest to {:01.0e} after 15 full iterations\".format(E_uv_t))"
   ]
  },
  {
   "cell_type": "markdown",
   "metadata": {},
   "source": [
    "# $E(u, v)$ be closest to $10^{-1}$ after $15$ full iterations [a]\n",
    "# <br>"
   ]
  },
  {
   "cell_type": "markdown",
   "metadata": {},
   "source": [
    "# • Logistic Regression \n",
    "\n",
    "# In this problem you will create your own target function $f$ (probability in this case) and data set $\\mathcal D$ to see how Logistic Regression works. For simplicity, we will take $f$ to be a $0/1$ probability so $y$ is a deterministic function of $\\mathrm {\\mathbf x}$.  Take $d = 2$ so you can visualize the problem, and let $\\mathcal X = [−1, 1]×[−1, 1]$ with uniform probability of picking each $\\mathrm {\\mathbf x} ∈ \\mathcal X$ . Choose a line in the plane as the boundary between $f(\\mathrm {\\mathbf x}) = 1$ (where $y$ has to be $+1$) and $f(\\mathrm {\\mathbf x}) = 0$ (where $y$ has to be $−1$) by taking two random, uniformly distributed points from $\\mathcal X$ and taking the line passing through them as the boundary between $y = ±1$. Pick $N = 100$ training points at random from $\\mathcal X$ , and evaluate the outputs $y_n$ for each of these points $\\mathrm {\\mathbf x}_n$.\n",
    "\n",
    "# Run Logistic Regression with Stochastic Gradient Descent to find $g$, and estimate $E_{out}$ (the $\\mathbf{cross\\ entropy}$ error) by generating a sufficiently large, separate set of points to evaluate the error. Repeat the experiment for $100$ runs with different targets and take the average. Initialize the weight vector of Logistic Regression to all zeros in each run. Stop the algorithm when $\\Vert {\\mathrm {\\mathbf w^{(t−1)}} − \\mathrm {\\mathbf w^{(t)}} < 0.01}\\Vert$, where $\\mathrm {\\mathbf w^{(t)}}$ denotes the weight vector at the end of epoch $t$. An epoch is a full pass through the $N$ data points (use a random permutation of $1, 2, · · · , N$ to present the data points to the algorithm within each epoch, and use different permutations for different epochs). Use a learning rate of $0.01$."
   ]
  },
  {
   "cell_type": "markdown",
   "metadata": {},
   "source": [
    "# Let's make our random $f(x)$ line function!"
   ]
  },
  {
   "cell_type": "code",
   "execution_count": 313,
   "metadata": {
    "collapsed": false
   },
   "outputs": [],
   "source": [
    "def make_weights_for_fx():\n",
    "    \"\"\"Creates the d=2 weight vector for f(x) from \n",
    "       the random two points selected.\n",
    "       \n",
    "       Returns:\n",
    "       A tuple 2-items tuple representing (intercept, slope)\n",
    "    \"\"\"\n",
    "\n",
    "    point1 = np.random.uniform(-1, 1, (1, 2))[0]\n",
    "    point2 = np.random.uniform(-1, 1, (1, 2))[0] \n",
    "    w1 = (point2 - point1)[1] / (point2 - point1)[0]\n",
    "    w0 = point1[1] - w1 * point1[0]\n",
    "    w_fx = np.array((w0, w1))\n",
    "           \n",
    "    return w_fx"
   ]
  },
  {
   "cell_type": "markdown",
   "metadata": {},
   "source": [
    "# Let's create some helper functions to convert $\\mathbf w^T$ from $\\mathbb R^2 \\to \\mathbb R^3$ and $\\mathbb R^3 \\to \\mathbb R^2$ this will help with graphing and other functions"
   ]
  },
  {
   "cell_type": "code",
   "execution_count": 1282,
   "metadata": {
    "collapsed": false
   },
   "outputs": [],
   "source": [
    "w_3dim_to_2dim = lambda w_3dim:  -(w_3dim/w_3dim[2])[:2]\n",
    "w_2dim_to_3dim = lambda w_2dim:  np.hstack((-w_2dim, 1))"
   ]
  },
  {
   "cell_type": "markdown",
   "metadata": {},
   "source": [
    "# # Now let's make a function that creates some random points and labels!"
   ]
  },
  {
   "cell_type": "code",
   "execution_count": 1279,
   "metadata": {
    "collapsed": false,
    "scrolled": true
   },
   "outputs": [],
   "source": [
    "def create_random_points_and_labels(N, weights_fx):\n",
    "    \"\"\"Creates N random points in the space of  [−1, 1] × [−1, 1]\n",
    "       and them labels them based on what side of of the line they\n",
    "       land on based on weights_fx.\n",
    "       \n",
    "    Args:\n",
    "    \n",
    "        N: Number of random points\n",
    "        weights_fx:  tuple representing (intercept, slope) of f(x)\n",
    "    \n",
    "    Returns:\n",
    "    \n",
    "        A tuple of the following items:\n",
    "            X: an N X D array representing the coordinates of of the points\n",
    "            Y: an N X 1 array representing +1 or -1 depending on which side of\n",
    "               the points land in relation to fx \n",
    "    \"\"\"\n",
    "    \n",
    "    X = np.hstack((np.ones((N, 1)), np.random.uniform(-1,1,(N,2))))\n",
    "    \n",
    "    w_fx = w_2dim_to_3dim (weights_fx)\n",
    "    score = np.dot(X, w_fx)\n",
    "    \n",
    "    Y = np.where(np.exp(score) / (1 + np.exp(score))> 0.5 , 1, -1)\n",
    "    Y = np.expand_dims(Y, 1) # need to change array into vector for calcs to work out!\n",
    "    \n",
    "    return(X, Y, w_fx)"
   ]
  },
  {
   "cell_type": "markdown",
   "metadata": {},
   "source": [
    "# And make a helper plot function to see if our functions are working correctly."
   ]
  },
  {
   "cell_type": "code",
   "execution_count": 1396,
   "metadata": {
    "collapsed": true
   },
   "outputs": [],
   "source": [
    "def plot_points_and_lines(weights_fx, X, Y, color=\"blue\"):\n",
    "    \"\"\"Creates the plot of f(x) and g(x) lines along with labeled points\n",
    "    \n",
    "       Args:\n",
    "        weights_fx:  tuple representing (intercept, slope) of f(x)\n",
    "        weights_gx:  tuple representing (intercept, slope) of g(x)\n",
    "        X: an N X D array representing the coordinates of of the points\n",
    "        Y: an N X 1 array representing +1 or -1\n",
    "        \n",
    "    \"\"\"\n",
    "    \n",
    "    line = np.linspace(-1, 1, 1001) # points from 0-1000\n",
    "    \n",
    "    plt.plot(line, line * weights_fx[1] + weights_fx[0], label=\"f(x)\", color=color) # makes f(x) line\n",
    "    \n",
    "    plt.ylim(-1, 1)\n",
    "    plt.xlim(-1, 1)\n",
    "    \n",
    "    plt.scatter(X[:, 1][Y.ravel()==1],  X[:, 2][Y.ravel()== 1], marker=\"+\", c=(\"r\"), label=\"+\")\n",
    "    plt.scatter(X[:, 1][Y.ravel()==-1], X[:, 2][Y.ravel()==-1], marker=\"_\", c=(\"b\"), label=\"-\")# colored based on Y = +1 or -1\n",
    "    plt.legend(loc=\"best\")"
   ]
  },
  {
   "cell_type": "code",
   "execution_count": 1418,
   "metadata": {
    "collapsed": false,
    "scrolled": true
   },
   "outputs": [
    {
     "data": {
      "image/png": "[encoded data removed]",
      "text/plain": [
       "<matplotlib.figure.Figure at 0x119055fd0>"
      ]
     },
     "metadata": {},
     "output_type": "display_data"
    }
   ],
   "source": [
    "w_fx = make_weights_for_fx()\n",
    "X, Y, w = create_random_points_and_labels(100, w_fx)\n",
    "plot_points_and_lines(w_fx, X, Y)"
   ]
  },
  {
   "cell_type": "markdown",
   "metadata": {},
   "source": [
    "# It looks like we're good to go $😃$"
   ]
  },
  {
   "cell_type": "markdown",
   "metadata": {},
   "source": [
    "# Now for our logistic regression algorithm using stochastic gradient descent!\n",
    "\n",
    "# If you were feeling like this ¯\\\\_(ツ)_/¯  don't worry it was difficult for me too! Luckily the discussion forums provided some insight $😃$\n",
    "# Here is the summary of the steps:\n",
    "<br>\n",
    "# 1: Initialize the weights at $t = 0$ to $w(0)$\n",
    "# 2: Create a $100$ data points and labels $(x_n, y_n)$\n",
    "# 3: while $\\Vert {\\mathrm {\\mathbf w^{(t−1)}} − \\mathrm {\\mathbf w^{(t)}}}\\Vert > \\epsilon$ do\n",
    "# &nbsp;&nbsp;&nbsp;&nbsp;&nbsp;&nbsp; 3(a) Set  $\\mathrm {\\mathbf w^{(n)}} = \\mathrm {\\mathbf w^{(t)}}$\n",
    "\n",
    "# &nbsp;&nbsp;&nbsp;&nbsp;&nbsp;&nbsp; 3(b) shuffle all of the data points\n",
    "# &nbsp;&nbsp;&nbsp;&nbsp;&nbsp;&nbsp;&nbsp;3(b-1): for $n = 0, 1, 2, . . .$ do\n",
    "# &nbsp;&nbsp;&nbsp;&nbsp;&nbsp;&nbsp;&nbsp;&nbsp;&nbsp;&nbsp;&nbsp;&nbsp; 3(c): for <u>each</u> data point $(x_n, y_n)$ compute\n",
    "#  &nbsp;&nbsp;&nbsp;&nbsp;&nbsp;&nbsp;&nbsp;&nbsp;&nbsp;&nbsp;&nbsp;&nbsp; 3(c-1): $∇e\\bigl(h(x_n), y_n\\bigr) = −\\frac{y_nx_n}{1 + e^{y_nw^{T(n)}x_n}}$\n",
    "# &nbsp;&nbsp;&nbsp;&nbsp;&nbsp;&nbsp;&nbsp;&nbsp;&nbsp;&nbsp;&nbsp;&nbsp; 3(c-2): $\\mathbf w^{(n+1)} = \\mathbf w^{(n)} - \\eta ∇e\\bigl(h(x_n), y_n\\bigr) $\n",
    "# &nbsp;&nbsp;&nbsp;&nbsp;&nbsp;&nbsp;&nbsp;&nbsp;&nbsp;&nbsp;&nbsp;&nbsp; 3(c-3)  $\\mathbf w^{(n)} = \\mathbf w^{(n+1)}; \\to $ reuse the $\\mathbf w^{(n+1)}$ for the next data point\n",
    "\n",
    "# &nbsp;&nbsp;&nbsp;&nbsp; 3(d): $\\mathbf w^{(t+1)} = \\mathbf w^{(N)}$\n",
    "# &nbsp;&nbsp;&nbsp;&nbsp; 3(e): Calculate $\\Vert {\\mathrm {\\mathbf w^{(t)}} − \\mathrm {\\mathbf w^{(t+1)}}}\\Vert$\n",
    "# &nbsp;&nbsp;&nbsp;&nbsp; 3(d): $\\mathbf w^{(t)} = \\mathbf w^{(t+1)}$\n",
    "#  &nbsp;&nbsp;&nbsp;&nbsp;end\n",
    "#  &nbsp;&nbsp;&nbsp;&nbsp;return $\\mathrm {\\mathbf w^{(t)}}$"
   ]
  },
  {
   "cell_type": "code",
   "execution_count": 1424,
   "metadata": {
    "collapsed": false
   },
   "outputs": [],
   "source": [
    "def logistic_regression(N=100):\n",
    "       \n",
    "    w_fx = make_weights_for_fx()  # make a random f(x)\n",
    "    X, Y, w_fx_3d = create_random_points_and_labels(N, w_fx) # now create points and labels\n",
    "        \n",
    "    epsilon = 0.01\n",
    "    eta = 0.01\n",
    "    epoch = 0\n",
    "    \n",
    "    w_gx_t = np.zeros(len(w_fx_3d))  # initialize your g(x) weights to zero\n",
    "    \n",
    "    tolerance = np.inf # initialize an arbitrary hight tolerance infinity should work ;)\n",
    "    tolerances = [] # to create a nice graph to look at our ||w(t-1) - w(t)|| over epochs\n",
    "    \n",
    "    while tolerance > epsilon: \n",
    "        idx = np.arange(N)\n",
    "        np.random.shuffle(idx) # shuffle indices\n",
    "        \n",
    "        w_gx = np.copy(w_gx_t) # w(n) = w(t)\n",
    "                               # I have to make a deep copy or else \n",
    "                               # I'll create a cyclic reference!\n",
    "        \n",
    "        for n in idx: # go through shuffled data points and labels\n",
    "            gradient = -(Y[n] * X[n])/(1 + np.exp(Y[n] * np.dot(w_gx, X[n]))) # no need to sum and divide by N = 1\n",
    "            w_gx -= eta * gradient # stochastic update per data point \n",
    "        \n",
    "        w_gx_t_1 = w_gx  # w(t+1) = w(N)\n",
    "        \n",
    "        tolerance = np.linalg.norm(w_gx_t - w_gx_t_1) # ||w(t) - w(t + 1)|| \n",
    "        tolerances.append(tolerance)\n",
    "        \n",
    "        w_gx_t = w_gx_t_1 # w(t) = w(t + 1)\n",
    "        epoch += 1\n",
    "    \n",
    "    w_gx_3d = w_gx_t\n",
    "    \n",
    "    return (w_fx_3d, w_gx_3d, X, Y, epoch, tolerances)\n",
    "        "
   ]
  },
  {
   "cell_type": "code",
   "execution_count": 1426,
   "metadata": {
    "collapsed": false,
    "scrolled": false
   },
   "outputs": [
    {
     "name": "stdout",
     "output_type": "stream",
     "text": [
      "This run took approximately 324 epochs.\n"
     ]
    }
   ],
   "source": [
    "w_fx_3d, w_gx_3d, X, Y, epoch, tolerances = logistic_regression()\n",
    "print(\"This run took approximately {} epochs.\".format(epoch))"
   ]
  },
  {
   "cell_type": "code",
   "execution_count": 1290,
   "metadata": {
    "collapsed": false
   },
   "outputs": [
    {
     "data": {
      "text/plain": [
       "[<matplotlib.lines.Line2D at 0x117a01f98>]"
      ]
     },
     "execution_count": 1290,
     "metadata": {},
     "output_type": "execute_result"
    },
    {
     "data": {
      "image/png": "[encoded data removed]",
      "text/plain": [
       "<matplotlib.figure.Figure at 0x11628be48>"
      ]
     },
     "metadata": {},
     "output_type": "display_data"
    }
   ],
   "source": [
    "plt.plot(tolerances)"
   ]
  },
  {
   "cell_type": "code",
   "execution_count": 1301,
   "metadata": {
    "collapsed": false,
    "scrolled": false
   },
   "outputs": [
    {
     "data": {
      "image/png": "[encoded data removed]",
      "text/plain": [
       "<matplotlib.figure.Figure at 0x11628bda0>"
      ]
     },
     "metadata": {},
     "output_type": "display_data"
    }
   ],
   "source": [
    "plot_points_and_lines(w_3dim_to_2dim(w_fx_3d), X, Y)"
   ]
  },
  {
   "cell_type": "code",
   "execution_count": 1304,
   "metadata": {
    "collapsed": false
   },
   "outputs": [
    {
     "data": {
      "image/png": "[encoded data removed]",
      "text/plain": [
       "<matplotlib.figure.Figure at 0x117913b38>"
      ]
     },
     "metadata": {},
     "output_type": "display_data"
    }
   ],
   "source": [
    "plot_points_and_lines(w_3dim_to_2dim(w_gx_3d), X, Y)"
   ]
  },
  {
   "cell_type": "markdown",
   "metadata": {},
   "source": [
    "# 8. Which of the following is closest to $E_{out}$ for $N = 100$?\n",
    "# <center> [a] 0.025 </center>\n",
    "# <center>[b] 0.050 </center>\n",
    "# <center>[c] 0.075</center>\n",
    "# <center> [d] 0.100</center>\n",
    "# <center> [e] 0.125</center>\n",
    "# <br>\n",
    "# 9. How many epochs does it take on average for Logistic Regression to converge for $N = 100$ using the above initialization and termination rules and the specified learning rate? Pick the value that is closest to your results.\n",
    "# <center>[a] 350 </center>\n",
    "# <center>[b] 550  </center>\n",
    "# <center>[c] 750 </center>\n",
    "# <center>[d] 950 </center>\n",
    "# <center>[e] 1750  </center>"
   ]
  },
  {
   "cell_type": "markdown",
   "metadata": {},
   "source": [
    "# Our logistic regression function already calculates  these quantities.  We just have to run them a $100$ times and take the average!!!"
   ]
  },
  {
   "cell_type": "code",
   "execution_count": 1415,
   "metadata": {
    "collapsed": false
   },
   "outputs": [],
   "source": [
    "runs = 100\n",
    "E_outs = np.zeros(runs)\n",
    "epochs = np.zeros(runs)\n",
    "\n",
    "for run in range(runs):\n",
    "    w_fx_3d, w_gx_3d, X, Y, epoch, tolerances = logistic_regression(N=100)\n",
    "    E_outs[run] = np.mean(np.log(1 + np.exp(-Y * np.expand_dims(np.dot(X, w_gx_3d), 1))))\n",
    "    epochs[run] = epoch\n",
    "    \n",
    "avg_E_out = np.mean(E_outs)\n",
    "avg_epochs = np.mean(epochs)\n"
   ]
  },
  {
   "cell_type": "code",
   "execution_count": 1428,
   "metadata": {
    "collapsed": false
   },
   "outputs": [
    {
     "name": "stdout",
     "output_type": "stream",
     "text": [
      "The average E_out over a 100 runs is 0.093\n"
     ]
    }
   ],
   "source": [
    "print(\"The average E_out over a 100 runs is {}\".format(round(avg_E_out, 3)))"
   ]
  },
  {
   "cell_type": "markdown",
   "metadata": {},
   "source": [
    "# The closest $E_{out}$ to $0.093$ is [d] $0.100$"
   ]
  },
  {
   "cell_type": "code",
   "execution_count": 1430,
   "metadata": {
    "collapsed": false
   },
   "outputs": [
    {
     "name": "stdout",
     "output_type": "stream",
     "text": [
      "The average epochs over a 100 runs is 340\n"
     ]
    }
   ],
   "source": [
    "print(\"The average epochs over a 100 runs is {}\".format(int(avg_epochs)))"
   ]
  },
  {
   "cell_type": "markdown",
   "metadata": {},
   "source": [
    "# The closest average epochs to 340 is [a] $350$"
   ]
  },
  {
   "cell_type": "markdown",
   "metadata": {},
   "source": [
    "# <br>\n",
    "# • PLA as SGD\n",
    "# <br>\n",
    "# 10. The Perceptron Learning Algorithm can be implemented as SGD using which of the following error functions $e_n(\\mathbf w)$? Ignore the points $\\mathbf w$ at which $e_n(\\mathbf w)$ is not twice differentiable.\n",
    "# <center> [a] $e_n(\\mathbf w) = e^{−y_n\\mathbf w^T\\mathbf x_n}$ </center>\n",
    "# <center> [b] $e_n(\\mathbf w) = −y_n\\mathbf w^T\\mathbf x_n$ </center>\n",
    "# <center>[c] $e_n(\\mathbf w) = (y_n - \\mathbf w^T\\mathbf x_n)^2$</center>\n",
    "# <center>[d] $e_n(\\mathbf w) = ln(1 + e^{−y_n\\mathbf w^T\\mathbf x_n} )$</center>\n",
    "# <center>[e] $e_n(\\mathbf w) = − min(0, y_n\\mathbf w^T\\mathbf x_n)$</center>"
   ]
  },
  {
   "cell_type": "markdown",
   "metadata": {},
   "source": [
    "# Let's look at the Stochastic Gradient Descent algorithm for Logistic regression:\n",
    "\n",
    "# <center>$\\mathbf w^{(t+1)} = \\mathbf w^{(t)} - \\eta ∇e\\bigl(h(x_n), y_n\\bigr) $</center>\n",
    "# <center>$\\mathbf w^{(t+1)} = \\mathbf w^{(t)} - \\eta \\bigl(−\\frac{y_nx_n}{1 + e^{y_nw^{T(t)}x_n}}\\bigr) $</center>\n",
    "# <center>(1) $\\mathbf w^{(t+1)} = \\mathbf w^{(t)} + y_nx_n \\bigl(\\frac{\\eta}{1 + e^{y_nw^{T(t)}x_n}}\\bigr) $</center>\n",
    "\n",
    "# Now let's look at the Perceptron Learning Algorithm:\n",
    "\n",
    "# <center>(2) $\\mathbf w^{(t+1)} = \\mathbf w^{(t)} + y_nx_n  $ for $sign(\\mathbf w^T\n",
    "\\mathbf x_n) \\neq y_n$</center>\n",
    "\n",
    "# Hmmmmm... formulas (1) and (2) have the same form.\n",
    "\n",
    "# Also formula two tells us that PLA can either be:\n",
    "\n",
    "# <center>$\\mathbf w^{(t+1)} = \\mathbf w^{(t)} + y_nx_n  $ for $sign(\\mathbf w^T\n",
    "\\mathbf x_n) \\neq y_n$</center>\n",
    "# <center> or </center>\n",
    "# <center>$\\mathbf w^{(t+1)} = \\mathbf w^{(t)} + 0  $ for $sign(\\mathbf w^T\n",
    "\\mathbf x_n) = y_n$</center>\n",
    "\n",
    "# This is essentially a piecewise function and the only answer that has a form of the piecewise function is $e_n(\\mathbf w) = − min(0, y_n\\mathbf w^T\\mathbf x_n)$.\n",
    "\n",
    "# Let's look at this further \n",
    "\n",
    "# <center>$\\mathbf w^{(t+1)} = \\mathbf w^{(t)} - \\eta ∇e\\bigl(h(x_n), y_n\\bigr) $</center>\n",
    "# <center>$\\mathbf w^{(t+1)} = \\mathbf w^{(t)} - \\eta ∇e_n(\\mathbf w) $</center>\n",
    "# <center> Set $\\eta = 1$ </center>\n",
    "# <center>$\\mathbf w^{(t+1)} = \\mathbf w^{(t)} +  ∇\\bigl(min(0, y_n\\mathbf w^T\\mathbf x_n\\bigr) $</center>\n",
    "# <center>$\\mathbf w^{(t+1)} = \\mathbf w^{(t)} +  \\  min(0, y_n\\mathbf x_n) $</center>\n",
    "# <center>$\\downarrow $</center>\n",
    "# <center>$\\mathbf w^{(t+1)} = \\mathbf w^{(t)} + y_nx_n  $ </center> \n",
    "# <center> or </center>\n",
    "# <center>$\\mathbf w^{(t+1)} = \\mathbf w^{(t)} + 0  $</center>\n",
    "# <center> QED </center>\n",
    "\n",
    "# The answer is [e]"
   ]
  }
 ],
 "metadata": {
  "kernelspec": {
   "display_name": "Python 3",
   "language": "python",
   "name": "python3"
  },
  "language_info": {
   "codemirror_mode": {
    "name": "ipython",
    "version": 3
   },
   "file_extension": ".py",
   "mimetype": "text/x-python",
   "name": "python",
   "nbconvert_exporter": "python",
   "pygments_lexer": "ipython3",
   "version": "3.5.2"
  }
 },
 "nbformat": 4,
 "nbformat_minor": 1
}
