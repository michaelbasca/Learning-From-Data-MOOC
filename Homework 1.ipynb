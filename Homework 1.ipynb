{
 "cells": [
  {
   "cell_type": "code",
   "execution_count": 142,
   "metadata": {
    "collapsed": true
   },
   "outputs": [],
   "source": [
    "%matplotlib inline\n",
    "import matplotlib.pyplot as plt\n",
    "import numpy as np\n",
    "from sklearn.linear_model import LinearRegression"
   ]
  },
  {
   "cell_type": "markdown",
   "metadata": {},
   "source": [
    "# Let's make our random f(x) line function!"
   ]
  },
  {
   "cell_type": "code",
   "execution_count": 143,
   "metadata": {
    "collapsed": true
   },
   "outputs": [],
   "source": [
    "def make_weights_for_fx(points):\n",
    "    \"\"\"Creates the d=2 weight vector for f(x) from \n",
    "       the random two points selected.\n",
    "       \n",
    "       Args:\n",
    "       \n",
    "       points: 2 x 2 array representing the two random points\n",
    "       \n",
    "       Returns:\n",
    "       A tuple 2-items tuple representing (intercept, slope)\n",
    "    \"\"\"\n",
    "    \n",
    "    lr = LinearRegression()\n",
    "    x_vector = points[:, 0].reshape(-1,1)\n",
    "    y_vector = points[:, 1].reshape(-1,1)\n",
    "    lr.fit(x_vector, y_vector)\n",
    "    w0_f = lr.intercept_[0]\n",
    "    w1_f = lr.coef_[0][0]\n",
    "    return (w0_f, w1_f)"
   ]
  },
  {
   "cell_type": "markdown",
   "metadata": {},
   "source": [
    "# Now let's make a function that creates some random points and labels!"
   ]
  },
  {
   "cell_type": "code",
   "execution_count": 144,
   "metadata": {
    "collapsed": true
   },
   "outputs": [],
   "source": [
    "def create_random_points_and_labels(N, weights_fx):\n",
    "    \"\"\"Creates N random points in the space of  [−1, 1] × [−1, 1]\n",
    "       and them labels them based on what side of of the line they\n",
    "       land on based on weights_fx.\n",
    "       \n",
    "    Args:\n",
    "    \n",
    "        N: Number of random points\n",
    "        weights_fx:  tuple representing (intercept, slope) of f(x)\n",
    "    \n",
    "    Returns:\n",
    "    \n",
    "        A tuple of the following items:\n",
    "            X: an N X D array representing the coordinates of of the points\n",
    "            Y: an N X 1 array representing +1 or -1 depending on which side of\n",
    "               the points land in relation to fx \n",
    "    \"\"\"\n",
    "    \n",
    "    X = np.random.uniform(-1,1,(N,2))\n",
    "    Y = X[:, 1] - X[:, 0] * weights_fx[1] - weights_fx[0] >= 0\n",
    "    Y = np.where(Y, 1, -1)\n",
    "    return(X, Y)"
   ]
  },
  {
   "cell_type": "markdown",
   "metadata": {},
   "source": [
    "# Now for our PLA function to create g(x)!"
   ]
  },
  {
   "cell_type": "code",
   "execution_count": 145,
   "metadata": {
    "collapsed": true
   },
   "outputs": [],
   "source": [
    "def make_weights_for_gx(X, Y):\n",
    "    \"\"\"Creates the d=2 weight vector for gx based on using PLA.\n",
    "       \n",
    "    Args:\n",
    "       \n",
    "        X: an N X D array representing the coordinates of of the points\n",
    "        Y: an N X 1 array representing +1 or -1\n",
    "       \n",
    "       Returns:\n",
    "           \n",
    "           A tuple of the following items:\n",
    "            w0_g: represents intercept of g(x)\n",
    "            w1_g: represents slope of g(x)\n",
    "            n: the number of iterations needed for convergence\n",
    "               we will use that to answer the hw questions\n",
    "    \"\"\"\n",
    "    \n",
    "    converged = False\n",
    "    n = 0\n",
    "    w_g = np.zeros(3) # 0 weight vector\n",
    "                      # for d=2 we need to add extra dimension of for intercept\n",
    "                      # e.g. (1, x1, x2)\n",
    "    \n",
    "    while not converged:\n",
    "        converged = True\n",
    "        \n",
    "        # while the homework asks to choose a random misclassified point\n",
    "        # a for-loop essentially does the same job and doesn't affect \n",
    "        # the performance of the algorithm. In other texts the algorithm\n",
    "        # is stated as a for-loop\n",
    "        \n",
    "        for i in range(len(X)):\n",
    "            if Y[i]*np.dot(w_g, np.hstack((1,X[i]))) <= 0: # misclassified point?\n",
    "                n += 1 \n",
    "                w_g += Y[i]*np.hstack((1,X[i]))\n",
    "                converged = False\n",
    "                \n",
    "    w0_g = -w_g[0]/w_g[2]\n",
    "    w1_g = -w_g[1]/w_g[2]\n",
    "                \n",
    "    return (w0_g, w1_g, n)\n"
   ]
  },
  {
   "cell_type": "markdown",
   "metadata": {},
   "source": [
    "# Ok now for some plotting helper functions!"
   ]
  },
  {
   "cell_type": "code",
   "execution_count": 179,
   "metadata": {
    "collapsed": false,
    "scrolled": true
   },
   "outputs": [],
   "source": [
    "def plot_points_and_lines(weights_fx, weights_gx, X, Y):\n",
    "    \"\"\"Creates the plot of f(x) and g(x) lines along with labeled points\n",
    "    \n",
    "       Args:\n",
    "        weights_fx:  tuple representing (intercept, slope) of f(x)\n",
    "        weights_gx:  tuple representing (intercept, slope) of g(x)\n",
    "        X: an N X D array representing the coordinates of of the points\n",
    "        Y: an N X 1 array representing +1 or -1\n",
    "        \n",
    "    \"\"\"\n",
    "    \n",
    "    line = np.linspace(-1, 1, 1001) # points from 0-1000\n",
    "    plt.plot(line, line * weights_fx[1] + weights_fx[0], label=\"f(x)\") # makes f(x) line\n",
    "    plt.plot(line, line * weights_gx[1]+  weights_gx[0], label=\"g(x)\") # makes g(x) line\n",
    "    plt.ylim(-1, 1)\n",
    "    plt.xlim(-1, 1)\n",
    "    plt.scatter(X[:, 0][Y==1], X[:, 1][Y==1], marker=\"o\", c=(\"r\"), label=\"+\")\n",
    "    plt.scatter(X[:, 0][Y==-1], X[:, 1][Y==-1], marker=\"o\", c=(\"b\"), label=\"-\")# colored based on Y = +1 or -1\n",
    "    plt.legend(loc=\"best\")\n",
    "\n",
    "\n",
    "def create_plot(N=10):\n",
    "    \"\"\"Creates a new random set of f(x), N points and g(x)\"\"\"\n",
    "    \n",
    "    two_random_points_for_line = np.random.uniform(-1, 1, (2, 2))\n",
    "    w_fx = make_weights_for_fx(two_random_points_for_line)\n",
    "    X, Y = create_random_points_and_labels(N, w_fx)\n",
    "    w_gx = make_weights_for_gx(X, Y)\n",
    "    plot_points_and_lines(w_fx, w_gx, X, Y)\n",
    "    print(\"weights for fx - {}\".format(w_fx))\n",
    "    print(\"weights for gx - {}\".format(w_gx))"
   ]
  },
  {
   "cell_type": "markdown",
   "metadata": {},
   "source": [
    "# Let's see what our plot looks like"
   ]
  },
  {
   "cell_type": "code",
   "execution_count": 180,
   "metadata": {
    "collapsed": false,
    "scrolled": true
   },
   "outputs": [
    {
     "name": "stdout",
     "output_type": "stream",
     "text": [
      "weights for fx - (-0.19571902633287369, -0.14710961818646509)\n",
      "weights for gx - (-0.0, -0.370274294748629, 4)\n"
     ]
    },
    {
     "data": {
      "image/png": "[encoded data removed]",
      "text/plain": [
       "<matplotlib.figure.Figure at 0x108b787b8>"
      ]
     },
     "metadata": {},
     "output_type": "display_data"
    }
   ],
   "source": [
    "create_plot()"
   ]
  },
  {
   "cell_type": "markdown",
   "metadata": {},
   "source": [
    "# We need to make a grid to get the area below the line!"
   ]
  },
  {
   "cell_type": "code",
   "execution_count": 131,
   "metadata": {
    "collapsed": false
   },
   "outputs": [],
   "source": [
    "def make_grid(num_points = 1001):\n",
    "    \"\"\"Creates a grid of points and in the space of [−1, 1] × [−1, 1]\n",
    "       We will use this to get the area of the negative regions of f(x) and g(x)\n",
    "    \n",
    "       Args:\n",
    "       num_points: represents the refinement of the grid\n",
    "                   more points ->  more precise area calculation\n",
    "                   \n",
    "       returns: N X 2 array representing the space of the graph\n",
    "    \"\"\"\n",
    "    \n",
    "    line = np.linspace(-1, 1, 1001)\n",
    "    grid = np.zeros((num_points, num_points, 2))\n",
    "    for i in np.arange(num_points):\n",
    "        for j in np.arange(num_points):\n",
    "            grid[i,j] = np.array((line[i], line[j]))\n",
    "    \n",
    "    return grid.reshape(-1,2)"
   ]
  },
  {
   "cell_type": "markdown",
   "metadata": {},
   "source": [
    "# Now we use that grid to calculate the area under f(x) and g(x)\n",
    "# We then take the difference!"
   ]
  },
  {
   "cell_type": "code",
   "execution_count": 130,
   "metadata": {
    "collapsed": false
   },
   "outputs": [],
   "source": [
    "def get_disagreement(weights_fx, weights_gx, grid):\n",
    "    \"\"\" Calculates P[f(x) != g(x)] by taking the absolute difference\n",
    "        of the areas of the negative region (doesn't matter which region you take)\n",
    "        \n",
    "        Args:         \n",
    "        weights_fx:  tuple representing (intercept, slope) of f(x)\n",
    "        weights_gx:  tuple representing (intercept, slope) of g(x)\n",
    "        grid: N X 2 array representing the space of the graph\n",
    "\n",
    "        returns: number between 0 and 1 representing probability \n",
    "        \"\"\"\n",
    "    \n",
    "    total_points = grid.shape[0]\n",
    "    \n",
    "    area_fx = (((grid[:, 1] - grid[:, 0] * weights_fx[1] - weights_fx[0]) <= 0) # sum of points in negative\n",
    "               .sum() / total_points)                                           # region divided by total points\n",
    "    \n",
    "    area_gx = (((grid[:, 1] - grid[:, 0] * weights_gx[1] - weights_gx[0]) <= 0)\n",
    "               .sum() / total_points)\n",
    "    \n",
    "    return abs(area_fx - area_gx) "
   ]
  },
  {
   "cell_type": "markdown",
   "metadata": {},
   "source": [
    "# Now we create a function that combines all the previous functions\n",
    "# And runs them multiple times to get an average disagreement."
   ]
  },
  {
   "cell_type": "code",
   "execution_count": 181,
   "metadata": {
    "collapsed": true
   },
   "outputs": [],
   "source": [
    "def experiment(N=10, trials = 1000):\n",
    "    \"\"\" Calculates PLA algorithm multiple times and gets\n",
    "        the average of:\n",
    "            1) the number of iterations needed for convergence\n",
    "            2) Average P[f(x) != g(x)]\n",
    "\n",
    "        args: \n",
    "        N: number of data points\n",
    "        trials: number of trials that are averaged \n",
    "        \"\"\"\n",
    "    \n",
    "    iters = np.zeros(trials)\n",
    "    errors = np.zeros(trials)\n",
    "    grid = make_grid()\n",
    "    for trial in range(trials):\n",
    "        two_random_points_for_line = np.random.uniform(-1, 1, (2, 2))\n",
    "        w_fx = make_weights_for_fx(two_random_points_for_line)\n",
    "        X, Y = create_random_points_and_labels(N, w_fx)\n",
    "        w_gx = make_weights_for_gx(X, Y)\n",
    "        iters[trial] = w_gx[2]\n",
    "        errors[trial] = get_disagreement(w_fx, w_gx, grid)\n",
    "    \n",
    "    avg_iters = iters.mean()\n",
    "    disagreement = errors.mean()\n",
    "        \n",
    "    print(\"It takes {0} iterations  on average for the PLA \" \\\n",
    "          \"to converge for N = {1} training points\".format(int(avg_iters), N))\n",
    "    \n",
    "    print(\"P[f(x) != g(x)] is appx {0} for N = {1}\".format(round(disagreement, 3), N))"
   ]
  },
  {
   "cell_type": "markdown",
   "metadata": {},
   "source": [
    "# For N=10 points it takes appx:\n",
    "# 1) 10 iterations for convergence\n",
    "# 2) P[f(x) $\\neq$ g(x)] = 0.14"
   ]
  },
  {
   "cell_type": "code",
   "execution_count": 182,
   "metadata": {
    "collapsed": false,
    "scrolled": false
   },
   "outputs": [
    {
     "name": "stdout",
     "output_type": "stream",
     "text": [
      "It takes 10 iterations  on average for the PLA to converge for N = 10 training points\n",
      "P[f(x) != g(x)] is appx 0.14 for N = 10\n"
     ]
    }
   ],
   "source": [
    "experiment(N=10)"
   ]
  },
  {
   "cell_type": "markdown",
   "metadata": {},
   "source": [
    "# For N=100 points it takes appx:\n",
    "# 1) 149 iterations for convergence\n",
    "# 2) P[f(x) $\\neq$ g(x)] = 0.019"
   ]
  },
  {
   "cell_type": "code",
   "execution_count": 183,
   "metadata": {
    "collapsed": false
   },
   "outputs": [
    {
     "name": "stdout",
     "output_type": "stream",
     "text": [
      "It takes 149 iterations  on average for the PLA to converge for N = 100 training points\n",
      "P[f(x) != g(x)] is appx 0.019 for N = 100\n"
     ]
    }
   ],
   "source": [
    "experiment(N=100)"
   ]
  }
 ],
 "metadata": {
  "kernelspec": {
   "display_name": "Python 3",
   "language": "python",
   "name": "python3"
  },
  "language_info": {
   "codemirror_mode": {
    "name": "ipython",
    "version": 3
   },
   "file_extension": ".py",
   "mimetype": "text/x-python",
   "name": "python",
   "nbconvert_exporter": "python",
   "pygments_lexer": "ipython3",
   "version": "3.5.2"
  }
 },
 "nbformat": 4,
 "nbformat_minor": 1
}
