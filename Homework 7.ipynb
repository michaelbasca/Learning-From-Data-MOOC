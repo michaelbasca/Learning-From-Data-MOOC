{
 "cells": [
  {
   "cell_type": "code",
   "execution_count": 1,
   "metadata": {
    "collapsed": true
   },
   "outputs": [],
   "source": [
    "import numpy as np"
   ]
  },
  {
   "cell_type": "code",
   "execution_count": 2,
   "metadata": {
    "collapsed": true
   },
   "outputs": [],
   "source": [
    "train = np.loadtxt('in.dta')\n",
    "test  = np.loadtxt('out.dta')"
   ]
  },
  {
   "cell_type": "code",
   "execution_count": 3,
   "metadata": {
    "collapsed": true
   },
   "outputs": [],
   "source": [
    "Xtrain = train[:25, :2]\n",
    "ytrain = train[:25, [2]]\n",
    "\n",
    "Xvalidation = train[25:, :2]\n",
    "yvalidation = train[25:, [2]]\n",
    "\n",
    "Xtest = test[:, :2]\n",
    "ytest = test[:, [2]]"
   ]
  },
  {
   "cell_type": "code",
   "execution_count": 4,
   "metadata": {
    "collapsed": true
   },
   "outputs": [],
   "source": [
    "Ztrain = np.hstack(\n",
    "              (np.ones((len(Xtrain), 1)), \n",
    "               Xtrain, \n",
    "               Xtrain[:, [0]]**2, \n",
    "               Xtrain[:, [1]]**2, \n",
    "               Xtrain[:, [0]] * Xtrain[:, [1]], \n",
    "               np.abs(Xtrain[:, [0]] - Xtrain[:, [1]]), \n",
    "               np.abs(Xtrain[:, [0]] + Xtrain[:, [1]])\n",
    "              )\n",
    "          )\n",
    "\n",
    "\n",
    "Zvalidation = np.hstack(\n",
    "                  (np.ones((len(Xvalidation), 1)), \n",
    "                   Xvalidation, \n",
    "                   Xvalidation[:, [0]]**2, \n",
    "                   Xvalidation[:, [1]]**2, \n",
    "                   Xvalidation[:, [0]] * Xvalidation[:, [1]], \n",
    "                   np.abs(Xvalidation[:, [0]] - Xvalidation[:, [1]]), \n",
    "                   np.abs(Xvalidation[:, [0]] + Xvalidation[:, [1]])\n",
    "                  )\n",
    "              )\n",
    "\n",
    "Ztest = np.hstack(\n",
    "              (np.ones((len(Xtest), 1)), \n",
    "               Xtest, \n",
    "               Xtest[:, [0]]**2, \n",
    "               Xtest[:, [1]]**2, \n",
    "               Xtest[:, [0]] * Xtest[:, [1]], \n",
    "               np.abs(Xtest[:, [0]] - Xtest[:, [1]]), \n",
    "               np.abs(Xtest[:, [0]] + Xtest[:, [1]])\n",
    "              )\n",
    "    )"
   ]
  },
  {
   "cell_type": "code",
   "execution_count": 5,
   "metadata": {
    "collapsed": true
   },
   "outputs": [],
   "source": [
    "def regularization(k=-np.inf, Ztrain=Ztrain, Ztest=Zvalidation, ytrain=ytrain, ytest=yvalidation):\n",
    "    Ztrain = Ztrain[:, :(k+1)]\n",
    "    Ztest  = Ztest[:, :(k+1)]\n",
    "    wreg = np.dot(np.dot(np.linalg.inv(np.dot(Ztrain.T, Ztrain)), Ztrain.T), \n",
    "                  ytrain)\n",
    "    \n",
    "    yhat_train = np.where(np.dot(Ztrain, wreg) > 0, 1, -1)\n",
    "    yhat_test  = np.where(np.dot(Ztest,  wreg) > 0, 1, -1)\n",
    "    E_in  = 1 - np.mean(yhat_train == ytrain)\n",
    "    E_out = 1 - np.mean(yhat_test  == ytest)\n",
    "    return(E_out)"
   ]
  },
  {
   "cell_type": "code",
   "execution_count": 6,
   "metadata": {
    "collapsed": false
   },
   "outputs": [
    {
     "name": "stdout",
     "output_type": "stream",
     "text": [
      "The k with the smallest Eout is 6\n"
     ]
    }
   ],
   "source": [
    "ks_and_E_outs = []\n",
    "for k in range(3, 8):\n",
    "    ks_and_E_outs.append((regularization(k), k))\n",
    "print(\"The k with the smallest Eout is {}\".format(sorted(ks_and_E_outs)[0][1]))"
   ]
  },
  {
   "cell_type": "code",
   "execution_count": 7,
   "metadata": {
    "collapsed": false
   },
   "outputs": [
    {
     "name": "stdout",
     "output_type": "stream",
     "text": [
      "The k with the smallest Eout is 7\n"
     ]
    }
   ],
   "source": [
    "ks_and_E_outs = []\n",
    "for k in range(3, 8):\n",
    "    ks_and_E_outs.append((regularization(k, Ztest=Ztest, ytest=ytest), k))\n",
    "print(\"The k with the smallest Eout is {}\".format(sorted(ks_and_E_outs)[0][1]))"
   ]
  },
  {
   "cell_type": "code",
   "execution_count": 8,
   "metadata": {
    "collapsed": false
   },
   "outputs": [
    {
     "name": "stdout",
     "output_type": "stream",
     "text": [
      "The k with the smallest Eout is 6\n"
     ]
    }
   ],
   "source": [
    "ks_and_E_outs = []\n",
    "for k in range(3, 8):\n",
    "    ks_and_E_outs.append((regularization(k, \n",
    "                                         Ztrain=Zvalidation, \n",
    "                                         Ztest=Ztrain, \n",
    "                                         ytrain= yvalidation, \n",
    "                                         ytest=ytrain), k))\n",
    "print(\"The k with the smallest Eout is {}\".format(sorted(ks_and_E_outs)[0][1]))"
   ]
  },
  {
   "cell_type": "code",
   "execution_count": 9,
   "metadata": {
    "collapsed": false
   },
   "outputs": [
    {
     "name": "stdout",
     "output_type": "stream",
     "text": [
      "Eouts for the models of Problem 1 and 3 are (0.1,0.2)\n"
     ]
    }
   ],
   "source": [
    "Eout1 = regularization(6, \n",
    "                         Ztrain=Ztrain, \n",
    "                         Ztest=Ztest, \n",
    "                         ytrain= ytrain, \n",
    "                         ytest=ytest)\n",
    "\n",
    "Eout3 = regularization(6, \n",
    "                         Ztrain=Zvalidation, \n",
    "                         Ztest=Ztest, \n",
    "                         ytrain= yvalidation, \n",
    "                         ytest=ytest)\n",
    "\n",
    "print(\"Eouts for the models of Problem 1 and 3 are ({},{})\".format(round(Eout1, 1), round(Eout3, 1)))"
   ]
  },
  {
   "cell_type": "markdown",
   "metadata": {
    "collapsed": false
   },
   "source": [
    "# When $e_1$ is the minimum, then $e_2$ can vary from $1$ to $e_1$ whereas $e_1$ can be anything and vice-versa for when $e_2$ is the minimum\n",
    "\n",
    "# $\\mathbb E\\bigl[ min(e_1, e_2)\\bigr] = \\int_{-\\infty}^{\\infty} \\int_{-\\infty}^{\\infty} min(e_1, e_2)p(e_1, e_2)d e_1 d e_2 $\n",
    "\n",
    "# $\\mathbb E\\bigl[ min(e_1, e_2)\\bigr] = \\int_0^1\\int_0^1 min(e_1, e_2)d e_1 d e_2 $ \n",
    "# $\\mathbb E\\bigl[ min(e_1, e_2)\\bigr] = \\int_0^1 e_1(1-e_1)d e_1 + \\int_0^1 e_2(1-e_2)d e_2 $ \n",
    "# $\\mathbb E\\bigl[ min(e_1, e_2)\\bigr] = 2\\int_0^1 e(1-e)d e $ \n",
    "# $\\mathbb E\\bigl[ min(e_1, e_2)\\bigr] = e^2-\\frac{2}{3}e^3 \\bigg|_0^1 $ \n",
    "# $\\mathbb E\\bigl[ min(e_1, e_2)\\bigr] = \\frac{1}{3}$ \n",
    "\n",
    "# $\\frac{1}{3}$ is closest 0.4\n",
    "\n",
    "# The answer is [d]\n"
   ]
  },
  {
   "cell_type": "code",
   "execution_count": 10,
   "metadata": {
    "collapsed": false
   },
   "outputs": [],
   "source": [
    "from itertools import combinations"
   ]
  },
  {
   "cell_type": "code",
   "execution_count": 11,
   "metadata": {
    "collapsed": false
   },
   "outputs": [],
   "source": [
    "def locv_constant(X, y):\n",
    "    E_ins = np.zeros(len(X))\n",
    "    for i, train_idx in enumerate(combinations(range(len(X)), len(X)-1)):\n",
    "        \n",
    "#         Xtrain  = X[np.array(train_idx)]\n",
    "#         Xtest   = X[np.array(tuple(set(range(len(X))) - set(train_idx)))]\n",
    "        yhat_test  = np.mean(y[np.array(train_idx)])\n",
    "        ytest      = y[np.array(tuple(set(range(len(X))) - set(train_idx)))]\n",
    "\n",
    "#         print('ytest', ytest)\n",
    "        E_in  = np.mean((yhat_test - ytest)**2)\n",
    "        E_ins[i] = E_in\n",
    "    return(np.mean(E_ins))"
   ]
  },
  {
   "cell_type": "code",
   "execution_count": 12,
   "metadata": {
    "collapsed": false
   },
   "outputs": [],
   "source": [
    "def locv_linear(X, y):\n",
    "    E_ins = np.zeros(len(X))\n",
    "    for i, train_idx in enumerate(combinations(range(len(X)), len(X)-1)):\n",
    "        \n",
    "        Xtrain  = X[np.array(train_idx)]\n",
    "        Xtest   = X[np.array(tuple(set(range(len(X))) - set(train_idx)))]\n",
    "        ytrain  = y[np.array(train_idx)]\n",
    "        ytest   = y[np.array(tuple(set(range(len(X))) - set(train_idx)))]\n",
    "\n",
    "        wreg = np.dot(np.dot(np.linalg.inv(np.dot(Xtrain.T, Xtrain)), Xtrain.T), ytrain)\n",
    "        yhat_test = np.dot(Xtest, wreg)\n",
    "\n",
    "        E_in  = np.mean((yhat_test - ytest)**2)\n",
    "        E_ins[i] = E_in\n",
    "    return(np.mean(E_ins))"
   ]
  },
  {
   "cell_type": "code",
   "execution_count": 13,
   "metadata": {
    "collapsed": false
   },
   "outputs": [
    {
     "name": "stdout",
     "output_type": "stream",
     "text": [
      "rho = √(√3 + 4), squared error constant = 0.5, squared error linear = 1.14\n",
      "rho = √(√3 - 1), squared error constant = 0.5, squared error linear = 64.66\n",
      "rho = √(9 + 4√6), squared error constant = 0.5, squared error linear = 0.5\n",
      "rho = √(9 - √6), squared error constant = 0.5, squared error linear = 0.99\n"
     ]
    }
   ],
   "source": [
    "size = (3, 1)\n",
    "rhos = np.array((np.sqrt(np.sqrt(3)+4), np.sqrt(np.sqrt(3)-1), np.sqrt(9+4*np.sqrt(6)), np.sqrt(9-np.sqrt(6))))\n",
    "rho_labels = ['√(√3 + 4)', '√(√3 - 1)', '√(9 + 4√6)', '√(9 - √6)']\n",
    "\n",
    "for i, rho in enumerate(rhos):\n",
    "    X = np.hstack((np.ones(size), np.reshape(np.array((-1, rho, 1)), size)))\n",
    "    y = np.reshape(np.array((0, 1, 0)), size)\n",
    "    print(\"rho = {}, squared error constant = {}, squared error linear = {}\".format(rho_labels[i], \n",
    "                                                                                    round(locv_constant(X, y), 2), \n",
    "                                                                                    round(locv_linear(X, y), 2)))"
   ]
  },
  {
   "cell_type": "markdown",
   "metadata": {
    "collapsed": false
   },
   "source": [
    "# Answer is [c] $\\sqrt{9 + \\sqrt{6}}$"
   ]
  },
  {
   "cell_type": "code",
   "execution_count": 14,
   "metadata": {
    "collapsed": true
   },
   "outputs": [],
   "source": [
    "from matplotlib import pyplot as plt\n",
    "%matplotlib inline"
   ]
  },
  {
   "cell_type": "markdown",
   "metadata": {},
   "source": [
    "# Let's make our random $f(x)$ line function!"
   ]
  },
  {
   "cell_type": "code",
   "execution_count": 15,
   "metadata": {
    "collapsed": true
   },
   "outputs": [],
   "source": [
    "def make_weights_for_fx():\n",
    "    \"\"\"Creates the d=2 weight vector for f(x) from \n",
    "       the random two points selected.\n",
    "       \n",
    "       Returns:\n",
    "       A tuple 2-items tuple representing (intercept, slope)\n",
    "    \"\"\"\n",
    "\n",
    "    point1 = np.random.uniform(-1, 1, (1, 2))[0]\n",
    "    point2 = np.random.uniform(-1, 1, (1, 2))[0] \n",
    "    w1 = (point2 - point1)[1] / (point2 - point1)[0]\n",
    "    w0 = point1[1] - w1 * point1[0]\n",
    "    w_fx = np.array((w0, w1))\n",
    "           \n",
    "    return w_fx"
   ]
  },
  {
   "cell_type": "markdown",
   "metadata": {},
   "source": [
    "# Let's create some helper functions to convert $\\mathbf w^T$ from $\\mathbb R^2 \\to \\mathbb R^3$ and $\\mathbb R^3 \\to \\mathbb R^2$ this will help with graphing and other functions"
   ]
  },
  {
   "cell_type": "code",
   "execution_count": 16,
   "metadata": {
    "collapsed": true
   },
   "outputs": [],
   "source": [
    "def w_3dim_to_2dim(w_3dim):\n",
    "    denom = w_3dim[2]\n",
    "    if denom == 0:\n",
    "        denom = 1e-2\n",
    "    return -(w_3dim/denom)[:2]\n",
    "\n",
    "# w_3dim_to_2dim = lambda w_3dim:  -(w_3dim/w_3dim[2])[:2]\n",
    "\n",
    "\n",
    "w_2dim_to_3dim = lambda w_2dim:  np.hstack((-w_2dim, 1))"
   ]
  },
  {
   "cell_type": "markdown",
   "metadata": {},
   "source": [
    "# Now let's make a function that creates some random points and labels!"
   ]
  },
  {
   "cell_type": "code",
   "execution_count": 17,
   "metadata": {
    "collapsed": true
   },
   "outputs": [],
   "source": [
    "def create_random_points_and_labels(N, weights_fx):\n",
    "    \"\"\"Creates N random points in the space of  [−1, 1] × [−1, 1]\n",
    "       and them labels them based on what side of of the line they\n",
    "       land on based on weights_fx.\n",
    "       \n",
    "    Args:\n",
    "    \n",
    "        N: Number of random points\n",
    "        weights_fx:  tuple representing (intercept, slope) of f(x)\n",
    "    \n",
    "    Returns:\n",
    "    \n",
    "        A tuple of the following items:\n",
    "            X: an N X D array representing the coordinates of of the points\n",
    "            Y: an N X 1 array representing +1 or -1 depending on which side of\n",
    "               the points land in relation to fx \n",
    "    \"\"\"\n",
    "    \n",
    "    X = np.hstack((np.ones((N, 1)), np.random.uniform(-1,1,(N,2))))\n",
    "    \n",
    "    w_fx = w_2dim_to_3dim (weights_fx)\n",
    "    score = np.dot(X, w_fx)\n",
    "    \n",
    "    Y = np.where(score > 0 , 1, -1)\n",
    "    Y = np.expand_dims(Y, 1) # need to change array into vector for calcs to work out!\n",
    "    \n",
    "    return(X, Y)"
   ]
  },
  {
   "cell_type": "markdown",
   "metadata": {},
   "source": [
    "# OK now let's make a PLA function based on our code.  This function will accept $\\mathcal X$, $y$ and  will return  $g_{\\tiny PLA}(x)$."
   ]
  },
  {
   "cell_type": "code",
   "execution_count": 18,
   "metadata": {
    "collapsed": true
   },
   "outputs": [],
   "source": [
    "def get_w_PLA(X, y):\n",
    "    \"\"\"Creates the d=2 weight vector for gx based on using PLA.\n",
    "       \n",
    "    Args:\n",
    "       \n",
    "        X: an N X D array representing the coordinates of of the points\n",
    "        y: an N X 1 array representing +1 or -1\n",
    "       \n",
    "       Returns:\n",
    "           \n",
    "           A tuple of the following items:\n",
    "            w0_g: represents intercept of g(x)\n",
    "            w1_g: represents slope of g(x)\n",
    "            n: the number of iterations needed for convergence\n",
    "               we will use that to answer the hw questions\n",
    "    \"\"\"\n",
    "    \n",
    "    converged = False\n",
    "    n = 0\n",
    "    w_g = np.zeros(3) # 0 weight vector\n",
    "                      # for d=2 we need to add extra dimension of for intercept\n",
    "                      # e.g. (1, x1, x2)\n",
    "    \n",
    "    while not converged:\n",
    "        converged = True\n",
    "        \n",
    "        # while the homework asks to choose a random misclassified point\n",
    "        # a for-loop essentially does the same job and doesn't affect \n",
    "        # the performance of the algorithm. In other texts the algorithm\n",
    "        # is stated as a for-loop\n",
    "        \n",
    "        for i in range(len(X)):\n",
    "            if y[i]*np.dot(w_g, X[i]) <= 0: # misclassified point?\n",
    "                n += 1 \n",
    "                w_g += y[i]*X[i]\n",
    "                converged = False\n",
    "                \n",
    "    return w_3dim_to_2dim(w_g)"
   ]
  },
  {
   "cell_type": "markdown",
   "metadata": {},
   "source": [
    "# OK now let's make a function based on our code.  This function will accept $\\mathcal X$, $y$ and  will return  $g_{svm}(x)$ and the number of support vectors."
   ]
  },
  {
   "cell_type": "code",
   "execution_count": 19,
   "metadata": {
    "collapsed": false
   },
   "outputs": [],
   "source": [
    "from cvxopt import matrix, solvers\n",
    "solvers.options['show_progress'] = False\n",
    "\n",
    "def get_w_svm(X, y):\n",
    "    X_2dim = X[:, 1:]\n",
    "    y = y.astype(np.double)\n",
    "    dim = y.shape[0]\n",
    "    \n",
    "    X_prime = X_2dim * y\n",
    "    P = np.dot(X_prime, X_prime.T)\n",
    "    P += np.diag(np.repeat(1e-14, dim))\n",
    "    G = -np.identity(dim)\n",
    "    h = np.zeros(dim)\n",
    "    q = -np.ones(dim)\n",
    "    b = np.zeros(dim)\n",
    "    A = np.tile(y.T, (dim, 1))\n",
    "    \n",
    "    P = matrix(P)\n",
    "    q = matrix(q)\n",
    "    G = matrix(G)\n",
    "    h = matrix(h)\n",
    "    A = matrix(y.T, (1,dim))\n",
    "    b = matrix(np.zeros(1))\n",
    "    \n",
    "    sol=solvers.qp(P=P, q=q, G=G, h=h, A=A, b=b)\n",
    "    \n",
    "    alpha = np.array(sol['x'])\n",
    "    alpha_zeroed = np.where(alpha < 0.5, 0, alpha)\n",
    "    num_support_vectors = len(np.where(alpha_zeroed)[0])\n",
    "                              \n",
    "    w = np.dot(alpha_zeroed.T, X_prime)[0]\n",
    "    alpha_idx = np.argmax(alpha_zeroed)\n",
    " \n",
    "    w0 = (1/y[alpha_idx] - np.dot(w, X_2dim[alpha_idx]))[0]\n",
    " \n",
    "   \n",
    "    w_SVM = w_3dim_to_2dim(np.hstack([w0, w]))\n",
    "    \n",
    "\n",
    "    return (w_SVM, num_support_vectors)"
   ]
  },
  {
   "cell_type": "markdown",
   "metadata": {},
   "source": [
    "# And make a helper plot function to see if our functions are working correctly."
   ]
  },
  {
   "cell_type": "code",
   "execution_count": 20,
   "metadata": {
    "collapsed": true
   },
   "outputs": [],
   "source": [
    "def plot_points_and_lines(weights_fx, weights_PLA, weights_SVM, X, y):\n",
    "    \"\"\"Creates the plot of f(x) and g(x) lines along with labeled points\n",
    "    \n",
    "       Args:\n",
    "        weights_fx:  tuple representing (intercept, slope) of f(x)\n",
    "        weights_gx:  tuple representing (intercept, slope) of g(x)\n",
    "        X: an N X D array representing the coordinates of of the points\n",
    "        y: an N X 1 array representing +1 or -1\n",
    "        \n",
    "    \"\"\"\n",
    "    \n",
    "    line = np.linspace(-1, 1, 1001) # points from 0-1000\n",
    "    \n",
    "    plt.plot(line, line * weights_fx[1]  + weights_fx[0],  label=\"$f(x)$\",              color='blue')  # makes f(x) line\n",
    "    plt.plot(line, line * weights_SVM[1] + weights_SVM[0], label=\"$g_{SVM}(x)$\",color='green') # makes SVM line\n",
    "    plt.plot(line, line * weights_PLA[1] + weights_PLA[0], label=\"$g_{PLA}(x)$\",color='red'  ) # makes PLA line\n",
    "\n",
    "    \n",
    "    plt.ylim(-1, 1)\n",
    "    plt.xlim(-1, 1)\n",
    "    \n",
    "    plt.scatter(X[:, 1][y.ravel()==1],  X[:, 2][y.ravel()== 1], marker=\"+\", c=(\"r\"), label=\"+\")\n",
    "    plt.scatter(X[:, 1][y.ravel()==-1], X[:, 2][y.ravel()==-1], marker=\"_\", c=(\"b\"), label=\"-\")# colored based on Y = +1 or -1\n",
    "    plt.legend(loc=\"best\")"
   ]
  },
  {
   "cell_type": "markdown",
   "metadata": {},
   "source": [
    "# Now we need to make a grid to get the area below the line!"
   ]
  },
  {
   "cell_type": "code",
   "execution_count": 21,
   "metadata": {
    "collapsed": true
   },
   "outputs": [],
   "source": [
    "def make_grid(num_points = 5001):\n",
    "    \"\"\"Creates a grid of points and in the space of [−1, 1] × [−1, 1]\n",
    "       We will use this to get the area of the negative regions of f(x) and g(x)\n",
    "    \n",
    "       Args:\n",
    "       num_points: represents the refinement of the grid\n",
    "                   more points ->  more precise area calculation\n",
    "                   \n",
    "       returns: N X 2 array representing the space of the graph\n",
    "    \"\"\"\n",
    "    \n",
    "    line = np.linspace(-1, 1, num_points)\n",
    "    grid = np.zeros((num_points, num_points, 2))\n",
    "    \n",
    "    for i in np.arange(num_points):\n",
    "        for j in np.arange(num_points):\n",
    "            grid[i,j] = np.array((line[i], line[j]))\n",
    "    \n",
    "    return grid.reshape(-1,2)"
   ]
  },
  {
   "cell_type": "markdown",
   "metadata": {},
   "source": [
    "# Now we use that grid to calculate the area under $f(x)$ and $g(x)$\n",
    "# We then take the difference!"
   ]
  },
  {
   "cell_type": "code",
   "execution_count": 22,
   "metadata": {
    "collapsed": true
   },
   "outputs": [],
   "source": [
    "def get_disagreement(weights_fx, weights_gx, grid):\n",
    "    \"\"\" Calculates P[f(x) != g(x)] by taking the absolute difference\n",
    "        of the areas of the negative region (doesn't matter which region you take)\n",
    "        \n",
    "        Args:         \n",
    "        weights_fx:  tuple representing (intercept, slope) of f(x)\n",
    "        weights_gx:  tuple representing (intercept, slope) of g(x)\n",
    "        grid: N X 2 array representing the space of the graph\n",
    "\n",
    "        returns: number between 0 and 1 representing probability \n",
    "        \"\"\"\n",
    "    \n",
    "    total_points = grid.shape[0]\n",
    "    \n",
    "    area_fx = (((grid[:, 1] - grid[:, 0] * weights_fx[1] - weights_fx[0]) <= 0) # sum of points in negative\n",
    "               .sum() / total_points)                                           # region divided by total points\n",
    "    \n",
    "    area_gx = (((grid[:, 1] - grid[:, 0] * weights_gx[1] - weights_gx[0]) <= 0)\n",
    "               .sum() / total_points)\n",
    "    \n",
    "    return abs(area_fx - area_gx) "
   ]
  },
  {
   "cell_type": "code",
   "execution_count": 23,
   "metadata": {
    "collapsed": true
   },
   "outputs": [],
   "source": [
    "grid = make_grid()"
   ]
  },
  {
   "cell_type": "code",
   "execution_count": 24,
   "metadata": {
    "collapsed": false,
    "scrolled": false
   },
   "outputs": [],
   "source": [
    "w_fx = make_weights_for_fx()\n",
    "X, y = create_random_points_and_labels(100, w_fx)"
   ]
  },
  {
   "cell_type": "code",
   "execution_count": 25,
   "metadata": {
    "collapsed": false,
    "scrolled": true
   },
   "outputs": [
    {
     "name": "stdout",
     "output_type": "stream",
     "text": [
      "[ 0.19327894 -0.43349855]\n"
     ]
    }
   ],
   "source": [
    "w_PLA = get_w_PLA(X, y)\n",
    "print(w_PLA)"
   ]
  },
  {
   "cell_type": "code",
   "execution_count": 26,
   "metadata": {
    "collapsed": false,
    "scrolled": false
   },
   "outputs": [
    {
     "name": "stdout",
     "output_type": "stream",
     "text": [
      "[ 0.17005069 -0.45715106]\n",
      "3\n"
     ]
    }
   ],
   "source": [
    "w_SVM = get_w_svm(X, y)[0]\n",
    "num_support_vectors = get_w_svm(X, y)[1]\n",
    "\n",
    "print(w_SVM)\n",
    "print(num_support_vectors)"
   ]
  },
  {
   "cell_type": "code",
   "execution_count": 27,
   "metadata": {
    "collapsed": false,
    "scrolled": false
   },
   "outputs": [
    {
     "data": {
      "image/png": "[encoded data removed]",
      "text/plain": [
       "<matplotlib.figure.Figure at 0x109bc6198>"
      ]
     },
     "metadata": {},
     "output_type": "display_data"
    }
   ],
   "source": [
    "plot_points_and_lines(w_fx, w_PLA, w_SVM, X, y)"
   ]
  },
  {
   "cell_type": "code",
   "execution_count": 28,
   "metadata": {
    "collapsed": false,
    "scrolled": false
   },
   "outputs": [
    {
     "data": {
      "text/plain": [
       "0.0057148738218762984"
      ]
     },
     "execution_count": 28,
     "metadata": {},
     "output_type": "execute_result"
    }
   ],
   "source": [
    "get_disagreement(w_fx, w_SVM, grid)"
   ]
  },
  {
   "cell_type": "code",
   "execution_count": 29,
   "metadata": {
    "collapsed": false
   },
   "outputs": [
    {
     "data": {
      "text/plain": [
       "0.0058970009637344667"
      ]
     },
     "execution_count": 29,
     "metadata": {},
     "output_type": "execute_result"
    }
   ],
   "source": [
    "get_disagreement(w_fx, w_PLA, grid)"
   ]
  },
  {
   "cell_type": "markdown",
   "metadata": {
    "collapsed": false
   },
   "source": [
    "# Improvement is defined as $P[f(x) \\neq g_{\\tiny SVM}(x)] \\lt\n",
    "                                            P[f(x) \\neq g_{\\tiny PLA}(x)]$"
   ]
  },
  {
   "cell_type": "code",
   "execution_count": 30,
   "metadata": {
    "collapsed": false
   },
   "outputs": [
    {
     "name": "stdout",
     "output_type": "stream",
     "text": [
      "g_SVM is better than g_PLA is True\n"
     ]
    }
   ],
   "source": [
    "error_SVM = get_disagreement(w_fx, w_SVM, grid)\n",
    "error_PLA = get_disagreement(w_fx, w_PLA, grid)\n",
    "improvmement = bool(error_SVM < error_PLA)\n",
    "print(\"g_SVM is better than g_PLA is {}\".format(improvmement))"
   ]
  },
  {
   "cell_type": "markdown",
   "metadata": {},
   "source": [
    "# Now we create a function that combines all the previous functions\n",
    "# And runs them multiple times to get an average disagreement."
   ]
  },
  {
   "cell_type": "code",
   "execution_count": 31,
   "metadata": {
    "collapsed": true
   },
   "outputs": [],
   "source": [
    "def experiment(N=10, trials = 1000):\n",
    "    \"\"\" Calculates SVM algorithm multiple times and gets\n",
    "        the average of:\n",
    "            1) the number of iterations needed for convergence\n",
    "            2) Average P[f(x) != g(x)]\n",
    "\n",
    "        args: \n",
    "        N: number of data points\n",
    "        trials: number of trials that are averaged \n",
    "        \"\"\"\n",
    "    \n",
    "    SVM_improvements             = np.zeros(trials)\n",
    "    num_support_vector_list      = np.zeros(trials)\n",
    "    \n",
    "    for trial in range(trials):\n",
    "        w_fx = make_weights_for_fx()\n",
    "        X, y = create_random_points_and_labels(N, w_fx)[:2]\n",
    "        \n",
    "        get_svm_values = get_w_svm(X, y)\n",
    "        w_SVM = get_svm_values[0]\n",
    "        num_support_vectors = get_svm_values[1]\n",
    "        \n",
    "        w_PLA = get_w_PLA(X, y)\n",
    "        \n",
    "        SVM_error = get_disagreement(w_fx, w_SVM, grid)\n",
    "        PLA_error = get_disagreement(w_fx, w_PLA, grid)\n",
    "        is_improved = SVM_error < PLA_error\n",
    "        \n",
    "        SVM_improvements[trial] = is_improved\n",
    "        num_support_vector_list[trial] = num_support_vectors\n",
    "    \n",
    "    \n",
    "    avg_improvement     = np.mean(SVM_improvements)\n",
    "    avg_support_vectors = np.mean(num_support_vector_list)\n",
    "        \n",
    "    return (avg_improvement, avg_support_vectors)"
   ]
  },
  {
   "cell_type": "code",
   "execution_count": 32,
   "metadata": {
    "collapsed": false,
    "scrolled": false
   },
   "outputs": [
    {
     "name": "stdout",
     "output_type": "stream",
     "text": [
      "g(x)SVM is better than g(x)PLA 60% of the time\n"
     ]
    }
   ],
   "source": [
    "avg_improvement_10 = experiment(N=10, trials=1000)[0]\n",
    "\n",
    "print(\"g(x)SVM is better than g(x)PLA {}% of the time\".format(int(avg_improvement_10 * 100)))"
   ]
  },
  {
   "cell_type": "code",
   "execution_count": 33,
   "metadata": {
    "collapsed": false,
    "scrolled": true
   },
   "outputs": [],
   "source": [
    "avg_improvment_100, avg_num_support_vectors = experiment(N=100, trials = 1000)"
   ]
  },
  {
   "cell_type": "code",
   "execution_count": 34,
   "metadata": {
    "collapsed": false
   },
   "outputs": [
    {
     "name": "stdout",
     "output_type": "stream",
     "text": [
      "g(x)SVM is better than g(x)PLA 62.2% of the time\n",
      "The average number of support vectors from SVM is 3.0\n"
     ]
    }
   ],
   "source": [
    "print(\"g(x)SVM is better than g(x)PLA {}% of the time\".format(round(avg_improvment_100 * 100,2)))\n",
    "print(\"The average number of support vectors from SVM is {}\".format(round(avg_num_support_vectors)))"
   ]
  }
 ],
 "metadata": {
  "kernelspec": {
   "display_name": "Python 3",
   "language": "python",
   "name": "python3"
  },
  "language_info": {
   "codemirror_mode": {
    "name": "ipython",
    "version": 3
   },
   "file_extension": ".py",
   "mimetype": "text/x-python",
   "name": "python",
   "nbconvert_exporter": "python",
   "pygments_lexer": "ipython3",
   "version": "3.5.2"
  }
 },
 "nbformat": 4,
 "nbformat_minor": 1
}
